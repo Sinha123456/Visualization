{
 "cells": [
  {
   "cell_type": "code",
   "execution_count": 1,
   "metadata": {
    "colab": {
     "base_uri": "https://localhost:8080/"
    },
    "id": "paqO3aRkl4PE",
    "outputId": "4986802c-81ca-4314-db73-e908e2c19b3e",
    "slideshow": {
     "slide_type": "skip"
    }
   },
   "outputs": [],
   "source": [
    "# from google.colab import drive\n",
    "# drive.mount('/content/drive')"
   ]
  },
  {
   "cell_type": "markdown",
   "metadata": {
    "id": "KN3khR5QoEMP",
    "slideshow": {
     "slide_type": "slide"
    }
   },
   "source": [
    "# Ford GoBike ride Data Exploration\n",
    "by Neetu Sinha"
   ]
  },
  {
   "cell_type": "markdown",
   "metadata": {
    "id": "A5bvHXi_puVZ",
    "slideshow": {
     "slide_type": "slide"
    }
   },
   "source": [
    "# DataSet\n",
    "\n",
    "That dataset consists of reagarding 183412 bike trip with different stations, In that data set we have 16 columns.\n",
    "bike rider rent different types of bike with their interest, and they start their trip with certain date/time and station/longitute/letitude. After certain minutes/ hour riding rented bike and then they stopped in certain bike station.\n",
    "Sometimes bikehshare.com in bayarea also provide a certain discount, for those who are underprivileged. In the dataset we have a coloumn  \tbike_share_for_all_trip, that column is related about that kind of discount No means didn't get discount and yes they got discount in user type.\n",
    "\n",
    "For more information about it, you can read it in here https://www.bikeshareforall.org/ride\n",
    "\n",
    "bike ride share data is provided by Udacity, but you can also get that from that website.\n",
    "https://www.bikeshare.com/data/\n",
    "\n",
    " That website is provided data  for analysis of different stats, you can choose your favorite state for bike ride share analysis.\n"
   ]
  },
  {
   "cell_type": "markdown",
   "metadata": {
    "id": "IyQsrROrwUkP",
    "slideshow": {
     "slide_type": "skip"
    }
   },
   "source": [
    "# Preliminary Wrangling\n",
    "\n",
    "Ford go bike data set very dirty and untidy, need to make it clean and tidy.\n",
    "We have some missing values, member_birth_year column is not consistent, all dataype are not according to attributes, need to change them, dropped nan values and unneccessary columns, extracted values from the columns.Made data nice and clean."
   ]
  },
  {
   "cell_type": "code",
   "execution_count": 2,
   "metadata": {
    "id": "k_HVN2XVmKDJ",
    "slideshow": {
     "slide_type": "skip"
    }
   },
   "outputs": [],
   "source": [
    "#importing packages throughout use for that analysis.\n",
    "import pandas as pd\n",
    "import numpy as np\n",
    "import matplotlib.pyplot as plt\n",
    "import seaborn as sns\n",
    "%matplotlib inline"
   ]
  },
  {
   "cell_type": "code",
   "execution_count": 3,
   "metadata": {
    "colab": {
     "base_uri": "https://localhost:8080/",
     "height": 348
    },
    "id": "VvXS0yQFma0L",
    "outputId": "c06d51d5-afe5-4797-e67f-a7e4409b6d52",
    "slideshow": {
     "slide_type": "skip"
    }
   },
   "outputs": [],
   "source": [
    "#read the file and print few lines\n",
    "# fordgobike = pd.read_csv('/content/drive/MyDrive/Colab Notebooks/udacity_projects/201902-fordgobike-tripdata.csv')\n",
    "# fordgobike.head()\n",
    "fordgobike = pd.read_csv('201902-fordgobike-tripdata.csv')"
   ]
  },
  {
   "cell_type": "code",
   "execution_count": 4,
   "metadata": {
    "colab": {
     "base_uri": "https://localhost:8080/"
    },
    "id": "pEBAfDRNm5DW",
    "outputId": "245d0564-d0b2-41e8-fc3c-fd88bd7698d4",
    "slideshow": {
     "slide_type": "skip"
    }
   },
   "outputs": [
    {
     "name": "stdout",
     "output_type": "stream",
     "text": [
      "(183412, 16)\n",
      "Index(['duration_sec', 'start_time', 'end_time', 'start_station_id',\n",
      "       'start_station_name', 'start_station_latitude',\n",
      "       'start_station_longitude', 'end_station_id', 'end_station_name',\n",
      "       'end_station_latitude', 'end_station_longitude', 'bike_id', 'user_type',\n",
      "       'member_birth_year', 'member_gender', 'bike_share_for_all_trip'],\n",
      "      dtype='object')\n",
      "        duration_sec  start_station_id  start_station_latitude  \\\n",
      "count  183412.000000     183215.000000           183412.000000   \n",
      "mean      726.078435        138.590427               37.771223   \n",
      "std      1794.389780        111.778864                0.099581   \n",
      "min        61.000000          3.000000               37.317298   \n",
      "25%       325.000000         47.000000               37.770083   \n",
      "50%       514.000000        104.000000               37.780760   \n",
      "75%       796.000000        239.000000               37.797280   \n",
      "max     85444.000000        398.000000               37.880222   \n",
      "\n",
      "       start_station_longitude  end_station_id  end_station_latitude  \\\n",
      "count            183412.000000   183215.000000         183412.000000   \n",
      "mean               -122.352664      136.249123             37.771427   \n",
      "std                   0.117097      111.515131              0.099490   \n",
      "min                -122.453704        3.000000             37.317298   \n",
      "25%                -122.412408       44.000000             37.770407   \n",
      "50%                -122.398285      100.000000             37.781010   \n",
      "75%                -122.286533      235.000000             37.797320   \n",
      "max                -121.874119      398.000000             37.880222   \n",
      "\n",
      "       end_station_longitude        bike_id  member_birth_year  \n",
      "count          183412.000000  183412.000000      175147.000000  \n",
      "mean             -122.352250    4472.906375        1984.806437  \n",
      "std                 0.116673    1664.383394          10.116689  \n",
      "min              -122.453704      11.000000        1878.000000  \n",
      "25%              -122.411726    3777.000000        1980.000000  \n",
      "50%              -122.398279    4958.000000        1987.000000  \n",
      "75%              -122.288045    5502.000000        1992.000000  \n",
      "max              -121.874119    6645.000000        2001.000000  \n"
     ]
    }
   ],
   "source": [
    "#check the shape, columns and description of bike dataset.\n",
    "print(fordgobike.shape)\n",
    "print(fordgobike.columns)\n",
    "print(fordgobike.describe())"
   ]
  },
  {
   "cell_type": "markdown",
   "metadata": {
    "id": "as3WOm12yJB6",
    "slideshow": {
     "slide_type": "skip"
    }
   },
   "source": [
    "What is the structure of your dataset?\n",
    "\n",
    "(183412, 16)"
   ]
  },
  {
   "cell_type": "markdown",
   "metadata": {
    "id": "ajCXm1ayyZWo",
    "slideshow": {
     "slide_type": "skip"
    }
   },
   "source": [
    "What is/are the main feature(s) of interest in your dataset?\n",
    "\n",
    "most interesting feature is duration of seconds, how long users ride their bikes, and user type, user type can tell you how often people rent bikes or they have a monthly subscription or weekly. Time, day, subscription are these variables are important for analysis, we can see how many users have annual subscription, and customers who rent bikes for a day or week. What age limit of users rent a bike most and least.\n",
    "\n",
    "What features in the dataset do you think will help support your investigation into your feature(s) of interest?\n",
    "\n",
    "Other interesting features are  start_time, end_time, stations, longitute, latitue, member_gender.\n",
    "Do users like certain station to start and end their trip?\n",
    "\n",
    "Which longitude and latitude they prefer to ride bike?\n",
    "\n",
    "Which time and date are they available for bike trip? Do they use bike as a transportation or for fun?\n",
    "\n",
    "What is the age limit of bikers?\n",
    "\n",
    "Is more male rent bikes than female?\n",
    "All answers will be below after visualization.\n"
   ]
  },
  {
   "cell_type": "markdown",
   "metadata": {
    "id": "BoAqCfO-GjPP",
    "slideshow": {
     "slide_type": "skip"
    }
   },
   "source": [
    "## Assessing"
   ]
  },
  {
   "cell_type": "code",
   "execution_count": 5,
   "metadata": {
    "colab": {
     "base_uri": "https://localhost:8080/"
    },
    "id": "RXr7dj8UqPNx",
    "outputId": "17646f10-f685-4fd0-e817-d89dd577ab82",
    "slideshow": {
     "slide_type": "skip"
    }
   },
   "outputs": [
    {
     "name": "stdout",
     "output_type": "stream",
     "text": [
      "<class 'pandas.core.frame.DataFrame'>\n",
      "RangeIndex: 183412 entries, 0 to 183411\n",
      "Data columns (total 16 columns):\n",
      "duration_sec               183412 non-null int64\n",
      "start_time                 183412 non-null object\n",
      "end_time                   183412 non-null object\n",
      "start_station_id           183215 non-null float64\n",
      "start_station_name         183215 non-null object\n",
      "start_station_latitude     183412 non-null float64\n",
      "start_station_longitude    183412 non-null float64\n",
      "end_station_id             183215 non-null float64\n",
      "end_station_name           183215 non-null object\n",
      "end_station_latitude       183412 non-null float64\n",
      "end_station_longitude      183412 non-null float64\n",
      "bike_id                    183412 non-null int64\n",
      "user_type                  183412 non-null object\n",
      "member_birth_year          175147 non-null float64\n",
      "member_gender              175147 non-null object\n",
      "bike_share_for_all_trip    183412 non-null object\n",
      "dtypes: float64(7), int64(2), object(7)\n",
      "memory usage: 22.4+ MB\n"
     ]
    }
   ],
   "source": [
    "#information of the dataset.\n",
    "fordgobike.info()"
   ]
  },
  {
   "cell_type": "code",
   "execution_count": 6,
   "metadata": {
    "colab": {
     "base_uri": "https://localhost:8080/"
    },
    "id": "QWkLAngBxxuy",
    "outputId": "26a7695a-c93d-4d1e-c12e-2a1f51182a6f",
    "slideshow": {
     "slide_type": "skip"
    }
   },
   "outputs": [
    {
     "data": {
      "text/plain": [
       "0"
      ]
     },
     "execution_count": 6,
     "metadata": {},
     "output_type": "execute_result"
    }
   ],
   "source": [
    "#check the duplicates\n",
    "fordgobike.duplicated().sum()"
   ]
  },
  {
   "cell_type": "code",
   "execution_count": 7,
   "metadata": {
    "colab": {
     "base_uri": "https://localhost:8080/"
    },
    "id": "ESzgo53Hpcqb",
    "outputId": "92984d3c-cf13-4b2b-81c8-538f28ce9103",
    "slideshow": {
     "slide_type": "skip"
    }
   },
   "outputs": [
    {
     "data": {
      "text/plain": [
       "duration_sec                  0\n",
       "start_time                    0\n",
       "end_time                      0\n",
       "start_station_id            197\n",
       "start_station_name          197\n",
       "start_station_latitude        0\n",
       "start_station_longitude       0\n",
       "end_station_id              197\n",
       "end_station_name            197\n",
       "end_station_latitude          0\n",
       "end_station_longitude         0\n",
       "bike_id                       0\n",
       "user_type                     0\n",
       "member_birth_year          8265\n",
       "member_gender              8265\n",
       "bike_share_for_all_trip       0\n",
       "dtype: int64"
      ]
     },
     "execution_count": 7,
     "metadata": {},
     "output_type": "execute_result"
    }
   ],
   "source": [
    "#check the Nan values, we have nan values in start_station_id, start_staion_name, end_station_id, end_station_name, member_birth_year and member_gender.\n",
    "fordgobike.isna().sum()"
   ]
  },
  {
   "cell_type": "code",
   "execution_count": 8,
   "metadata": {
    "colab": {
     "base_uri": "https://localhost:8080/",
     "height": 1000
    },
    "id": "xQ2KvgbL8nHh",
    "outputId": "6415eddc-818d-43ae-b8ef-7f2b040c3d97",
    "slideshow": {
     "slide_type": "skip"
    }
   },
   "outputs": [
    {
     "data": {
      "text/html": [
       "<div>\n",
       "<style scoped>\n",
       "    .dataframe tbody tr th:only-of-type {\n",
       "        vertical-align: middle;\n",
       "    }\n",
       "\n",
       "    .dataframe tbody tr th {\n",
       "        vertical-align: top;\n",
       "    }\n",
       "\n",
       "    .dataframe thead th {\n",
       "        text-align: right;\n",
       "    }\n",
       "</style>\n",
       "<table border=\"1\" class=\"dataframe\">\n",
       "  <thead>\n",
       "    <tr style=\"text-align: right;\">\n",
       "      <th></th>\n",
       "      <th>duration_sec</th>\n",
       "      <th>start_time</th>\n",
       "      <th>end_time</th>\n",
       "      <th>start_station_id</th>\n",
       "      <th>start_station_name</th>\n",
       "      <th>start_station_latitude</th>\n",
       "      <th>start_station_longitude</th>\n",
       "      <th>end_station_id</th>\n",
       "      <th>end_station_name</th>\n",
       "      <th>end_station_latitude</th>\n",
       "      <th>end_station_longitude</th>\n",
       "      <th>bike_id</th>\n",
       "      <th>user_type</th>\n",
       "      <th>member_birth_year</th>\n",
       "      <th>member_gender</th>\n",
       "      <th>bike_share_for_all_trip</th>\n",
       "    </tr>\n",
       "  </thead>\n",
       "  <tbody>\n",
       "    <tr>\n",
       "      <th>132119</th>\n",
       "      <td>96</td>\n",
       "      <td>2019-02-09 09:38:13.4900</td>\n",
       "      <td>2019-02-09 09:39:50.4210</td>\n",
       "      <td>47.0</td>\n",
       "      <td>4th St at Harrison St</td>\n",
       "      <td>37.780955</td>\n",
       "      <td>-122.399749</td>\n",
       "      <td>321.0</td>\n",
       "      <td>5th St at Folsom</td>\n",
       "      <td>37.780146</td>\n",
       "      <td>-122.403071</td>\n",
       "      <td>5024</td>\n",
       "      <td>Subscriber</td>\n",
       "      <td>1989.0</td>\n",
       "      <td>Male</td>\n",
       "      <td>No</td>\n",
       "    </tr>\n",
       "    <tr>\n",
       "      <th>124879</th>\n",
       "      <td>607</td>\n",
       "      <td>2019-02-11 08:09:26.3580</td>\n",
       "      <td>2019-02-11 08:19:34.0200</td>\n",
       "      <td>211.0</td>\n",
       "      <td>Broadway at 40th St</td>\n",
       "      <td>37.827757</td>\n",
       "      <td>-122.256716</td>\n",
       "      <td>181.0</td>\n",
       "      <td>Grand Ave at Webster St</td>\n",
       "      <td>37.811377</td>\n",
       "      <td>-122.265192</td>\n",
       "      <td>1207</td>\n",
       "      <td>Subscriber</td>\n",
       "      <td>1992.0</td>\n",
       "      <td>Female</td>\n",
       "      <td>No</td>\n",
       "    </tr>\n",
       "    <tr>\n",
       "      <th>1771</th>\n",
       "      <td>188</td>\n",
       "      <td>2019-02-28 18:47:35.1860</td>\n",
       "      <td>2019-02-28 18:50:44.0630</td>\n",
       "      <td>58.0</td>\n",
       "      <td>Market St at 10th St</td>\n",
       "      <td>37.776619</td>\n",
       "      <td>-122.417385</td>\n",
       "      <td>75.0</td>\n",
       "      <td>Market St at Franklin St</td>\n",
       "      <td>37.773793</td>\n",
       "      <td>-122.421239</td>\n",
       "      <td>2560</td>\n",
       "      <td>Subscriber</td>\n",
       "      <td>1988.0</td>\n",
       "      <td>Male</td>\n",
       "      <td>No</td>\n",
       "    </tr>\n",
       "    <tr>\n",
       "      <th>22282</th>\n",
       "      <td>1128</td>\n",
       "      <td>2019-02-26 08:07:08.9560</td>\n",
       "      <td>2019-02-26 08:25:57.5610</td>\n",
       "      <td>137.0</td>\n",
       "      <td>Jersey St at Castro St</td>\n",
       "      <td>37.750506</td>\n",
       "      <td>-122.433950</td>\n",
       "      <td>21.0</td>\n",
       "      <td>Montgomery St BART Station (Market St at 2nd St)</td>\n",
       "      <td>37.789625</td>\n",
       "      <td>-122.400811</td>\n",
       "      <td>6120</td>\n",
       "      <td>Customer</td>\n",
       "      <td>1992.0</td>\n",
       "      <td>Male</td>\n",
       "      <td>No</td>\n",
       "    </tr>\n",
       "    <tr>\n",
       "      <th>146280</th>\n",
       "      <td>1354</td>\n",
       "      <td>2019-02-07 08:37:04.6170</td>\n",
       "      <td>2019-02-07 08:59:39.1170</td>\n",
       "      <td>97.0</td>\n",
       "      <td>14th St at Mission St</td>\n",
       "      <td>37.768265</td>\n",
       "      <td>-122.420110</td>\n",
       "      <td>11.0</td>\n",
       "      <td>Davis St at Jackson St</td>\n",
       "      <td>37.797280</td>\n",
       "      <td>-122.398436</td>\n",
       "      <td>110</td>\n",
       "      <td>Subscriber</td>\n",
       "      <td>1988.0</td>\n",
       "      <td>Female</td>\n",
       "      <td>No</td>\n",
       "    </tr>\n",
       "    <tr>\n",
       "      <th>18834</th>\n",
       "      <td>183</td>\n",
       "      <td>2019-02-26 17:58:28.5660</td>\n",
       "      <td>2019-02-26 18:01:31.6650</td>\n",
       "      <td>241.0</td>\n",
       "      <td>Ashby BART Station</td>\n",
       "      <td>37.852477</td>\n",
       "      <td>-122.270213</td>\n",
       "      <td>385.0</td>\n",
       "      <td>Woolsey St at Sacramento St</td>\n",
       "      <td>37.850578</td>\n",
       "      <td>-122.278175</td>\n",
       "      <td>752</td>\n",
       "      <td>Subscriber</td>\n",
       "      <td>1996.0</td>\n",
       "      <td>Female</td>\n",
       "      <td>No</td>\n",
       "    </tr>\n",
       "    <tr>\n",
       "      <th>55847</th>\n",
       "      <td>620</td>\n",
       "      <td>2019-02-21 09:30:11.2360</td>\n",
       "      <td>2019-02-21 09:40:31.3990</td>\n",
       "      <td>115.0</td>\n",
       "      <td>Jackson Playground</td>\n",
       "      <td>37.765026</td>\n",
       "      <td>-122.398773</td>\n",
       "      <td>284.0</td>\n",
       "      <td>Yerba Buena Center for the Arts (Howard St at ...</td>\n",
       "      <td>37.784872</td>\n",
       "      <td>-122.400876</td>\n",
       "      <td>4936</td>\n",
       "      <td>Subscriber</td>\n",
       "      <td>1993.0</td>\n",
       "      <td>Male</td>\n",
       "      <td>No</td>\n",
       "    </tr>\n",
       "    <tr>\n",
       "      <th>9505</th>\n",
       "      <td>187</td>\n",
       "      <td>2019-02-28 07:02:22.7540</td>\n",
       "      <td>2019-02-28 07:05:30.3570</td>\n",
       "      <td>3.0</td>\n",
       "      <td>Powell St BART Station (Market St at 4th St)</td>\n",
       "      <td>37.786375</td>\n",
       "      <td>-122.404904</td>\n",
       "      <td>349.0</td>\n",
       "      <td>Howard St at Mary St</td>\n",
       "      <td>37.781010</td>\n",
       "      <td>-122.405666</td>\n",
       "      <td>1123</td>\n",
       "      <td>Subscriber</td>\n",
       "      <td>1981.0</td>\n",
       "      <td>Female</td>\n",
       "      <td>No</td>\n",
       "    </tr>\n",
       "    <tr>\n",
       "      <th>53556</th>\n",
       "      <td>2161</td>\n",
       "      <td>2019-02-21 14:59:12.7470</td>\n",
       "      <td>2019-02-21 15:35:14.0070</td>\n",
       "      <td>115.0</td>\n",
       "      <td>Jackson Playground</td>\n",
       "      <td>37.765026</td>\n",
       "      <td>-122.398773</td>\n",
       "      <td>115.0</td>\n",
       "      <td>Jackson Playground</td>\n",
       "      <td>37.765026</td>\n",
       "      <td>-122.398773</td>\n",
       "      <td>5007</td>\n",
       "      <td>Subscriber</td>\n",
       "      <td>1974.0</td>\n",
       "      <td>Male</td>\n",
       "      <td>No</td>\n",
       "    </tr>\n",
       "    <tr>\n",
       "      <th>6066</th>\n",
       "      <td>2137</td>\n",
       "      <td>2019-02-28 10:48:21.8650</td>\n",
       "      <td>2019-02-28 11:23:59.3470</td>\n",
       "      <td>28.0</td>\n",
       "      <td>The Embarcadero at Bryant St</td>\n",
       "      <td>37.787168</td>\n",
       "      <td>-122.388098</td>\n",
       "      <td>14.0</td>\n",
       "      <td>Clay St at Battery St</td>\n",
       "      <td>37.795001</td>\n",
       "      <td>-122.399970</td>\n",
       "      <td>3247</td>\n",
       "      <td>Subscriber</td>\n",
       "      <td>1988.0</td>\n",
       "      <td>Female</td>\n",
       "      <td>No</td>\n",
       "    </tr>\n",
       "    <tr>\n",
       "      <th>38242</th>\n",
       "      <td>457</td>\n",
       "      <td>2019-02-23 12:24:55.7510</td>\n",
       "      <td>2019-02-23 12:32:32.9070</td>\n",
       "      <td>41.0</td>\n",
       "      <td>Golden Gate Ave at Polk St</td>\n",
       "      <td>37.781270</td>\n",
       "      <td>-122.418740</td>\n",
       "      <td>98.0</td>\n",
       "      <td>Valencia St at 16th St</td>\n",
       "      <td>37.765052</td>\n",
       "      <td>-122.421866</td>\n",
       "      <td>6294</td>\n",
       "      <td>Subscriber</td>\n",
       "      <td>1986.0</td>\n",
       "      <td>Male</td>\n",
       "      <td>No</td>\n",
       "    </tr>\n",
       "    <tr>\n",
       "      <th>95206</th>\n",
       "      <td>2393</td>\n",
       "      <td>2019-02-15 14:06:48.5980</td>\n",
       "      <td>2019-02-15 14:46:42.2020</td>\n",
       "      <td>89.0</td>\n",
       "      <td>Division St at Potrero Ave</td>\n",
       "      <td>37.769218</td>\n",
       "      <td>-122.407646</td>\n",
       "      <td>15.0</td>\n",
       "      <td>San Francisco Ferry Building (Harry Bridges Pl...</td>\n",
       "      <td>37.795392</td>\n",
       "      <td>-122.394203</td>\n",
       "      <td>6591</td>\n",
       "      <td>Customer</td>\n",
       "      <td>NaN</td>\n",
       "      <td>NaN</td>\n",
       "      <td>No</td>\n",
       "    </tr>\n",
       "    <tr>\n",
       "      <th>72524</th>\n",
       "      <td>548</td>\n",
       "      <td>2019-02-19 16:12:25.9860</td>\n",
       "      <td>2019-02-19 16:21:34.2780</td>\n",
       "      <td>139.0</td>\n",
       "      <td>Garfield Square (25th St at Harrison St)</td>\n",
       "      <td>37.751017</td>\n",
       "      <td>-122.411901</td>\n",
       "      <td>114.0</td>\n",
       "      <td>Rhode Island St at 17th St</td>\n",
       "      <td>37.764478</td>\n",
       "      <td>-122.402570</td>\n",
       "      <td>4317</td>\n",
       "      <td>Customer</td>\n",
       "      <td>1983.0</td>\n",
       "      <td>Male</td>\n",
       "      <td>No</td>\n",
       "    </tr>\n",
       "    <tr>\n",
       "      <th>136272</th>\n",
       "      <td>638</td>\n",
       "      <td>2019-02-08 10:08:29.7810</td>\n",
       "      <td>2019-02-08 10:19:08.7210</td>\n",
       "      <td>336.0</td>\n",
       "      <td>Potrero Ave and Mariposa St</td>\n",
       "      <td>37.763281</td>\n",
       "      <td>-122.407377</td>\n",
       "      <td>66.0</td>\n",
       "      <td>3rd St at Townsend St</td>\n",
       "      <td>37.778742</td>\n",
       "      <td>-122.392741</td>\n",
       "      <td>2677</td>\n",
       "      <td>Subscriber</td>\n",
       "      <td>1990.0</td>\n",
       "      <td>Male</td>\n",
       "      <td>No</td>\n",
       "    </tr>\n",
       "    <tr>\n",
       "      <th>92860</th>\n",
       "      <td>325</td>\n",
       "      <td>2019-02-15 18:19:48.1490</td>\n",
       "      <td>2019-02-15 18:25:13.9600</td>\n",
       "      <td>8.0</td>\n",
       "      <td>The Embarcadero at Vallejo St</td>\n",
       "      <td>37.799953</td>\n",
       "      <td>-122.398525</td>\n",
       "      <td>17.0</td>\n",
       "      <td>Embarcadero BART Station (Beale St at Market St)</td>\n",
       "      <td>37.792251</td>\n",
       "      <td>-122.397086</td>\n",
       "      <td>167</td>\n",
       "      <td>Subscriber</td>\n",
       "      <td>1974.0</td>\n",
       "      <td>Female</td>\n",
       "      <td>Yes</td>\n",
       "    </tr>\n",
       "    <tr>\n",
       "      <th>142694</th>\n",
       "      <td>556</td>\n",
       "      <td>2019-02-07 16:50:30.1570</td>\n",
       "      <td>2019-02-07 16:59:46.1630</td>\n",
       "      <td>193.0</td>\n",
       "      <td>Grand Ave at Santa Clara Ave</td>\n",
       "      <td>37.812744</td>\n",
       "      <td>-122.247215</td>\n",
       "      <td>200.0</td>\n",
       "      <td>2nd Ave at E 18th St</td>\n",
       "      <td>37.800214</td>\n",
       "      <td>-122.253810</td>\n",
       "      <td>4753</td>\n",
       "      <td>Subscriber</td>\n",
       "      <td>1980.0</td>\n",
       "      <td>Other</td>\n",
       "      <td>No</td>\n",
       "    </tr>\n",
       "    <tr>\n",
       "      <th>67174</th>\n",
       "      <td>492</td>\n",
       "      <td>2019-02-20 08:11:27.0940</td>\n",
       "      <td>2019-02-20 08:19:39.5000</td>\n",
       "      <td>116.0</td>\n",
       "      <td>Mississippi St at 17th St</td>\n",
       "      <td>37.764802</td>\n",
       "      <td>-122.394771</td>\n",
       "      <td>66.0</td>\n",
       "      <td>3rd St at Townsend St</td>\n",
       "      <td>37.778742</td>\n",
       "      <td>-122.392741</td>\n",
       "      <td>6107</td>\n",
       "      <td>Subscriber</td>\n",
       "      <td>1989.0</td>\n",
       "      <td>Male</td>\n",
       "      <td>No</td>\n",
       "    </tr>\n",
       "    <tr>\n",
       "      <th>181892</th>\n",
       "      <td>217</td>\n",
       "      <td>2019-02-01 08:51:03.9000</td>\n",
       "      <td>2019-02-01 08:54:41.0930</td>\n",
       "      <td>385.0</td>\n",
       "      <td>Woolsey St at Sacramento St</td>\n",
       "      <td>37.850578</td>\n",
       "      <td>-122.278175</td>\n",
       "      <td>241.0</td>\n",
       "      <td>Ashby BART Station</td>\n",
       "      <td>37.852477</td>\n",
       "      <td>-122.270213</td>\n",
       "      <td>2515</td>\n",
       "      <td>Subscriber</td>\n",
       "      <td>1993.0</td>\n",
       "      <td>Male</td>\n",
       "      <td>No</td>\n",
       "    </tr>\n",
       "    <tr>\n",
       "      <th>45880</th>\n",
       "      <td>1673</td>\n",
       "      <td>2019-02-22 10:40:05.1080</td>\n",
       "      <td>2019-02-22 11:07:58.1470</td>\n",
       "      <td>61.0</td>\n",
       "      <td>Howard St at 8th St</td>\n",
       "      <td>37.776513</td>\n",
       "      <td>-122.411306</td>\n",
       "      <td>54.0</td>\n",
       "      <td>Alamo Square (Steiner St at Fulton St)</td>\n",
       "      <td>37.777547</td>\n",
       "      <td>-122.433274</td>\n",
       "      <td>3664</td>\n",
       "      <td>Customer</td>\n",
       "      <td>NaN</td>\n",
       "      <td>NaN</td>\n",
       "      <td>No</td>\n",
       "    </tr>\n",
       "    <tr>\n",
       "      <th>78159</th>\n",
       "      <td>1757</td>\n",
       "      <td>2019-02-18 20:19:54.9640</td>\n",
       "      <td>2019-02-18 20:49:12.4140</td>\n",
       "      <td>8.0</td>\n",
       "      <td>The Embarcadero at Vallejo St</td>\n",
       "      <td>37.799953</td>\n",
       "      <td>-122.398525</td>\n",
       "      <td>8.0</td>\n",
       "      <td>The Embarcadero at Vallejo St</td>\n",
       "      <td>37.799953</td>\n",
       "      <td>-122.398525</td>\n",
       "      <td>6548</td>\n",
       "      <td>Customer</td>\n",
       "      <td>1995.0</td>\n",
       "      <td>Female</td>\n",
       "      <td>No</td>\n",
       "    </tr>\n",
       "  </tbody>\n",
       "</table>\n",
       "</div>"
      ],
      "text/plain": [
       "        duration_sec                start_time                  end_time  \\\n",
       "132119            96  2019-02-09 09:38:13.4900  2019-02-09 09:39:50.4210   \n",
       "124879           607  2019-02-11 08:09:26.3580  2019-02-11 08:19:34.0200   \n",
       "1771             188  2019-02-28 18:47:35.1860  2019-02-28 18:50:44.0630   \n",
       "22282           1128  2019-02-26 08:07:08.9560  2019-02-26 08:25:57.5610   \n",
       "146280          1354  2019-02-07 08:37:04.6170  2019-02-07 08:59:39.1170   \n",
       "18834            183  2019-02-26 17:58:28.5660  2019-02-26 18:01:31.6650   \n",
       "55847            620  2019-02-21 09:30:11.2360  2019-02-21 09:40:31.3990   \n",
       "9505             187  2019-02-28 07:02:22.7540  2019-02-28 07:05:30.3570   \n",
       "53556           2161  2019-02-21 14:59:12.7470  2019-02-21 15:35:14.0070   \n",
       "6066            2137  2019-02-28 10:48:21.8650  2019-02-28 11:23:59.3470   \n",
       "38242            457  2019-02-23 12:24:55.7510  2019-02-23 12:32:32.9070   \n",
       "95206           2393  2019-02-15 14:06:48.5980  2019-02-15 14:46:42.2020   \n",
       "72524            548  2019-02-19 16:12:25.9860  2019-02-19 16:21:34.2780   \n",
       "136272           638  2019-02-08 10:08:29.7810  2019-02-08 10:19:08.7210   \n",
       "92860            325  2019-02-15 18:19:48.1490  2019-02-15 18:25:13.9600   \n",
       "142694           556  2019-02-07 16:50:30.1570  2019-02-07 16:59:46.1630   \n",
       "67174            492  2019-02-20 08:11:27.0940  2019-02-20 08:19:39.5000   \n",
       "181892           217  2019-02-01 08:51:03.9000  2019-02-01 08:54:41.0930   \n",
       "45880           1673  2019-02-22 10:40:05.1080  2019-02-22 11:07:58.1470   \n",
       "78159           1757  2019-02-18 20:19:54.9640  2019-02-18 20:49:12.4140   \n",
       "\n",
       "        start_station_id                            start_station_name  \\\n",
       "132119              47.0                         4th St at Harrison St   \n",
       "124879             211.0                           Broadway at 40th St   \n",
       "1771                58.0                          Market St at 10th St   \n",
       "22282              137.0                        Jersey St at Castro St   \n",
       "146280              97.0                         14th St at Mission St   \n",
       "18834              241.0                            Ashby BART Station   \n",
       "55847              115.0                            Jackson Playground   \n",
       "9505                 3.0  Powell St BART Station (Market St at 4th St)   \n",
       "53556              115.0                            Jackson Playground   \n",
       "6066                28.0                  The Embarcadero at Bryant St   \n",
       "38242               41.0                    Golden Gate Ave at Polk St   \n",
       "95206               89.0                    Division St at Potrero Ave   \n",
       "72524              139.0      Garfield Square (25th St at Harrison St)   \n",
       "136272             336.0                   Potrero Ave and Mariposa St   \n",
       "92860                8.0                 The Embarcadero at Vallejo St   \n",
       "142694             193.0                  Grand Ave at Santa Clara Ave   \n",
       "67174              116.0                     Mississippi St at 17th St   \n",
       "181892             385.0                   Woolsey St at Sacramento St   \n",
       "45880               61.0                           Howard St at 8th St   \n",
       "78159                8.0                 The Embarcadero at Vallejo St   \n",
       "\n",
       "        start_station_latitude  start_station_longitude  end_station_id  \\\n",
       "132119               37.780955              -122.399749           321.0   \n",
       "124879               37.827757              -122.256716           181.0   \n",
       "1771                 37.776619              -122.417385            75.0   \n",
       "22282                37.750506              -122.433950            21.0   \n",
       "146280               37.768265              -122.420110            11.0   \n",
       "18834                37.852477              -122.270213           385.0   \n",
       "55847                37.765026              -122.398773           284.0   \n",
       "9505                 37.786375              -122.404904           349.0   \n",
       "53556                37.765026              -122.398773           115.0   \n",
       "6066                 37.787168              -122.388098            14.0   \n",
       "38242                37.781270              -122.418740            98.0   \n",
       "95206                37.769218              -122.407646            15.0   \n",
       "72524                37.751017              -122.411901           114.0   \n",
       "136272               37.763281              -122.407377            66.0   \n",
       "92860                37.799953              -122.398525            17.0   \n",
       "142694               37.812744              -122.247215           200.0   \n",
       "67174                37.764802              -122.394771            66.0   \n",
       "181892               37.850578              -122.278175           241.0   \n",
       "45880                37.776513              -122.411306            54.0   \n",
       "78159                37.799953              -122.398525             8.0   \n",
       "\n",
       "                                         end_station_name  \\\n",
       "132119                                   5th St at Folsom   \n",
       "124879                            Grand Ave at Webster St   \n",
       "1771                             Market St at Franklin St   \n",
       "22282    Montgomery St BART Station (Market St at 2nd St)   \n",
       "146280                             Davis St at Jackson St   \n",
       "18834                         Woolsey St at Sacramento St   \n",
       "55847   Yerba Buena Center for the Arts (Howard St at ...   \n",
       "9505                                 Howard St at Mary St   \n",
       "53556                                  Jackson Playground   \n",
       "6066                                Clay St at Battery St   \n",
       "38242                              Valencia St at 16th St   \n",
       "95206   San Francisco Ferry Building (Harry Bridges Pl...   \n",
       "72524                          Rhode Island St at 17th St   \n",
       "136272                              3rd St at Townsend St   \n",
       "92860    Embarcadero BART Station (Beale St at Market St)   \n",
       "142694                               2nd Ave at E 18th St   \n",
       "67174                               3rd St at Townsend St   \n",
       "181892                                 Ashby BART Station   \n",
       "45880              Alamo Square (Steiner St at Fulton St)   \n",
       "78159                       The Embarcadero at Vallejo St   \n",
       "\n",
       "        end_station_latitude  end_station_longitude  bike_id   user_type  \\\n",
       "132119             37.780146            -122.403071     5024  Subscriber   \n",
       "124879             37.811377            -122.265192     1207  Subscriber   \n",
       "1771               37.773793            -122.421239     2560  Subscriber   \n",
       "22282              37.789625            -122.400811     6120    Customer   \n",
       "146280             37.797280            -122.398436      110  Subscriber   \n",
       "18834              37.850578            -122.278175      752  Subscriber   \n",
       "55847              37.784872            -122.400876     4936  Subscriber   \n",
       "9505               37.781010            -122.405666     1123  Subscriber   \n",
       "53556              37.765026            -122.398773     5007  Subscriber   \n",
       "6066               37.795001            -122.399970     3247  Subscriber   \n",
       "38242              37.765052            -122.421866     6294  Subscriber   \n",
       "95206              37.795392            -122.394203     6591    Customer   \n",
       "72524              37.764478            -122.402570     4317    Customer   \n",
       "136272             37.778742            -122.392741     2677  Subscriber   \n",
       "92860              37.792251            -122.397086      167  Subscriber   \n",
       "142694             37.800214            -122.253810     4753  Subscriber   \n",
       "67174              37.778742            -122.392741     6107  Subscriber   \n",
       "181892             37.852477            -122.270213     2515  Subscriber   \n",
       "45880              37.777547            -122.433274     3664    Customer   \n",
       "78159              37.799953            -122.398525     6548    Customer   \n",
       "\n",
       "        member_birth_year member_gender bike_share_for_all_trip  \n",
       "132119             1989.0          Male                      No  \n",
       "124879             1992.0        Female                      No  \n",
       "1771               1988.0          Male                      No  \n",
       "22282              1992.0          Male                      No  \n",
       "146280             1988.0        Female                      No  \n",
       "18834              1996.0        Female                      No  \n",
       "55847              1993.0          Male                      No  \n",
       "9505               1981.0        Female                      No  \n",
       "53556              1974.0          Male                      No  \n",
       "6066               1988.0        Female                      No  \n",
       "38242              1986.0          Male                      No  \n",
       "95206                 NaN           NaN                      No  \n",
       "72524              1983.0          Male                      No  \n",
       "136272             1990.0          Male                      No  \n",
       "92860              1974.0        Female                     Yes  \n",
       "142694             1980.0         Other                      No  \n",
       "67174              1989.0          Male                      No  \n",
       "181892             1993.0          Male                      No  \n",
       "45880                 NaN           NaN                      No  \n",
       "78159              1995.0        Female                      No  "
      ]
     },
     "execution_count": 8,
     "metadata": {},
     "output_type": "execute_result"
    }
   ],
   "source": [
    "#getting more info about the dataset through sample, check the trend of values\n",
    "fordgobike.sample(20)"
   ]
  },
  {
   "cell_type": "markdown",
   "metadata": {
    "id": "dM27nrKk-fLH",
    "slideshow": {
     "slide_type": "skip"
    }
   },
   "source": [
    "Lots of data is missing from member_birth_year and member_gender, we also have missing data from stations."
   ]
  },
  {
   "cell_type": "code",
   "execution_count": 9,
   "metadata": {
    "colab": {
     "base_uri": "https://localhost:8080/"
    },
    "id": "cCLmtdhlBYbp",
    "outputId": "0dee23a5-7210-4009-e072-2ba617ab74cc",
    "slideshow": {
     "slide_type": "skip"
    }
   },
   "outputs": [
    {
     "data": {
      "text/plain": [
       "272      311\n",
       "324      292\n",
       "323      291\n",
       "306      291\n",
       "305      290\n",
       "369      287\n",
       "387      286\n",
       "274      284\n",
       "354      283\n",
       "380      282\n",
       "297      281\n",
       "325      281\n",
       "344      281\n",
       "341      280\n",
       "269      280\n",
       "343      280\n",
       "270      279\n",
       "337      278\n",
       "339      277\n",
       "287      277\n",
       "329      277\n",
       "316      276\n",
       "280      276\n",
       "298      276\n",
       "315      275\n",
       "336      275\n",
       "366      275\n",
       "384      274\n",
       "264      274\n",
       "317      274\n",
       "        ... \n",
       "2856       1\n",
       "11949      1\n",
       "80891      1\n",
       "3881       1\n",
       "3037       1\n",
       "4139       1\n",
       "2909       1\n",
       "39759      1\n",
       "10412      1\n",
       "6879       1\n",
       "2472       1\n",
       "4702       1\n",
       "6570       1\n",
       "66185      1\n",
       "29010      1\n",
       "12204      1\n",
       "5035       1\n",
       "8280       1\n",
       "5291       1\n",
       "38991      1\n",
       "6105       1\n",
       "17953      1\n",
       "3802       1\n",
       "3752       1\n",
       "22225      1\n",
       "5803       1\n",
       "11870      1\n",
       "5931       1\n",
       "15964      1\n",
       "5058       1\n",
       "Name: duration_sec, Length: 4752, dtype: int64"
      ]
     },
     "execution_count": 9,
     "metadata": {},
     "output_type": "execute_result"
    }
   ],
   "source": [
    "#check all values in duration_sec column\n",
    "fordgobike.duration_sec.value_counts()"
   ]
  },
  {
   "cell_type": "code",
   "execution_count": 10,
   "metadata": {
    "colab": {
     "base_uri": "https://localhost:8080/"
    },
    "id": "uVtuuVDcCN59",
    "outputId": "cd08cabf-f082-4fb4-919b-d96b222852f6",
    "slideshow": {
     "slide_type": "skip"
    }
   },
   "outputs": [
    {
     "data": {
      "text/plain": [
       "count    183412.000000\n",
       "mean        726.078435\n",
       "std        1794.389780\n",
       "min          61.000000\n",
       "25%         325.000000\n",
       "50%         514.000000\n",
       "75%         796.000000\n",
       "max       85444.000000\n",
       "Name: duration_sec, dtype: float64"
      ]
     },
     "execution_count": 10,
     "metadata": {},
     "output_type": "execute_result"
    }
   ],
   "source": [
    "#description of duration column\n",
    "fordgobike.duration_sec.describe()"
   ]
  },
  {
   "cell_type": "code",
   "execution_count": 11,
   "metadata": {
    "colab": {
     "base_uri": "https://localhost:8080/"
    },
    "id": "sk5Bm7fqIvRU",
    "outputId": "267f8f33-742a-40bd-e08e-074cef29b847",
    "slideshow": {
     "slide_type": "skip"
    }
   },
   "outputs": [
    {
     "data": {
      "text/plain": [
       "count    183412.000000\n",
       "mean         12.101307\n",
       "std          29.906496\n",
       "min           1.016667\n",
       "25%           5.416667\n",
       "50%           8.566667\n",
       "75%          13.266667\n",
       "max        1424.066667\n",
       "Name: duration_min, dtype: float64"
      ]
     },
     "execution_count": 11,
     "metadata": {},
     "output_type": "execute_result"
    }
   ],
   "source": [
    "#converting duration_sec in minutes, and description\n",
    "def convert_min(x, inverse = False):\n",
    "  if not inverse:\n",
    "    return x/60\n",
    "  else:\n",
    "    return x%60\n",
    "fordgobike['duration_min'] = fordgobike['duration_sec'].apply(convert_min)\n",
    "fordgobike.duration_min.describe()"
   ]
  },
  {
   "cell_type": "markdown",
   "metadata": {
    "id": "WUcdgc9Q6hmA",
    "slideshow": {
     "slide_type": "skip"
    }
   },
   "source": [
    "## Univariate Plot\n",
    "\n",
    "Exploring dataset with single variables."
   ]
  },
  {
   "cell_type": "code",
   "execution_count": 12,
   "metadata": {
    "colab": {
     "base_uri": "https://localhost:8080/"
    },
    "id": "718Y539oJU9J",
    "outputId": "1c04a7c7-bb09-454d-e07e-b6e532dc00e1",
    "slideshow": {
     "slide_type": "skip"
    }
   },
   "outputs": [
    {
     "data": {
      "text/plain": [
       "Index(['start_time', 'end_time', 'start_station_name', 'end_station_name',\n",
       "       'user_type', 'member_gender', 'bike_share_for_all_trip'],\n",
       "      dtype='object')"
      ]
     },
     "execution_count": 12,
     "metadata": {},
     "output_type": "execute_result"
    }
   ],
   "source": [
    "#selecting all objects column from the dataset\n",
    "obj_cols = fordgobike.select_dtypes(include= ['object']).columns\n",
    "obj_cols"
   ]
  },
  {
   "cell_type": "markdown",
   "metadata": {
    "id": "gyVH_s7TEwgF",
    "slideshow": {
     "slide_type": "subslide"
    }
   },
   "source": [
    "**Which vaurables are positivly and negativly correlated to rent a bike?**"
   ]
  },
  {
   "cell_type": "code",
   "execution_count": 13,
   "metadata": {
    "colab": {
     "base_uri": "https://localhost:8080/",
     "height": 592
    },
    "id": "IOI0PL2qLFHV",
    "outputId": "f0a13fca-9458-4567-cfac-fa6b3f28b3fd",
    "slideshow": {
     "slide_type": "subslide"
    }
   },
   "outputs": [
    {
     "data": {
      "image/png": "[encoded data removed]",
      "text/plain": [
       "<matplotlib.figure.Figure at 0x7fc301d232b0>"
      ]
     },
     "metadata": {
      "needs_background": "light"
     },
     "output_type": "display_data"
    }
   ],
   "source": [
    "#selecting all numeric columns from the dataset and correlation plot\n",
    "plt.figure(figsize=[10,8])\n",
    "num_cols = fordgobike.select_dtypes(include=['float64', 'int64']).columns\n",
    "sns.heatmap(fordgobike[num_cols].corr(), annot=True, cmap='vlag_r')\n",
    "\n",
    "plt.show()"
   ]
  },
  {
   "cell_type": "code",
   "execution_count": 14,
   "metadata": {
    "colab": {
     "base_uri": "https://localhost:8080/",
     "height": 1000
    },
    "id": "Y-ID7RXeSa3A",
    "outputId": "b0066114-c6f6-41b6-8a6e-f2253f41e0d8",
    "slideshow": {
     "slide_type": "skip"
    }
   },
   "outputs": [],
   "source": [
    "# #plot matrix\n",
    "# sample = np.random.choice(fordgobike.shape[0], 500, replace=False)\n",
    "# fordgobike_samp = fordgobike.loc[sample,:]\n",
    "# g = sns.PairGrid(data=fordgobike_samp, vars=num_cols)\n",
    "# g.map_diag(plt.hist, bins = 20)\n",
    "# g.map_offdiag(plt.scatter)\n",
    "# plt.show()"
   ]
  },
  {
   "cell_type": "markdown",
   "metadata": {
    "id": "r-mW1YMEUsdT",
    "slideshow": {
     "slide_type": "subslide"
    }
   },
   "source": [
    "Data has a lots of outliers, as from the heatmap plot and matrix plot,\n",
    "Start_station_latitude, and end_station_latitude are positivly correlated, start_station_id and end_station_latitue are positive moderate correlated, start_station_longitude and start_station_latitude are negative correlated, same as negative correlation between longitude/latitude in end station, duration_sec is negatively correlated with start_station_id, bike_id, and birth_year, but slightly positive correlation between start_station_id, end_station_id, and end_station_latitude, other variables are not so important for the analysis. Duration time should be correlated with other variables but we can see there is slightly positive and negative correlation with other variables, we need further investiagation about that variable."
   ]
  },
  {
   "cell_type": "code",
   "execution_count": 15,
   "metadata": {
    "colab": {
     "base_uri": "https://localhost:8080/",
     "height": 404
    },
    "id": "zL6Txg4QTpzs",
    "outputId": "c945dae3-af7a-4dd4-d25a-dcf1384c4b7f",
    "slideshow": {
     "slide_type": "subslide"
    }
   },
   "outputs": [
    {
     "data": {
      "image/png": "[encoded data removed]",
      "text/plain": [
       "<matplotlib.figure.Figure at 0x7fc301d231d0>"
      ]
     },
     "metadata": {
      "needs_background": "light"
     },
     "output_type": "display_data"
    }
   ],
   "source": [
    "#bike trip Time plot in seconds\n",
    "plt.figure(figsize=[8,6])\n",
    "bins = np.arange(0,fordgobike['duration_sec'].quantile(0.99) + 60,  60)\n",
    "plt.hist('duration_sec', data = fordgobike, bins = bins, edgecolor = 'white')\n",
    "plt.xlabel('Time (sec)')\n",
    "plt.ylabel('Count of time in sec')\n",
    "plt.title('Histogram chart of Bike trip time in seconds')\n",
    "plt.show()"
   ]
  },
  {
   "cell_type": "markdown",
   "metadata": {
    "id": "WmzstWFj6emr",
    "slideshow": {
     "slide_type": "slide"
    }
   },
   "source": [
    "The hist plot is right skewed in time duration in seconds of bike trip, maximum bike trip time is between 300-400 seconds, higher time is very less in the plot, need to be more investigation."
   ]
  },
  {
   "cell_type": "code",
   "execution_count": 16,
   "metadata": {
    "colab": {
     "base_uri": "https://localhost:8080/",
     "height": 295
    },
    "id": "kGqxKZUwvZdS",
    "outputId": "5fed3a3f-e15c-4210-c687-556d65e8d521",
    "slideshow": {
     "slide_type": "skip"
    }
   },
   "outputs": [
    {
     "data": {
      "image/png": "[encoded data removed]",
      "text/plain": [
       "<matplotlib.figure.Figure at 0x7fc300d02828>"
      ]
     },
     "metadata": {
      "needs_background": "light"
     },
     "output_type": "display_data"
    }
   ],
   "source": [
    "#hist plot using log of duration sec, transforming time to log\n",
    "log_binsize = 0.13\n",
    "bins = 10**np.arange(1.8, np.log(fordgobike['duration_sec'].max()) +log_binsize, log_binsize)\n",
    "plt.hist('duration_sec', data = fordgobike, bins = bins)\n",
    "plt.xscale('log')\n",
    "plt.xticks([100, 1e3, 1e4, 1e5], ['100', '1k', '10k', '100k'])\n",
    "plt.xlabel('Time log(sec)')\n",
    "plt.ylabel('Count of time in log(sec)')\n",
    "plt.title('Histogram chart of Bike trip time in log(sec)')\n",
    "plt.show()"
   ]
  },
  {
   "cell_type": "markdown",
   "metadata": {
    "id": "0-_hboUUwSld",
    "slideshow": {
     "slide_type": "skip"
    }
   },
   "source": [
    "Using log scale in duration_sec variable, we got interesting plot, there is a peak in 1k seconds."
   ]
  },
  {
   "cell_type": "code",
   "execution_count": 17,
   "metadata": {
    "colab": {
     "base_uri": "https://localhost:8080/",
     "height": 295
    },
    "id": "8bdpiLjr-Tzj",
    "outputId": "ed0945c4-1516-40f7-959d-65ad1cbd9bdf",
    "slideshow": {
     "slide_type": "subslide"
    }
   },
   "outputs": [
    {
     "data": {
      "image/png": "[encoded data removed]",
      "text/plain": [
       "<matplotlib.figure.Figure at 0x7fc300d0af98>"
      ]
     },
     "metadata": {
      "needs_background": "light"
     },
     "output_type": "display_data"
    }
   ],
   "source": [
    "#bike trip Time plot in minutes\n",
    "bins = np.arange(0, fordgobike['duration_min'].quantile(0.99) + 2, 2)\n",
    "plt.hist('duration_min', data = fordgobike, bins = bins, edgecolor = 'white')\n",
    "plt.xlabel('Time (Min)')\n",
    "plt.ylabel('Count of time in Min')\n",
    "plt.title('Histogram chart of Bike trip time in Min')\n",
    "plt.show()\n"
   ]
  },
  {
   "cell_type": "markdown",
   "metadata": {
    "id": "CgkqTLHcxOjn",
    "slideshow": {
     "slide_type": "subslide"
    }
   },
   "source": [
    "Hist plot in converting time to minutes plot is right skew. In this plot we measure bins in quantile distribution, Plot is not linear."
   ]
  },
  {
   "cell_type": "code",
   "execution_count": 18,
   "metadata": {
    "colab": {
     "base_uri": "https://localhost:8080/"
    },
    "id": "_abEUv5A1VKm",
    "outputId": "f9fb8309-3010-4ae3-d272-c764f6ff8cc5",
    "slideshow": {
     "slide_type": "skip"
    }
   },
   "outputs": [
    {
     "data": {
      "text/plain": [
       "Subscriber    163544\n",
       "Customer       19868\n",
       "Name: user_type, dtype: int64"
      ]
     },
     "execution_count": 18,
     "metadata": {},
     "output_type": "execute_result"
    }
   ],
   "source": [
    "#check values in user type\n",
    "fordgobike.user_type.value_counts()"
   ]
  },
  {
   "cell_type": "markdown",
   "metadata": {
    "id": "mXUwYzINH0dF",
    "slideshow": {
     "slide_type": "skip"
    }
   },
   "source": [
    "How many users are subscriber or customers for bike trip plan?"
   ]
  },
  {
   "cell_type": "code",
   "execution_count": 19,
   "metadata": {
    "colab": {
     "base_uri": "https://localhost:8080/",
     "height": 461
    },
    "id": "bXML9J6Y08Ps",
    "outputId": "b8e48aad-9bc8-4ae1-ff46-01a196274916",
    "slideshow": {
     "slide_type": "subslide"
    }
   },
   "outputs": [
    {
     "data": {
      "image/png": "[encoded data removed]",
      "text/plain": [
       "<matplotlib.figure.Figure at 0x7fc300d116a0>"
      ]
     },
     "metadata": {
      "needs_background": "light"
     },
     "output_type": "display_data"
    }
   ],
   "source": [
    "plt.figure(figsize=(8,6))\n",
    "base_color = sns.color_palette()[0]\n",
    "sns.countplot('user_type', data = fordgobike, color = base_color)\n",
    "plt.title('Countplot of bike user type')\n",
    "plt.show()"
   ]
  },
  {
   "cell_type": "markdown",
   "metadata": {
    "id": "30Z3rC4h2qcX",
    "slideshow": {
     "slide_type": "subslide"
    }
   },
   "source": [
    "The count plot of user type, we can see there are more subscribers than customers, bike users have annual subscriptions of their bikes, we can say people in bigger cities they use ford bikes a lot not only for fun they use as a transportation too."
   ]
  },
  {
   "cell_type": "code",
   "execution_count": 20,
   "metadata": {
    "colab": {
     "base_uri": "https://localhost:8080/"
    },
    "id": "MJW4mkQC6bO1",
    "outputId": "469ed8d4-d252-46b5-d835-53508eed4df8",
    "slideshow": {
     "slide_type": "skip"
    }
   },
   "outputs": [
    {
     "data": {
      "text/plain": [
       "Male      130651\n",
       "Female     40844\n",
       "Other       3652\n",
       "Name: member_gender, dtype: int64"
      ]
     },
     "execution_count": 20,
     "metadata": {},
     "output_type": "execute_result"
    }
   ],
   "source": [
    "fordgobike.member_gender.value_counts()"
   ]
  },
  {
   "cell_type": "markdown",
   "metadata": {
    "id": "VdlbcczGHn-R",
    "slideshow": {
     "slide_type": "subslide"
    }
   },
   "source": [
    "**What percent of male and female rent a bike?**"
   ]
  },
  {
   "cell_type": "code",
   "execution_count": 21,
   "metadata": {
    "colab": {
     "base_uri": "https://localhost:8080/"
    },
    "id": "4wvxM2dzgI2X",
    "outputId": "a7df12ed-759a-46ef-8e24-6d188100399c",
    "slideshow": {
     "slide_type": "subslide"
    }
   },
   "outputs": [
    {
     "data": {
      "text/plain": [
       "(0.7123361612108259, 0.222689900333675)"
      ]
     },
     "execution_count": 21,
     "metadata": {},
     "output_type": "execute_result"
    }
   ],
   "source": [
    "prop_male = fordgobike.query('member_gender==\"Male\"').shape[0]/fordgobike.shape[0]\n",
    "prop_female = fordgobike.query('member_gender==\"Female\"').shape[0]/fordgobike.shape[0]\n",
    "prop_male, prop_female"
   ]
  },
  {
   "cell_type": "code",
   "execution_count": 22,
   "metadata": {
    "colab": {
     "base_uri": "https://localhost:8080/",
     "height": 314
    },
    "id": "GpX6Jd3iiEUH",
    "outputId": "0eb9acd1-c0e6-416d-c386-d03a8a71a95b",
    "slideshow": {
     "slide_type": "subslide"
    }
   },
   "outputs": [
    {
     "data": {
      "text/plain": [
       "Text(0,0.5,'Proportion of gender')"
      ]
     },
     "execution_count": 22,
     "metadata": {},
     "output_type": "execute_result"
    },
    {
     "data": {
      "image/png": "[encoded data removed]",
      "text/plain": [
       "<matplotlib.figure.Figure at 0x7fc3015236d8>"
      ]
     },
     "metadata": {
      "needs_background": "light"
     },
     "output_type": "display_data"
    }
   ],
   "source": [
    "plt.bar([\"Male\", \"Female\"], [prop_male, prop_female])\n",
    "plt.title('Proportion of male and female in bike trip')\n",
    "plt.xlabel('Gender')\n",
    "plt.ylabel('Proportion of gender')"
   ]
  },
  {
   "cell_type": "markdown",
   "metadata": {
    "id": "n6BKfyG9pidf",
    "slideshow": {
     "slide_type": "subslide"
    }
   },
   "source": [
    "71% male and 20% of female are participated in the bike trip."
   ]
  },
  {
   "cell_type": "code",
   "execution_count": 23,
   "metadata": {
    "colab": {
     "base_uri": "https://localhost:8080/",
     "height": 462
    },
    "id": "RZA17t1F6IgA",
    "outputId": "2c928e20-004a-4a6d-988d-e87bb766c209",
    "slideshow": {
     "slide_type": "subslide"
    }
   },
   "outputs": [
    {
     "data": {
      "image/png": "[encoded data removed]",
      "text/plain": [
       "<matplotlib.figure.Figure at 0x7fc300203cc0>"
      ]
     },
     "metadata": {
      "needs_background": "light"
     },
     "output_type": "display_data"
    }
   ],
   "source": [
    "plt.figure(figsize=(8,6))\n",
    "order = ['Male', 'Female', 'Other']\n",
    "sns.countplot('member_gender', data = fordgobike, color = base_color, order=order, palette='viridis_r')\n",
    "plt.title('Countplot of bike user gender')\n",
    "plt.show()"
   ]
  },
  {
   "cell_type": "markdown",
   "metadata": {
    "id": "dkSndkXA6ryH",
    "slideshow": {
     "slide_type": "subslide"
    }
   },
   "source": [
    "There are more male than female users are in the bike trip plan. There are few belong to others, I assume that these others are not registered as a male or female, I searched about the gender type other than male and female and, I found that there are 7 unique genders(female, male, intersex, trans, non-conforming, personal, and eunuch)"
   ]
  },
  {
   "cell_type": "markdown",
   "metadata": {
    "id": "eFljslNqAHXn"
   },
   "source": [
    "## Bivariate"
   ]
  },
  {
   "cell_type": "markdown",
   "metadata": {
    "id": "CcUieKFbjGMo",
    "slideshow": {
     "slide_type": "slide"
    }
   },
   "source": [
    "Talk about some of the relationships you observed in this part of the investigation. How did the feature(s) of interest vary with other features in the dataset?\n",
    "\n",
    "I assumed that females are more involved in the bike trip than male, but It was opposite of my thought I found more males are enjoyed biking than females, and they are more subscriber than other genders too. Another Interesting thing that bikers who are underprivileged they get discount on anual subscription and they get equally discount based on the percentage of subscriber or customers.\n",
    "\n",
    "Did you observe any interesting relationships between the other features (not the main feature(s) of interest)?\n",
    "\n",
    "Other interesting feature is start_station_id and end_station_id, when we plot histogram, found that these two variables are identical.\n",
    "Member who's birth year 1990, they are highly involved in bike trip than other ages even bikers who are in 20's or some they are not actively used bike trip.\n",
    "Another intersting thing is that relationship between start_longitude, start_latitude, end_longitude and end_latitude are identical, I think bikers use same latitude and longitude for their bike trip. \n",
    "On Thursdays, bikers use quite a bit bike trip than other weekdays. On weekends, they do not use bike trip as much as they do on weekdays."
   ]
  },
  {
   "cell_type": "markdown",
   "metadata": {
    "id": "lvGK5r9aIHNl",
    "slideshow": {
     "slide_type": "skip"
    }
   },
   "source": [
    "How many male and female rent a bike, are they customers or subscriber what is the majority of them?"
   ]
  },
  {
   "cell_type": "code",
   "execution_count": 24,
   "metadata": {
    "colab": {
     "base_uri": "https://localhost:8080/",
     "height": 462
    },
    "id": "poN8lOmpAD_1",
    "outputId": "aba7bc02-377e-448d-b992-8006293d23a2",
    "slideshow": {
     "slide_type": "subslide"
    }
   },
   "outputs": [
    {
     "data": {
      "image/png": "[encoded data removed]",
      "text/plain": [
       "<matplotlib.figure.Figure at 0x7fc300203550>"
      ]
     },
     "metadata": {
      "needs_background": "light"
     },
     "output_type": "display_data"
    }
   ],
   "source": [
    "plt.figure(figsize=(8,6))\n",
    "order = ['Male', 'Female', 'Other']\n",
    "sns.countplot('member_gender', data = fordgobike, color = base_color, hue='user_type', order=order, palette='pastel')\n",
    "plt.title('Countplot of bike user gender with user type')\n",
    "plt.show()"
   ]
  },
  {
   "cell_type": "markdown",
   "metadata": {
    "id": "nLGJYCw5BHYw",
    "slideshow": {
     "slide_type": "subslide"
    }
   },
   "source": [
    "Number of males are higher majority than female for bike trip and males are more subscriber than other gender."
   ]
  },
  {
   "cell_type": "markdown",
   "metadata": {
    "id": "ug_6tlQTKifK"
   },
   "source": [
    "How many users who are customers or subscriber got the special discount for renting a bike?"
   ]
  },
  {
   "cell_type": "code",
   "execution_count": 25,
   "metadata": {
    "colab": {
     "base_uri": "https://localhost:8080/",
     "height": 461
    },
    "id": "ScYVf-ZrGR-K",
    "outputId": "3376bf1e-d959-4c4b-a97b-413cfed7dd6a",
    "slideshow": {
     "slide_type": "subslide"
    }
   },
   "outputs": [
    {
     "data": {
      "image/png": "[encoded data removed]",
      "text/plain": [
       "<matplotlib.figure.Figure at 0x7fc300175320>"
      ]
     },
     "metadata": {
      "needs_background": "light"
     },
     "output_type": "display_data"
    }
   ],
   "source": [
    "plt.figure(figsize=(8,6))\n",
    "sns.countplot('bike_share_for_all_trip', data = fordgobike, color = base_color, hue='user_type', palette='pastel')\n",
    "plt.title('Countplot of bike user  with special discount')\n",
    "plt.xlabel('special discount')\n",
    "plt.show()"
   ]
  },
  {
   "cell_type": "markdown",
   "metadata": {
    "id": "58ZvPcZoJ1sq",
    "slideshow": {
     "slide_type": "subslide"
    }
   },
   "source": [
    "Very few subsciber got special plan for annual membership, but customers didn't get special offer, those who fullfill requirement of annual membership of bike trip, got special discount."
   ]
  },
  {
   "cell_type": "markdown",
   "metadata": {
    "id": "UJslO0exLFce",
    "slideshow": {
     "slide_type": "skip"
    }
   },
   "source": [
    "Do female get more discount than male to rent a bike?"
   ]
  },
  {
   "cell_type": "code",
   "execution_count": 26,
   "metadata": {
    "colab": {
     "base_uri": "https://localhost:8080/",
     "height": 461
    },
    "id": "0X6eqbV2I3nN",
    "outputId": "643cd807-1b01-4155-e106-2994eda837d4",
    "slideshow": {
     "slide_type": "subslide"
    }
   },
   "outputs": [
    {
     "data": {
      "image/png": "[encoded data removed]",
      "text/plain": [
       "<matplotlib.figure.Figure at 0x7fc30009a3c8>"
      ]
     },
     "metadata": {
      "needs_background": "light"
     },
     "output_type": "display_data"
    }
   ],
   "source": [
    "plt.figure(figsize=(8,6))\n",
    "sns.countplot('bike_share_for_all_trip', data = fordgobike, color = base_color, hue='member_gender', palette='Set2')\n",
    "plt.title('Countplot of bike user  with special discount with gender')\n",
    "plt.xlabel('special discount')\n",
    "plt.show()"
   ]
  },
  {
   "cell_type": "markdown",
   "metadata": {
    "id": "UNr4LR_cHHlx",
    "slideshow": {
     "slide_type": "subslide"
    }
   },
   "source": [
    "We can see males are in higher majority who didn't get special discount very few male got the discount, howevere males are in higher majority who rent a bike than female, therefore, we can see all genders got equally discount dependes on what fraction of gender involve to rent a bike."
   ]
  },
  {
   "cell_type": "markdown",
   "metadata": {
    "id": "RfEQ9gkEVlLt",
    "slideshow": {
     "slide_type": "skip"
    }
   },
   "source": [
    "## Wrangling"
   ]
  },
  {
   "cell_type": "code",
   "execution_count": 27,
   "metadata": {
    "id": "fXZ-CHD2ZZbB",
    "slideshow": {
     "slide_type": "skip"
    }
   },
   "outputs": [],
   "source": [
    "#making copy of original dataset\n",
    "fordgobike_copy = fordgobike.copy()"
   ]
  },
  {
   "cell_type": "code",
   "execution_count": 28,
   "metadata": {
    "id": "gwobFwIeK-dB",
    "slideshow": {
     "slide_type": "skip"
    }
   },
   "outputs": [],
   "source": [
    "#dropping na values from the member_birth_year\n",
    "fordgobike_copy = fordgobike_copy.dropna(subset=['member_birth_year'])"
   ]
  },
  {
   "cell_type": "code",
   "execution_count": 29,
   "metadata": {
    "id": "Ch-Uv_YBLY4U",
    "slideshow": {
     "slide_type": "skip"
    }
   },
   "outputs": [],
   "source": [
    "#converting float to int birth_year, it is already in float but was getting error so I converted first float and then int.\n",
    "fordgobike_copy['member_birth_year'] = fordgobike_copy['member_birth_year'].astype(float).astype(int)\n"
   ]
  },
  {
   "cell_type": "code",
   "execution_count": 30,
   "metadata": {
    "id": "iR_Vc0sNM65v",
    "slideshow": {
     "slide_type": "skip"
    }
   },
   "outputs": [],
   "source": [
    "#converting start_time and end_time columns to date time column\n",
    "def convert_time(x):\n",
    "  var_time = pd.to_datetime(x)\n",
    "  return var_time\n",
    "fordgobike_copy['start_time'] = fordgobike_copy['start_time'].apply(convert_time)\n",
    "fordgobike_copy['end_time'] = fordgobike_copy['end_time'].apply(convert_time)"
   ]
  },
  {
   "cell_type": "code",
   "execution_count": 31,
   "metadata": {
    "colab": {
     "base_uri": "https://localhost:8080/"
    },
    "id": "3MxoiBw4VBYf",
    "outputId": "d08732da-a8cd-4b22-f919-5340b77db18d",
    "slideshow": {
     "slide_type": "skip"
    }
   },
   "outputs": [
    {
     "name": "stdout",
     "output_type": "stream",
     "text": [
      "<class 'pandas.core.frame.DataFrame'>\n",
      "Int64Index: 175147 entries, 0 to 183411\n",
      "Data columns (total 17 columns):\n",
      "duration_sec               175147 non-null int64\n",
      "start_time                 175147 non-null datetime64[ns]\n",
      "end_time                   175147 non-null datetime64[ns]\n",
      "start_station_id           174952 non-null float64\n",
      "start_station_name         174952 non-null object\n",
      "start_station_latitude     175147 non-null float64\n",
      "start_station_longitude    175147 non-null float64\n",
      "end_station_id             174952 non-null float64\n",
      "end_station_name           174952 non-null object\n",
      "end_station_latitude       175147 non-null float64\n",
      "end_station_longitude      175147 non-null float64\n",
      "bike_id                    175147 non-null int64\n",
      "user_type                  175147 non-null object\n",
      "member_birth_year          175147 non-null int64\n",
      "member_gender              175147 non-null object\n",
      "bike_share_for_all_trip    175147 non-null object\n",
      "duration_min               175147 non-null float64\n",
      "dtypes: datetime64[ns](2), float64(7), int64(3), object(5)\n",
      "memory usage: 24.1+ MB\n"
     ]
    }
   ],
   "source": [
    "#check time column converted to date time.\n",
    "fordgobike_copy.info()"
   ]
  },
  {
   "cell_type": "code",
   "execution_count": 32,
   "metadata": {
    "colab": {
     "base_uri": "https://localhost:8080/"
    },
    "id": "WSslhEIKIOY8",
    "outputId": "16927369-aa70-4d9b-a144-b4594c1447a6",
    "slideshow": {
     "slide_type": "skip"
    }
   },
   "outputs": [
    {
     "data": {
      "text/plain": [
       "(58.0     3649\n",
       " 67.0     3408\n",
       " 81.0     2952\n",
       " 21.0     2711\n",
       " 3.0      2620\n",
       " 30.0     2577\n",
       " 15.0     2541\n",
       " 22.0     2216\n",
       " 16.0     2191\n",
       " 5.0      2144\n",
       " 6.0      1975\n",
       " 239.0    1761\n",
       " 243.0    1712\n",
       " 50.0     1702\n",
       " 27.0     1678\n",
       " 66.0     1675\n",
       " 17.0     1646\n",
       " 93.0     1496\n",
       " 90.0     1479\n",
       " 44.0     1476\n",
       " 23.0     1420\n",
       " 245.0    1322\n",
       " 19.0     1311\n",
       " 104.0    1274\n",
       " 61.0     1257\n",
       " 182.0    1231\n",
       " 126.0    1226\n",
       " 114.0    1224\n",
       " 256.0    1176\n",
       " 350.0    1154\n",
       "          ... \n",
       " 217.0      54\n",
       " 209.0      54\n",
       " 361.0      53\n",
       " 46.0       53\n",
       " 297.0      49\n",
       " 358.0      48\n",
       " 283.0      47\n",
       " 318.0      37\n",
       " 362.0      36\n",
       " 228.0      35\n",
       " 287.0      32\n",
       " 288.0      32\n",
       " 290.0      31\n",
       " 298.0      30\n",
       " 378.0      28\n",
       " 307.0      27\n",
       " 359.0      25\n",
       " 229.0      23\n",
       " 303.0      19\n",
       " 226.0      19\n",
       " 225.0      17\n",
       " 388.0      17\n",
       " 398.0      16\n",
       " 389.0      13\n",
       " 301.0       9\n",
       " 234.0       9\n",
       " 51.0        7\n",
       " 224.0       4\n",
       " 300.0       3\n",
       " 344.0       2\n",
       " Name: start_station_id, Length: 329, dtype: int64, 67.0     4624\n",
       " 58.0     3709\n",
       " 21.0     3461\n",
       " 15.0     3151\n",
       " 30.0     2870\n",
       " 3.0      2854\n",
       " 81.0     2782\n",
       " 6.0      2341\n",
       " 16.0     2264\n",
       " 5.0      2153\n",
       " 22.0     1970\n",
       " 27.0     1780\n",
       " 239.0    1780\n",
       " 44.0     1733\n",
       " 50.0     1667\n",
       " 66.0     1628\n",
       " 17.0     1622\n",
       " 93.0     1590\n",
       " 90.0     1440\n",
       " 23.0     1414\n",
       " 182.0    1392\n",
       " 19.0     1366\n",
       " 245.0    1321\n",
       " 114.0    1271\n",
       " 350.0    1270\n",
       " 36.0     1247\n",
       " 61.0     1216\n",
       " 126.0    1182\n",
       " 104.0    1135\n",
       " 24.0     1116\n",
       "          ... \n",
       " 358.0      50\n",
       " 191.0      48\n",
       " 217.0      48\n",
       " 362.0      46\n",
       " 297.0      45\n",
       " 292.0      45\n",
       " 318.0      42\n",
       " 299.0      38\n",
       " 307.0      37\n",
       " 222.0      35\n",
       " 287.0      34\n",
       " 290.0      33\n",
       " 303.0      30\n",
       " 298.0      28\n",
       " 378.0      25\n",
       " 288.0      24\n",
       " 229.0      20\n",
       " 359.0      20\n",
       " 226.0      19\n",
       " 225.0      19\n",
       " 388.0      18\n",
       " 228.0      16\n",
       " 398.0      12\n",
       " 389.0      11\n",
       " 234.0      10\n",
       " 51.0        9\n",
       " 300.0       7\n",
       " 344.0       6\n",
       " 224.0       5\n",
       " 301.0       5\n",
       " Name: end_station_id, Length: 329, dtype: int64)"
      ]
     },
     "execution_count": 32,
     "metadata": {},
     "output_type": "execute_result"
    }
   ],
   "source": [
    "#check start and end staion ids\n",
    "fordgobike_copy.start_station_id.value_counts(), fordgobike_copy.end_station_id.value_counts()"
   ]
  },
  {
   "cell_type": "markdown",
   "metadata": {
    "id": "rSkwg7MINBOW",
    "slideshow": {
     "slide_type": "skip"
    }
   },
   "source": [
    "Number of station id's in the bike trip?"
   ]
  },
  {
   "cell_type": "code",
   "execution_count": 33,
   "metadata": {
    "colab": {
     "base_uri": "https://localhost:8080/",
     "height": 407
    },
    "id": "0XS5ZQbCVqqB",
    "outputId": "4b0abd7e-03e1-449c-93d1-561b645a1da3",
    "slideshow": {
     "slide_type": "skip"
    }
   },
   "outputs": [],
   "source": [
    "# fig, ax = plt.subplots(nrows=1, ncols=2, figsize=[8,6])\n",
    "# bin_x = np.arange(min(fordgobike_copy.start_station_id), max(fordgobike_copy.start_station_id), 2)\n",
    "# bin_y = np.arange(min(fordgobike_copy.end_station_id), max(fordgobike_copy.end_station_id))\n",
    "\n",
    "# ax[0].hist(x = 'start_station_id', data = fordgobike_copy)\n",
    "# ax[0].set_xticklabels(ax[0].get_xticks(), rotation = 90)  \n",
    "# ax[0].set_xlabel('start_station_id')\n",
    "\n",
    "# ax[1].hist(x = 'end_station_id', data = fordgobike_copy)\n",
    "# ax[1].set_xlabel('end_station_id')\n",
    "# ax[1].set_xticklabels(ax[1].get_xticks(), rotation = 90)  \n",
    "# plt.show()"
   ]
  },
  {
   "cell_type": "markdown",
   "metadata": {
    "id": "PKdCTuIiI18I",
    "slideshow": {
     "slide_type": "skip"
    }
   },
   "source": [
    "We can see start station id and end station id plot is identical, users rented bike in the same station id and returen it back or stopped in the same bike station."
   ]
  },
  {
   "cell_type": "markdown",
   "metadata": {
    "id": "zuI1eUaYzZe7",
    "slideshow": {
     "slide_type": "skip"
    }
   },
   "source": [
    "Which bike station is most active or busy?"
   ]
  },
  {
   "cell_type": "code",
   "execution_count": 34,
   "metadata": {
    "colab": {
     "base_uri": "https://localhost:8080/"
    },
    "id": "wTiBael32pP6",
    "outputId": "d3fafaca-3aad-4576-9ddf-a95ed694fc78",
    "slideshow": {
     "slide_type": "skip"
    }
   },
   "outputs": [
    {
     "data": {
      "text/plain": [
       "Market St at 10th St                                               3649\n",
       "San Francisco Caltrain Station 2  (Townsend St at 4th St)          3408\n",
       "Berry St at 4th St                                                 2952\n",
       "Montgomery St BART Station (Market St at 2nd St)                   2711\n",
       "Powell St BART Station (Market St at 4th St)                       2620\n",
       "San Francisco Caltrain (Townsend St at 4th St)                     2577\n",
       "San Francisco Ferry Building (Harry Bridges Plaza)                 2541\n",
       "Howard St at Beale St                                              2216\n",
       "Steuart St at Market St                                            2191\n",
       "Powell St BART Station (Market St at 5th St)                       2144\n",
       "The Embarcadero at Sansome St                                      1975\n",
       "Bancroft Way at Telegraph Ave                                      1761\n",
       "Bancroft Way at College Ave                                        1712\n",
       "2nd St at Townsend St                                              1702\n",
       "Beale St at Harrison St                                            1678\n",
       "3rd St at Townsend St                                              1675\n",
       "Embarcadero BART Station (Beale St at Market St)                   1646\n",
       "4th St at Mission Bay Blvd S                                       1496\n",
       "Townsend St at 7th St                                              1479\n",
       "Civic Center/UN Plaza BART Station (Market St at McAllister St)    1476\n",
       "The Embarcadero at Steuart St                                      1420\n",
       "Downtown Berkeley BART                                             1322\n",
       "Post St at Kearny St                                               1311\n",
       "4th St at 16th St                                                  1274\n",
       "Howard St at 8th St                                                1257\n",
       "19th Street BART Station                                           1231\n",
       "Esprit Park                                                        1226\n",
       "Rhode Island St at 17th St                                         1224\n",
       "Hearst Ave at Euclid Ave                                           1176\n",
       "8th St at Brannan St                                               1154\n",
       "                                                                   ... \n",
       "45th St at MLK Jr Way                                                54\n",
       "27th St at MLK Jr Way                                                54\n",
       "Mendell St at Fairfax Ave                                            53\n",
       "San Antonio Park                                                     53\n",
       "Locust St at Grant St                                                49\n",
       "Williams Ave at 3rd St                                               48\n",
       "Delmas Ave and San Fernando St                                       47\n",
       "San Carlos St at Market St                                           37\n",
       "Lane St at Revere Ave                                                36\n",
       "Foothill Blvd at Harrington Ave                                      35\n",
       "Almaden Blvd at Balbach St                                           32\n",
       "Mission St at 1st St                                                 32\n",
       "George St at 1st St                                                  31\n",
       "Oak St at 1st St                                                     30\n",
       "Empire St at 7th St                                                  28\n",
       "SAP Center                                                           27\n",
       "Williams Ave at Apollo St                                            25\n",
       "Foothill Blvd at 42nd Ave                                            23\n",
       "San Pedro St at Hedding St                                           19\n",
       "26th Ave at International Blvd                                       19\n",
       "Backesto Park (Jackson St at 13th St)                                17\n",
       "23rd Ave at Foothill Blvd                                            17\n",
       "Leavenworth St at Broadway                                           16\n",
       "Taylor St at 9th St                                                  13\n",
       "Willow St at Vine St                                                  9\n",
       "Farnam St at Fruitvale Ave                                            9\n",
       "Parker Ave at McAllister St                                           7\n",
       "21st Ave at International Blvd                                        4\n",
       "Palm St at Willow St                                                  3\n",
       "16th St Depot                                                         2\n",
       "Name: start_station_name, Length: 329, dtype: int64"
      ]
     },
     "execution_count": 34,
     "metadata": {},
     "output_type": "execute_result"
    }
   ],
   "source": [
    "#check station name\n",
    "fordgobike_copy.start_station_name.value_counts()"
   ]
  },
  {
   "cell_type": "code",
   "execution_count": 35,
   "metadata": {
    "id": "IQIuil3MkzN2",
    "slideshow": {
     "slide_type": "skip"
    }
   },
   "outputs": [],
   "source": [
    "#grouping with staion name with duration sec\n",
    "group_sname = fordgobike_copy.groupby(['start_station_name', 'end_station_name'])['duration_sec'].mean()"
   ]
  },
  {
   "cell_type": "code",
   "execution_count": 36,
   "metadata": {
    "colab": {
     "base_uri": "https://localhost:8080/",
     "height": 647
    },
    "id": "lNiSRvHWzCjo",
    "outputId": "829b4263-fc9c-4d6d-d99e-aa7230374659",
    "slideshow": {
     "slide_type": "subslide"
    }
   },
   "outputs": [
    {
     "data": {
      "image/png": "[encoded data removed]",
      "text/plain": [
       "<matplotlib.figure.Figure at 0x7fc3000f9710>"
      ]
     },
     "metadata": {},
     "output_type": "display_data"
    }
   ],
   "source": [
    "#slicing of first 10 values and make a pie plot\n",
    "group_sname = group_sname.iloc[:10]\n",
    "plt.figure(figsize=[13.4,11])\n",
    "plt.pie(group_sname, labels = group_sname.index, startangle=90, counterclock=False)\n",
    "plt.title('Pie plot of bike renting station', fontsize = 15)\n",
    "plt.show()"
   ]
  },
  {
   "cell_type": "markdown",
   "metadata": {
    "id": "IIkLT8LB0IAF",
    "slideshow": {
     "slide_type": "skip"
    }
   },
   "source": [
    "Bart station on 2nd St. is highly busy and popular than other station, I guess bikers like that bike station alot."
   ]
  },
  {
   "cell_type": "code",
   "execution_count": 37,
   "metadata": {
    "colab": {
     "base_uri": "https://localhost:8080/",
     "height": 687
    },
    "id": "yQo6U1YMPg9C",
    "outputId": "1fe7ccd2-847c-478b-fe48-65802ecf2752",
    "slideshow": {
     "slide_type": "skip"
    }
   },
   "outputs": [
    {
     "data": {
      "text/html": [
       "<div>\n",
       "<style scoped>\n",
       "    .dataframe tbody tr th:only-of-type {\n",
       "        vertical-align: middle;\n",
       "    }\n",
       "\n",
       "    .dataframe tbody tr th {\n",
       "        vertical-align: top;\n",
       "    }\n",
       "\n",
       "    .dataframe thead th {\n",
       "        text-align: right;\n",
       "    }\n",
       "</style>\n",
       "<table border=\"1\" class=\"dataframe\">\n",
       "  <thead>\n",
       "    <tr style=\"text-align: right;\">\n",
       "      <th></th>\n",
       "      <th>duration_sec</th>\n",
       "      <th>start_time</th>\n",
       "      <th>end_time</th>\n",
       "      <th>start_station_id</th>\n",
       "      <th>start_station_name</th>\n",
       "      <th>start_station_latitude</th>\n",
       "      <th>start_station_longitude</th>\n",
       "      <th>end_station_id</th>\n",
       "      <th>end_station_name</th>\n",
       "      <th>end_station_latitude</th>\n",
       "      <th>end_station_longitude</th>\n",
       "      <th>bike_id</th>\n",
       "      <th>user_type</th>\n",
       "      <th>member_birth_year</th>\n",
       "      <th>member_gender</th>\n",
       "      <th>bike_share_for_all_trip</th>\n",
       "      <th>duration_min</th>\n",
       "    </tr>\n",
       "  </thead>\n",
       "  <tbody>\n",
       "    <tr>\n",
       "      <th>1073</th>\n",
       "      <td>303</td>\n",
       "      <td>2019-02-28 19:49:38.120</td>\n",
       "      <td>2019-02-28 19:54:42.044</td>\n",
       "      <td>43.0</td>\n",
       "      <td>San Francisco Public Library (Grove St at Hyde...</td>\n",
       "      <td>37.778768</td>\n",
       "      <td>-122.415929</td>\n",
       "      <td>76.0</td>\n",
       "      <td>McCoppin St at Valencia St</td>\n",
       "      <td>37.771662</td>\n",
       "      <td>-122.422423</td>\n",
       "      <td>6333</td>\n",
       "      <td>Subscriber</td>\n",
       "      <td>1945</td>\n",
       "      <td>Male</td>\n",
       "      <td>Yes</td>\n",
       "      <td>5.050000</td>\n",
       "    </tr>\n",
       "    <tr>\n",
       "      <th>1285</th>\n",
       "      <td>148</td>\n",
       "      <td>2019-02-28 19:29:17.627</td>\n",
       "      <td>2019-02-28 19:31:45.967</td>\n",
       "      <td>158.0</td>\n",
       "      <td>Shattuck Ave at Telegraph Ave</td>\n",
       "      <td>37.833279</td>\n",
       "      <td>-122.263490</td>\n",
       "      <td>173.0</td>\n",
       "      <td>Shattuck Ave at 55th St</td>\n",
       "      <td>37.840364</td>\n",
       "      <td>-122.264488</td>\n",
       "      <td>5391</td>\n",
       "      <td>Subscriber</td>\n",
       "      <td>1900</td>\n",
       "      <td>Male</td>\n",
       "      <td>Yes</td>\n",
       "      <td>2.466667</td>\n",
       "    </tr>\n",
       "    <tr>\n",
       "      <th>2085</th>\n",
       "      <td>694</td>\n",
       "      <td>2019-02-28 18:21:05.187</td>\n",
       "      <td>2019-02-28 18:32:39.596</td>\n",
       "      <td>107.0</td>\n",
       "      <td>17th St at Dolores St</td>\n",
       "      <td>37.763015</td>\n",
       "      <td>-122.426497</td>\n",
       "      <td>89.0</td>\n",
       "      <td>Division St at Potrero Ave</td>\n",
       "      <td>37.769218</td>\n",
       "      <td>-122.407646</td>\n",
       "      <td>385</td>\n",
       "      <td>Subscriber</td>\n",
       "      <td>1941</td>\n",
       "      <td>Male</td>\n",
       "      <td>No</td>\n",
       "      <td>11.566667</td>\n",
       "    </tr>\n",
       "    <tr>\n",
       "      <th>2366</th>\n",
       "      <td>191</td>\n",
       "      <td>2019-02-28 18:14:07.503</td>\n",
       "      <td>2019-02-28 18:17:18.808</td>\n",
       "      <td>76.0</td>\n",
       "      <td>McCoppin St at Valencia St</td>\n",
       "      <td>37.771662</td>\n",
       "      <td>-122.422423</td>\n",
       "      <td>43.0</td>\n",
       "      <td>San Francisco Public Library (Grove St at Hyde...</td>\n",
       "      <td>37.778768</td>\n",
       "      <td>-122.415929</td>\n",
       "      <td>6558</td>\n",
       "      <td>Subscriber</td>\n",
       "      <td>1945</td>\n",
       "      <td>Male</td>\n",
       "      <td>Yes</td>\n",
       "      <td>3.183333</td>\n",
       "    </tr>\n",
       "    <tr>\n",
       "      <th>2484</th>\n",
       "      <td>3458</td>\n",
       "      <td>2019-02-28 17:13:50.585</td>\n",
       "      <td>2019-02-28 18:11:28.806</td>\n",
       "      <td>98.0</td>\n",
       "      <td>Valencia St at 16th St</td>\n",
       "      <td>37.765052</td>\n",
       "      <td>-122.421866</td>\n",
       "      <td>76.0</td>\n",
       "      <td>McCoppin St at Valencia St</td>\n",
       "      <td>37.771662</td>\n",
       "      <td>-122.422423</td>\n",
       "      <td>6558</td>\n",
       "      <td>Subscriber</td>\n",
       "      <td>1945</td>\n",
       "      <td>Male</td>\n",
       "      <td>Yes</td>\n",
       "      <td>57.633333</td>\n",
       "    </tr>\n",
       "    <tr>\n",
       "      <th>4818</th>\n",
       "      <td>545</td>\n",
       "      <td>2019-02-28 14:50:15.746</td>\n",
       "      <td>2019-02-28 14:59:21.237</td>\n",
       "      <td>121.0</td>\n",
       "      <td>Mission Playground</td>\n",
       "      <td>37.759210</td>\n",
       "      <td>-122.421339</td>\n",
       "      <td>109.0</td>\n",
       "      <td>17th St at Valencia St</td>\n",
       "      <td>37.763316</td>\n",
       "      <td>-122.421904</td>\n",
       "      <td>6224</td>\n",
       "      <td>Subscriber</td>\n",
       "      <td>1945</td>\n",
       "      <td>Male</td>\n",
       "      <td>Yes</td>\n",
       "      <td>9.083333</td>\n",
       "    </tr>\n",
       "    <tr>\n",
       "      <th>5197</th>\n",
       "      <td>217</td>\n",
       "      <td>2019-02-28 13:51:46.238</td>\n",
       "      <td>2019-02-28 13:55:24.127</td>\n",
       "      <td>70.0</td>\n",
       "      <td>Central Ave at Fell St</td>\n",
       "      <td>37.773311</td>\n",
       "      <td>-122.444293</td>\n",
       "      <td>71.0</td>\n",
       "      <td>Broderick St at Oak St</td>\n",
       "      <td>37.773063</td>\n",
       "      <td>-122.439078</td>\n",
       "      <td>5801</td>\n",
       "      <td>Subscriber</td>\n",
       "      <td>1931</td>\n",
       "      <td>Male</td>\n",
       "      <td>No</td>\n",
       "      <td>3.616667</td>\n",
       "    </tr>\n",
       "    <tr>\n",
       "      <th>5249</th>\n",
       "      <td>1396</td>\n",
       "      <td>2019-02-28 13:21:36.678</td>\n",
       "      <td>2019-02-28 13:44:53.057</td>\n",
       "      <td>22.0</td>\n",
       "      <td>Howard St at Beale St</td>\n",
       "      <td>37.789756</td>\n",
       "      <td>-122.394643</td>\n",
       "      <td>74.0</td>\n",
       "      <td>Laguna St at Hayes St</td>\n",
       "      <td>37.776435</td>\n",
       "      <td>-122.426244</td>\n",
       "      <td>623</td>\n",
       "      <td>Subscriber</td>\n",
       "      <td>1943</td>\n",
       "      <td>Female</td>\n",
       "      <td>No</td>\n",
       "      <td>23.266667</td>\n",
       "    </tr>\n",
       "    <tr>\n",
       "      <th>5266</th>\n",
       "      <td>384</td>\n",
       "      <td>2019-02-28 13:35:05.428</td>\n",
       "      <td>2019-02-28 13:41:30.223</td>\n",
       "      <td>84.0</td>\n",
       "      <td>Duboce Park</td>\n",
       "      <td>37.769201</td>\n",
       "      <td>-122.433812</td>\n",
       "      <td>71.0</td>\n",
       "      <td>Broderick St at Oak St</td>\n",
       "      <td>37.773063</td>\n",
       "      <td>-122.439078</td>\n",
       "      <td>6608</td>\n",
       "      <td>Subscriber</td>\n",
       "      <td>1931</td>\n",
       "      <td>Male</td>\n",
       "      <td>No</td>\n",
       "      <td>6.400000</td>\n",
       "    </tr>\n",
       "    <tr>\n",
       "      <th>5447</th>\n",
       "      <td>147</td>\n",
       "      <td>2019-02-28 13:08:56.935</td>\n",
       "      <td>2019-02-28 13:11:24.062</td>\n",
       "      <td>84.0</td>\n",
       "      <td>Duboce Park</td>\n",
       "      <td>37.769201</td>\n",
       "      <td>-122.433812</td>\n",
       "      <td>72.0</td>\n",
       "      <td>Page St at Scott St</td>\n",
       "      <td>37.772406</td>\n",
       "      <td>-122.435650</td>\n",
       "      <td>5018</td>\n",
       "      <td>Subscriber</td>\n",
       "      <td>1931</td>\n",
       "      <td>Male</td>\n",
       "      <td>No</td>\n",
       "      <td>2.450000</td>\n",
       "    </tr>\n",
       "    <tr>\n",
       "      <th>6711</th>\n",
       "      <td>415</td>\n",
       "      <td>2019-02-28 09:48:56.881</td>\n",
       "      <td>2019-02-28 09:55:52.595</td>\n",
       "      <td>76.0</td>\n",
       "      <td>McCoppin St at Valencia St</td>\n",
       "      <td>37.771662</td>\n",
       "      <td>-122.422423</td>\n",
       "      <td>127.0</td>\n",
       "      <td>Valencia St at 21st St</td>\n",
       "      <td>37.756708</td>\n",
       "      <td>-122.421025</td>\n",
       "      <td>6235</td>\n",
       "      <td>Subscriber</td>\n",
       "      <td>1945</td>\n",
       "      <td>Male</td>\n",
       "      <td>Yes</td>\n",
       "      <td>6.916667</td>\n",
       "    </tr>\n",
       "    <tr>\n",
       "      <th>10053</th>\n",
       "      <td>372</td>\n",
       "      <td>2019-02-27 22:03:34.576</td>\n",
       "      <td>2019-02-27 22:09:46.961</td>\n",
       "      <td>127.0</td>\n",
       "      <td>Valencia St at 21st St</td>\n",
       "      <td>37.756708</td>\n",
       "      <td>-122.421025</td>\n",
       "      <td>76.0</td>\n",
       "      <td>McCoppin St at Valencia St</td>\n",
       "      <td>37.771662</td>\n",
       "      <td>-122.422423</td>\n",
       "      <td>6207</td>\n",
       "      <td>Subscriber</td>\n",
       "      <td>1945</td>\n",
       "      <td>Male</td>\n",
       "      <td>Yes</td>\n",
       "      <td>6.200000</td>\n",
       "    </tr>\n",
       "    <tr>\n",
       "      <th>10827</th>\n",
       "      <td>1315</td>\n",
       "      <td>2019-02-27 19:21:34.436</td>\n",
       "      <td>2019-02-27 19:43:30.008</td>\n",
       "      <td>343.0</td>\n",
       "      <td>Bryant St at 2nd St</td>\n",
       "      <td>37.783172</td>\n",
       "      <td>-122.393572</td>\n",
       "      <td>375.0</td>\n",
       "      <td>Grove St at Masonic Ave</td>\n",
       "      <td>37.774836</td>\n",
       "      <td>-122.446546</td>\n",
       "      <td>6249</td>\n",
       "      <td>Subscriber</td>\n",
       "      <td>1900</td>\n",
       "      <td>Male</td>\n",
       "      <td>No</td>\n",
       "      <td>21.916667</td>\n",
       "    </tr>\n",
       "    <tr>\n",
       "      <th>13148</th>\n",
       "      <td>355</td>\n",
       "      <td>2019-02-27 16:48:50.073</td>\n",
       "      <td>2019-02-27 16:54:45.784</td>\n",
       "      <td>76.0</td>\n",
       "      <td>McCoppin St at Valencia St</td>\n",
       "      <td>37.771662</td>\n",
       "      <td>-122.422423</td>\n",
       "      <td>127.0</td>\n",
       "      <td>Valencia St at 21st St</td>\n",
       "      <td>37.756708</td>\n",
       "      <td>-122.421025</td>\n",
       "      <td>6207</td>\n",
       "      <td>Subscriber</td>\n",
       "      <td>1945</td>\n",
       "      <td>Male</td>\n",
       "      <td>Yes</td>\n",
       "      <td>5.916667</td>\n",
       "    </tr>\n",
       "    <tr>\n",
       "      <th>13675</th>\n",
       "      <td>554</td>\n",
       "      <td>2019-02-27 15:09:41.550</td>\n",
       "      <td>2019-02-27 15:18:55.971</td>\n",
       "      <td>27.0</td>\n",
       "      <td>Beale St at Harrison St</td>\n",
       "      <td>37.788059</td>\n",
       "      <td>-122.391865</td>\n",
       "      <td>30.0</td>\n",
       "      <td>San Francisco Caltrain (Townsend St at 4th St)</td>\n",
       "      <td>37.776598</td>\n",
       "      <td>-122.395282</td>\n",
       "      <td>5855</td>\n",
       "      <td>Subscriber</td>\n",
       "      <td>1942</td>\n",
       "      <td>Male</td>\n",
       "      <td>No</td>\n",
       "      <td>9.233333</td>\n",
       "    </tr>\n",
       "    <tr>\n",
       "      <th>13806</th>\n",
       "      <td>391</td>\n",
       "      <td>2019-02-27 14:44:13.731</td>\n",
       "      <td>2019-02-27 14:50:45.655</td>\n",
       "      <td>133.0</td>\n",
       "      <td>Valencia St at 22nd St</td>\n",
       "      <td>37.755213</td>\n",
       "      <td>-122.420975</td>\n",
       "      <td>76.0</td>\n",
       "      <td>McCoppin St at Valencia St</td>\n",
       "      <td>37.771662</td>\n",
       "      <td>-122.422423</td>\n",
       "      <td>6207</td>\n",
       "      <td>Subscriber</td>\n",
       "      <td>1945</td>\n",
       "      <td>Male</td>\n",
       "      <td>Yes</td>\n",
       "      <td>6.516667</td>\n",
       "    </tr>\n",
       "    <tr>\n",
       "      <th>14760</th>\n",
       "      <td>394</td>\n",
       "      <td>2019-02-27 11:14:40.622</td>\n",
       "      <td>2019-02-27 11:21:14.737</td>\n",
       "      <td>245.0</td>\n",
       "      <td>Downtown Berkeley BART</td>\n",
       "      <td>37.870139</td>\n",
       "      <td>-122.268422</td>\n",
       "      <td>262.0</td>\n",
       "      <td>West St at University Ave</td>\n",
       "      <td>37.869967</td>\n",
       "      <td>-122.286533</td>\n",
       "      <td>5129</td>\n",
       "      <td>Subscriber</td>\n",
       "      <td>1945</td>\n",
       "      <td>Other</td>\n",
       "      <td>Yes</td>\n",
       "      <td>6.566667</td>\n",
       "    </tr>\n",
       "    <tr>\n",
       "      <th>15120</th>\n",
       "      <td>165</td>\n",
       "      <td>2019-02-27 10:03:28.616</td>\n",
       "      <td>2019-02-27 10:06:14.022</td>\n",
       "      <td>109.0</td>\n",
       "      <td>17th St at Valencia St</td>\n",
       "      <td>37.763316</td>\n",
       "      <td>-122.421904</td>\n",
       "      <td>127.0</td>\n",
       "      <td>Valencia St at 21st St</td>\n",
       "      <td>37.756708</td>\n",
       "      <td>-122.421025</td>\n",
       "      <td>5097</td>\n",
       "      <td>Subscriber</td>\n",
       "      <td>1945</td>\n",
       "      <td>Male</td>\n",
       "      <td>Yes</td>\n",
       "      <td>2.750000</td>\n",
       "    </tr>\n",
       "    <tr>\n",
       "      <th>15163</th>\n",
       "      <td>255</td>\n",
       "      <td>2019-02-27 09:56:40.893</td>\n",
       "      <td>2019-02-27 10:00:56.757</td>\n",
       "      <td>356.0</td>\n",
       "      <td>Valencia St at Clinton Park</td>\n",
       "      <td>37.769188</td>\n",
       "      <td>-122.422285</td>\n",
       "      <td>109.0</td>\n",
       "      <td>17th St at Valencia St</td>\n",
       "      <td>37.763316</td>\n",
       "      <td>-122.421904</td>\n",
       "      <td>2003</td>\n",
       "      <td>Subscriber</td>\n",
       "      <td>1945</td>\n",
       "      <td>Male</td>\n",
       "      <td>Yes</td>\n",
       "      <td>4.250000</td>\n",
       "    </tr>\n",
       "    <tr>\n",
       "      <th>16087</th>\n",
       "      <td>1131</td>\n",
       "      <td>2019-02-27 08:37:36.864</td>\n",
       "      <td>2019-02-27 08:56:28.022</td>\n",
       "      <td>375.0</td>\n",
       "      <td>Grove St at Masonic Ave</td>\n",
       "      <td>37.774836</td>\n",
       "      <td>-122.446546</td>\n",
       "      <td>36.0</td>\n",
       "      <td>Folsom St at 3rd St</td>\n",
       "      <td>37.783830</td>\n",
       "      <td>-122.398870</td>\n",
       "      <td>4968</td>\n",
       "      <td>Subscriber</td>\n",
       "      <td>1900</td>\n",
       "      <td>Male</td>\n",
       "      <td>No</td>\n",
       "      <td>18.850000</td>\n",
       "    </tr>\n",
       "    <tr>\n",
       "      <th>17861</th>\n",
       "      <td>317</td>\n",
       "      <td>2019-02-26 20:23:19.148</td>\n",
       "      <td>2019-02-26 20:28:36.148</td>\n",
       "      <td>43.0</td>\n",
       "      <td>San Francisco Public Library (Grove St at Hyde...</td>\n",
       "      <td>37.778768</td>\n",
       "      <td>-122.415929</td>\n",
       "      <td>76.0</td>\n",
       "      <td>McCoppin St at Valencia St</td>\n",
       "      <td>37.771662</td>\n",
       "      <td>-122.422423</td>\n",
       "      <td>5837</td>\n",
       "      <td>Subscriber</td>\n",
       "      <td>1945</td>\n",
       "      <td>Male</td>\n",
       "      <td>Yes</td>\n",
       "      <td>5.283333</td>\n",
       "    </tr>\n",
       "    <tr>\n",
       "      <th>17981</th>\n",
       "      <td>366</td>\n",
       "      <td>2019-02-26 19:53:38.528</td>\n",
       "      <td>2019-02-26 19:59:44.968</td>\n",
       "      <td>50.0</td>\n",
       "      <td>2nd St at Townsend St</td>\n",
       "      <td>37.780526</td>\n",
       "      <td>-122.390288</td>\n",
       "      <td>21.0</td>\n",
       "      <td>Montgomery St BART Station (Market St at 2nd St)</td>\n",
       "      <td>37.789625</td>\n",
       "      <td>-122.400811</td>\n",
       "      <td>5226</td>\n",
       "      <td>Subscriber</td>\n",
       "      <td>1920</td>\n",
       "      <td>Male</td>\n",
       "      <td>No</td>\n",
       "      <td>6.100000</td>\n",
       "    </tr>\n",
       "    <tr>\n",
       "      <th>18560</th>\n",
       "      <td>578</td>\n",
       "      <td>2019-02-26 18:17:31.290</td>\n",
       "      <td>2019-02-26 18:27:09.307</td>\n",
       "      <td>58.0</td>\n",
       "      <td>Market St at 10th St</td>\n",
       "      <td>37.776619</td>\n",
       "      <td>-122.417385</td>\n",
       "      <td>89.0</td>\n",
       "      <td>Division St at Potrero Ave</td>\n",
       "      <td>37.769218</td>\n",
       "      <td>-122.407646</td>\n",
       "      <td>183</td>\n",
       "      <td>Subscriber</td>\n",
       "      <td>1941</td>\n",
       "      <td>Male</td>\n",
       "      <td>No</td>\n",
       "      <td>9.633333</td>\n",
       "    </tr>\n",
       "    <tr>\n",
       "      <th>18590</th>\n",
       "      <td>333</td>\n",
       "      <td>2019-02-26 18:17:42.396</td>\n",
       "      <td>2019-02-26 18:23:15.824</td>\n",
       "      <td>356.0</td>\n",
       "      <td>Valencia St at Clinton Park</td>\n",
       "      <td>37.769188</td>\n",
       "      <td>-122.422285</td>\n",
       "      <td>43.0</td>\n",
       "      <td>San Francisco Public Library (Grove St at Hyde...</td>\n",
       "      <td>37.778768</td>\n",
       "      <td>-122.415929</td>\n",
       "      <td>5837</td>\n",
       "      <td>Subscriber</td>\n",
       "      <td>1945</td>\n",
       "      <td>Male</td>\n",
       "      <td>Yes</td>\n",
       "      <td>5.550000</td>\n",
       "    </tr>\n",
       "    <tr>\n",
       "      <th>18885</th>\n",
       "      <td>432</td>\n",
       "      <td>2019-02-26 17:48:59.016</td>\n",
       "      <td>2019-02-26 17:56:11.370</td>\n",
       "      <td>21.0</td>\n",
       "      <td>Montgomery St BART Station (Market St at 2nd St)</td>\n",
       "      <td>37.789625</td>\n",
       "      <td>-122.400811</td>\n",
       "      <td>50.0</td>\n",
       "      <td>2nd St at Townsend St</td>\n",
       "      <td>37.780526</td>\n",
       "      <td>-122.390288</td>\n",
       "      <td>5319</td>\n",
       "      <td>Subscriber</td>\n",
       "      <td>1920</td>\n",
       "      <td>Male</td>\n",
       "      <td>No</td>\n",
       "      <td>7.200000</td>\n",
       "    </tr>\n",
       "    <tr>\n",
       "      <th>19375</th>\n",
       "      <td>641</td>\n",
       "      <td>2019-02-26 17:03:19.855</td>\n",
       "      <td>2019-02-26 17:14:01.619</td>\n",
       "      <td>9.0</td>\n",
       "      <td>Broadway at Battery St</td>\n",
       "      <td>37.798572</td>\n",
       "      <td>-122.400869</td>\n",
       "      <td>30.0</td>\n",
       "      <td>San Francisco Caltrain (Townsend St at 4th St)</td>\n",
       "      <td>37.776598</td>\n",
       "      <td>-122.395282</td>\n",
       "      <td>6164</td>\n",
       "      <td>Customer</td>\n",
       "      <td>1900</td>\n",
       "      <td>Male</td>\n",
       "      <td>No</td>\n",
       "      <td>10.683333</td>\n",
       "    </tr>\n",
       "    <tr>\n",
       "      <th>20743</th>\n",
       "      <td>380</td>\n",
       "      <td>2019-02-26 10:57:07.767</td>\n",
       "      <td>2019-02-26 11:03:28.196</td>\n",
       "      <td>26.0</td>\n",
       "      <td>1st St at Folsom St</td>\n",
       "      <td>37.787290</td>\n",
       "      <td>-122.394380</td>\n",
       "      <td>61.0</td>\n",
       "      <td>Howard St at 8th St</td>\n",
       "      <td>37.776513</td>\n",
       "      <td>-122.411306</td>\n",
       "      <td>5387</td>\n",
       "      <td>Subscriber</td>\n",
       "      <td>1933</td>\n",
       "      <td>Female</td>\n",
       "      <td>Yes</td>\n",
       "      <td>6.333333</td>\n",
       "    </tr>\n",
       "    <tr>\n",
       "      <th>20990</th>\n",
       "      <td>694</td>\n",
       "      <td>2019-02-26 09:48:38.222</td>\n",
       "      <td>2019-02-26 10:00:12.734</td>\n",
       "      <td>76.0</td>\n",
       "      <td>McCoppin St at Valencia St</td>\n",
       "      <td>37.771662</td>\n",
       "      <td>-122.422423</td>\n",
       "      <td>127.0</td>\n",
       "      <td>Valencia St at 21st St</td>\n",
       "      <td>37.756708</td>\n",
       "      <td>-122.421025</td>\n",
       "      <td>6436</td>\n",
       "      <td>Subscriber</td>\n",
       "      <td>1945</td>\n",
       "      <td>Male</td>\n",
       "      <td>Yes</td>\n",
       "      <td>11.566667</td>\n",
       "    </tr>\n",
       "    <tr>\n",
       "      <th>21424</th>\n",
       "      <td>1424</td>\n",
       "      <td>2019-02-26 08:58:02.904</td>\n",
       "      <td>2019-02-26 09:21:47.749</td>\n",
       "      <td>375.0</td>\n",
       "      <td>Grove St at Masonic Ave</td>\n",
       "      <td>37.774836</td>\n",
       "      <td>-122.446546</td>\n",
       "      <td>343.0</td>\n",
       "      <td>Bryant St at 2nd St</td>\n",
       "      <td>37.783172</td>\n",
       "      <td>-122.393572</td>\n",
       "      <td>5344</td>\n",
       "      <td>Subscriber</td>\n",
       "      <td>1900</td>\n",
       "      <td>Male</td>\n",
       "      <td>No</td>\n",
       "      <td>23.733333</td>\n",
       "    </tr>\n",
       "    <tr>\n",
       "      <th>21506</th>\n",
       "      <td>701</td>\n",
       "      <td>2019-02-26 09:06:11.239</td>\n",
       "      <td>2019-02-26 09:17:52.442</td>\n",
       "      <td>67.0</td>\n",
       "      <td>San Francisco Caltrain Station 2  (Townsend St...</td>\n",
       "      <td>37.776639</td>\n",
       "      <td>-122.395526</td>\n",
       "      <td>9.0</td>\n",
       "      <td>Broadway at Battery St</td>\n",
       "      <td>37.798572</td>\n",
       "      <td>-122.400869</td>\n",
       "      <td>5337</td>\n",
       "      <td>Customer</td>\n",
       "      <td>1900</td>\n",
       "      <td>Male</td>\n",
       "      <td>No</td>\n",
       "      <td>11.683333</td>\n",
       "    </tr>\n",
       "    <tr>\n",
       "      <th>...</th>\n",
       "      <td>...</td>\n",
       "      <td>...</td>\n",
       "      <td>...</td>\n",
       "      <td>...</td>\n",
       "      <td>...</td>\n",
       "      <td>...</td>\n",
       "      <td>...</td>\n",
       "      <td>...</td>\n",
       "      <td>...</td>\n",
       "      <td>...</td>\n",
       "      <td>...</td>\n",
       "      <td>...</td>\n",
       "      <td>...</td>\n",
       "      <td>...</td>\n",
       "      <td>...</td>\n",
       "      <td>...</td>\n",
       "      <td>...</td>\n",
       "    </tr>\n",
       "    <tr>\n",
       "      <th>163112</th>\n",
       "      <td>1640</td>\n",
       "      <td>2019-02-05 09:18:18.397</td>\n",
       "      <td>2019-02-05 09:45:39.016</td>\n",
       "      <td>377.0</td>\n",
       "      <td>Fell St at Stanyan St</td>\n",
       "      <td>37.771917</td>\n",
       "      <td>-122.453704</td>\n",
       "      <td>36.0</td>\n",
       "      <td>Folsom St at 3rd St</td>\n",
       "      <td>37.783830</td>\n",
       "      <td>-122.398870</td>\n",
       "      <td>2715</td>\n",
       "      <td>Subscriber</td>\n",
       "      <td>1900</td>\n",
       "      <td>Male</td>\n",
       "      <td>No</td>\n",
       "      <td>27.333333</td>\n",
       "    </tr>\n",
       "    <tr>\n",
       "      <th>165347</th>\n",
       "      <td>1013</td>\n",
       "      <td>2019-02-05 07:11:14.456</td>\n",
       "      <td>2019-02-05 07:28:07.635</td>\n",
       "      <td>81.0</td>\n",
       "      <td>Berry St at 4th St</td>\n",
       "      <td>37.775880</td>\n",
       "      <td>-122.393170</td>\n",
       "      <td>14.0</td>\n",
       "      <td>Clay St at Battery St</td>\n",
       "      <td>37.795001</td>\n",
       "      <td>-122.399970</td>\n",
       "      <td>1511</td>\n",
       "      <td>Subscriber</td>\n",
       "      <td>1945</td>\n",
       "      <td>Male</td>\n",
       "      <td>No</td>\n",
       "      <td>16.883333</td>\n",
       "    </tr>\n",
       "    <tr>\n",
       "      <th>165505</th>\n",
       "      <td>255</td>\n",
       "      <td>2019-02-05 06:52:54.194</td>\n",
       "      <td>2019-02-05 06:57:10.083</td>\n",
       "      <td>84.0</td>\n",
       "      <td>Duboce Park</td>\n",
       "      <td>37.769201</td>\n",
       "      <td>-122.433812</td>\n",
       "      <td>118.0</td>\n",
       "      <td>Eureka Valley Recreation Center</td>\n",
       "      <td>37.759177</td>\n",
       "      <td>-122.436943</td>\n",
       "      <td>5381</td>\n",
       "      <td>Subscriber</td>\n",
       "      <td>1931</td>\n",
       "      <td>Male</td>\n",
       "      <td>No</td>\n",
       "      <td>4.250000</td>\n",
       "    </tr>\n",
       "    <tr>\n",
       "      <th>165811</th>\n",
       "      <td>291</td>\n",
       "      <td>2019-02-04 22:09:05.110</td>\n",
       "      <td>2019-02-04 22:13:57.024</td>\n",
       "      <td>88.0</td>\n",
       "      <td>11th St at Bryant St</td>\n",
       "      <td>37.770030</td>\n",
       "      <td>-122.411726</td>\n",
       "      <td>79.0</td>\n",
       "      <td>7th St at Brannan St</td>\n",
       "      <td>37.773492</td>\n",
       "      <td>-122.403673</td>\n",
       "      <td>5408</td>\n",
       "      <td>Subscriber</td>\n",
       "      <td>1943</td>\n",
       "      <td>Male</td>\n",
       "      <td>Yes</td>\n",
       "      <td>4.850000</td>\n",
       "    </tr>\n",
       "    <tr>\n",
       "      <th>167178</th>\n",
       "      <td>526</td>\n",
       "      <td>2019-02-04 17:36:54.155</td>\n",
       "      <td>2019-02-04 17:45:41.140</td>\n",
       "      <td>25.0</td>\n",
       "      <td>Howard St at 2nd St</td>\n",
       "      <td>37.787522</td>\n",
       "      <td>-122.397405</td>\n",
       "      <td>30.0</td>\n",
       "      <td>San Francisco Caltrain (Townsend St at 4th St)</td>\n",
       "      <td>37.776598</td>\n",
       "      <td>-122.395282</td>\n",
       "      <td>184</td>\n",
       "      <td>Subscriber</td>\n",
       "      <td>1902</td>\n",
       "      <td>Female</td>\n",
       "      <td>No</td>\n",
       "      <td>8.766667</td>\n",
       "    </tr>\n",
       "    <tr>\n",
       "      <th>167979</th>\n",
       "      <td>269</td>\n",
       "      <td>2019-02-04 16:33:10.017</td>\n",
       "      <td>2019-02-04 16:37:39.805</td>\n",
       "      <td>211.0</td>\n",
       "      <td>Broadway at 40th St</td>\n",
       "      <td>37.827757</td>\n",
       "      <td>-122.256716</td>\n",
       "      <td>176.0</td>\n",
       "      <td>MacArthur BART Station</td>\n",
       "      <td>37.828410</td>\n",
       "      <td>-122.266315</td>\n",
       "      <td>5074</td>\n",
       "      <td>Subscriber</td>\n",
       "      <td>1942</td>\n",
       "      <td>Male</td>\n",
       "      <td>No</td>\n",
       "      <td>4.483333</td>\n",
       "    </tr>\n",
       "    <tr>\n",
       "      <th>169054</th>\n",
       "      <td>873</td>\n",
       "      <td>2019-02-04 12:19:57.300</td>\n",
       "      <td>2019-02-04 12:34:31.178</td>\n",
       "      <td>14.0</td>\n",
       "      <td>Clay St at Battery St</td>\n",
       "      <td>37.795001</td>\n",
       "      <td>-122.399970</td>\n",
       "      <td>81.0</td>\n",
       "      <td>Berry St at 4th St</td>\n",
       "      <td>37.775880</td>\n",
       "      <td>-122.393170</td>\n",
       "      <td>577</td>\n",
       "      <td>Subscriber</td>\n",
       "      <td>1945</td>\n",
       "      <td>Male</td>\n",
       "      <td>No</td>\n",
       "      <td>14.550000</td>\n",
       "    </tr>\n",
       "    <tr>\n",
       "      <th>169191</th>\n",
       "      <td>508</td>\n",
       "      <td>2019-02-04 11:47:38.038</td>\n",
       "      <td>2019-02-04 11:56:06.600</td>\n",
       "      <td>27.0</td>\n",
       "      <td>Beale St at Harrison St</td>\n",
       "      <td>37.788059</td>\n",
       "      <td>-122.391865</td>\n",
       "      <td>30.0</td>\n",
       "      <td>San Francisco Caltrain (Townsend St at 4th St)</td>\n",
       "      <td>37.776598</td>\n",
       "      <td>-122.395282</td>\n",
       "      <td>3241</td>\n",
       "      <td>Subscriber</td>\n",
       "      <td>1942</td>\n",
       "      <td>Male</td>\n",
       "      <td>No</td>\n",
       "      <td>8.466667</td>\n",
       "    </tr>\n",
       "    <tr>\n",
       "      <th>170948</th>\n",
       "      <td>890</td>\n",
       "      <td>2019-02-04 07:11:01.281</td>\n",
       "      <td>2019-02-04 07:25:51.797</td>\n",
       "      <td>81.0</td>\n",
       "      <td>Berry St at 4th St</td>\n",
       "      <td>37.775880</td>\n",
       "      <td>-122.393170</td>\n",
       "      <td>14.0</td>\n",
       "      <td>Clay St at Battery St</td>\n",
       "      <td>37.795001</td>\n",
       "      <td>-122.399970</td>\n",
       "      <td>1896</td>\n",
       "      <td>Subscriber</td>\n",
       "      <td>1945</td>\n",
       "      <td>Male</td>\n",
       "      <td>No</td>\n",
       "      <td>14.833333</td>\n",
       "    </tr>\n",
       "    <tr>\n",
       "      <th>171086</th>\n",
       "      <td>1086</td>\n",
       "      <td>2019-02-04 06:30:33.383</td>\n",
       "      <td>2019-02-04 06:48:39.869</td>\n",
       "      <td>375.0</td>\n",
       "      <td>Grove St at Masonic Ave</td>\n",
       "      <td>37.774836</td>\n",
       "      <td>-122.446546</td>\n",
       "      <td>36.0</td>\n",
       "      <td>Folsom St at 3rd St</td>\n",
       "      <td>37.783830</td>\n",
       "      <td>-122.398870</td>\n",
       "      <td>4435</td>\n",
       "      <td>Subscriber</td>\n",
       "      <td>1900</td>\n",
       "      <td>Male</td>\n",
       "      <td>No</td>\n",
       "      <td>18.100000</td>\n",
       "    </tr>\n",
       "    <tr>\n",
       "      <th>171757</th>\n",
       "      <td>94</td>\n",
       "      <td>2019-02-03 19:12:06.607</td>\n",
       "      <td>2019-02-03 19:13:40.671</td>\n",
       "      <td>173.0</td>\n",
       "      <td>Shattuck Ave at 55th St</td>\n",
       "      <td>37.840364</td>\n",
       "      <td>-122.264488</td>\n",
       "      <td>174.0</td>\n",
       "      <td>Shattuck Ave at 51st St</td>\n",
       "      <td>37.836801</td>\n",
       "      <td>-122.264004</td>\n",
       "      <td>4539</td>\n",
       "      <td>Subscriber</td>\n",
       "      <td>1900</td>\n",
       "      <td>Male</td>\n",
       "      <td>Yes</td>\n",
       "      <td>1.566667</td>\n",
       "    </tr>\n",
       "    <tr>\n",
       "      <th>171996</th>\n",
       "      <td>1368</td>\n",
       "      <td>2019-02-03 17:33:54.607</td>\n",
       "      <td>2019-02-03 17:56:42.949</td>\n",
       "      <td>37.0</td>\n",
       "      <td>2nd St at Folsom St</td>\n",
       "      <td>37.785000</td>\n",
       "      <td>-122.395936</td>\n",
       "      <td>375.0</td>\n",
       "      <td>Grove St at Masonic Ave</td>\n",
       "      <td>37.774836</td>\n",
       "      <td>-122.446546</td>\n",
       "      <td>4988</td>\n",
       "      <td>Subscriber</td>\n",
       "      <td>1900</td>\n",
       "      <td>Male</td>\n",
       "      <td>No</td>\n",
       "      <td>22.800000</td>\n",
       "    </tr>\n",
       "    <tr>\n",
       "      <th>172057</th>\n",
       "      <td>459</td>\n",
       "      <td>2019-02-03 17:35:24.084</td>\n",
       "      <td>2019-02-03 17:43:03.460</td>\n",
       "      <td>99.0</td>\n",
       "      <td>Folsom St at 15th St</td>\n",
       "      <td>37.767037</td>\n",
       "      <td>-122.415443</td>\n",
       "      <td>76.0</td>\n",
       "      <td>McCoppin St at Valencia St</td>\n",
       "      <td>37.771662</td>\n",
       "      <td>-122.422423</td>\n",
       "      <td>5376</td>\n",
       "      <td>Subscriber</td>\n",
       "      <td>1945</td>\n",
       "      <td>Male</td>\n",
       "      <td>Yes</td>\n",
       "      <td>7.650000</td>\n",
       "    </tr>\n",
       "    <tr>\n",
       "      <th>172221</th>\n",
       "      <td>454</td>\n",
       "      <td>2019-02-03 16:50:56.235</td>\n",
       "      <td>2019-02-03 16:58:30.507</td>\n",
       "      <td>109.0</td>\n",
       "      <td>17th St at Valencia St</td>\n",
       "      <td>37.763316</td>\n",
       "      <td>-122.421904</td>\n",
       "      <td>99.0</td>\n",
       "      <td>Folsom St at 15th St</td>\n",
       "      <td>37.767037</td>\n",
       "      <td>-122.415443</td>\n",
       "      <td>5376</td>\n",
       "      <td>Subscriber</td>\n",
       "      <td>1945</td>\n",
       "      <td>Male</td>\n",
       "      <td>Yes</td>\n",
       "      <td>7.566667</td>\n",
       "    </tr>\n",
       "    <tr>\n",
       "      <th>172461</th>\n",
       "      <td>333</td>\n",
       "      <td>2019-02-03 15:55:45.200</td>\n",
       "      <td>2019-02-03 16:01:18.645</td>\n",
       "      <td>76.0</td>\n",
       "      <td>McCoppin St at Valencia St</td>\n",
       "      <td>37.771662</td>\n",
       "      <td>-122.422423</td>\n",
       "      <td>109.0</td>\n",
       "      <td>17th St at Valencia St</td>\n",
       "      <td>37.763316</td>\n",
       "      <td>-122.421904</td>\n",
       "      <td>844</td>\n",
       "      <td>Subscriber</td>\n",
       "      <td>1945</td>\n",
       "      <td>Male</td>\n",
       "      <td>Yes</td>\n",
       "      <td>5.550000</td>\n",
       "    </tr>\n",
       "    <tr>\n",
       "      <th>172764</th>\n",
       "      <td>1789</td>\n",
       "      <td>2019-02-03 14:28:02.491</td>\n",
       "      <td>2019-02-03 14:57:51.942</td>\n",
       "      <td>271.0</td>\n",
       "      <td>San Pablo Park</td>\n",
       "      <td>37.855783</td>\n",
       "      <td>-122.283127</td>\n",
       "      <td>271.0</td>\n",
       "      <td>San Pablo Park</td>\n",
       "      <td>37.855783</td>\n",
       "      <td>-122.283127</td>\n",
       "      <td>3580</td>\n",
       "      <td>Customer</td>\n",
       "      <td>1945</td>\n",
       "      <td>Male</td>\n",
       "      <td>No</td>\n",
       "      <td>29.816667</td>\n",
       "    </tr>\n",
       "    <tr>\n",
       "      <th>173711</th>\n",
       "      <td>993</td>\n",
       "      <td>2019-02-03 09:45:30.464</td>\n",
       "      <td>2019-02-03 10:02:04.169</td>\n",
       "      <td>375.0</td>\n",
       "      <td>Grove St at Masonic Ave</td>\n",
       "      <td>37.774836</td>\n",
       "      <td>-122.446546</td>\n",
       "      <td>36.0</td>\n",
       "      <td>Folsom St at 3rd St</td>\n",
       "      <td>37.783830</td>\n",
       "      <td>-122.398870</td>\n",
       "      <td>5445</td>\n",
       "      <td>Subscriber</td>\n",
       "      <td>1900</td>\n",
       "      <td>Male</td>\n",
       "      <td>No</td>\n",
       "      <td>16.550000</td>\n",
       "    </tr>\n",
       "    <tr>\n",
       "      <th>175394</th>\n",
       "      <td>1310</td>\n",
       "      <td>2019-02-02 14:17:10.232</td>\n",
       "      <td>2019-02-02 14:39:00.412</td>\n",
       "      <td>85.0</td>\n",
       "      <td>Church St at Duboce Ave</td>\n",
       "      <td>37.770083</td>\n",
       "      <td>-122.429156</td>\n",
       "      <td>89.0</td>\n",
       "      <td>Division St at Potrero Ave</td>\n",
       "      <td>37.769218</td>\n",
       "      <td>-122.407646</td>\n",
       "      <td>5125</td>\n",
       "      <td>Customer</td>\n",
       "      <td>1939</td>\n",
       "      <td>Male</td>\n",
       "      <td>No</td>\n",
       "      <td>21.833333</td>\n",
       "    </tr>\n",
       "    <tr>\n",
       "      <th>175698</th>\n",
       "      <td>312</td>\n",
       "      <td>2019-02-02 13:43:50.589</td>\n",
       "      <td>2019-02-02 13:49:03.380</td>\n",
       "      <td>30.0</td>\n",
       "      <td>San Francisco Caltrain (Townsend St at 4th St)</td>\n",
       "      <td>37.776598</td>\n",
       "      <td>-122.395282</td>\n",
       "      <td>27.0</td>\n",
       "      <td>Beale St at Harrison St</td>\n",
       "      <td>37.788059</td>\n",
       "      <td>-122.391865</td>\n",
       "      <td>5359</td>\n",
       "      <td>Subscriber</td>\n",
       "      <td>1942</td>\n",
       "      <td>Male</td>\n",
       "      <td>No</td>\n",
       "      <td>5.200000</td>\n",
       "    </tr>\n",
       "    <tr>\n",
       "      <th>175858</th>\n",
       "      <td>366</td>\n",
       "      <td>2019-02-02 13:15:59.583</td>\n",
       "      <td>2019-02-02 13:22:06.537</td>\n",
       "      <td>28.0</td>\n",
       "      <td>The Embarcadero at Bryant St</td>\n",
       "      <td>37.787168</td>\n",
       "      <td>-122.388098</td>\n",
       "      <td>30.0</td>\n",
       "      <td>San Francisco Caltrain (Townsend St at 4th St)</td>\n",
       "      <td>37.776598</td>\n",
       "      <td>-122.395282</td>\n",
       "      <td>5359</td>\n",
       "      <td>Subscriber</td>\n",
       "      <td>1942</td>\n",
       "      <td>Male</td>\n",
       "      <td>No</td>\n",
       "      <td>6.100000</td>\n",
       "    </tr>\n",
       "    <tr>\n",
       "      <th>176220</th>\n",
       "      <td>310</td>\n",
       "      <td>2019-02-02 12:11:19.415</td>\n",
       "      <td>2019-02-02 12:16:30.203</td>\n",
       "      <td>284.0</td>\n",
       "      <td>Yerba Buena Center for the Arts (Howard St at ...</td>\n",
       "      <td>37.784872</td>\n",
       "      <td>-122.400876</td>\n",
       "      <td>27.0</td>\n",
       "      <td>Beale St at Harrison St</td>\n",
       "      <td>37.788059</td>\n",
       "      <td>-122.391865</td>\n",
       "      <td>5549</td>\n",
       "      <td>Subscriber</td>\n",
       "      <td>1942</td>\n",
       "      <td>Male</td>\n",
       "      <td>No</td>\n",
       "      <td>5.166667</td>\n",
       "    </tr>\n",
       "    <tr>\n",
       "      <th>177708</th>\n",
       "      <td>1527</td>\n",
       "      <td>2019-02-01 19:09:28.387</td>\n",
       "      <td>2019-02-01 19:34:55.963</td>\n",
       "      <td>343.0</td>\n",
       "      <td>Bryant St at 2nd St</td>\n",
       "      <td>37.783172</td>\n",
       "      <td>-122.393572</td>\n",
       "      <td>375.0</td>\n",
       "      <td>Grove St at Masonic Ave</td>\n",
       "      <td>37.774836</td>\n",
       "      <td>-122.446546</td>\n",
       "      <td>5286</td>\n",
       "      <td>Subscriber</td>\n",
       "      <td>1900</td>\n",
       "      <td>Male</td>\n",
       "      <td>No</td>\n",
       "      <td>25.450000</td>\n",
       "    </tr>\n",
       "    <tr>\n",
       "      <th>177885</th>\n",
       "      <td>517</td>\n",
       "      <td>2019-02-01 18:38:40.471</td>\n",
       "      <td>2019-02-01 18:47:18.392</td>\n",
       "      <td>25.0</td>\n",
       "      <td>Howard St at 2nd St</td>\n",
       "      <td>37.787522</td>\n",
       "      <td>-122.397405</td>\n",
       "      <td>30.0</td>\n",
       "      <td>San Francisco Caltrain (Townsend St at 4th St)</td>\n",
       "      <td>37.776598</td>\n",
       "      <td>-122.395282</td>\n",
       "      <td>2175</td>\n",
       "      <td>Subscriber</td>\n",
       "      <td>1902</td>\n",
       "      <td>Female</td>\n",
       "      <td>No</td>\n",
       "      <td>8.616667</td>\n",
       "    </tr>\n",
       "    <tr>\n",
       "      <th>177955</th>\n",
       "      <td>377</td>\n",
       "      <td>2019-02-01 18:23:33.411</td>\n",
       "      <td>2019-02-01 18:29:50.795</td>\n",
       "      <td>26.0</td>\n",
       "      <td>1st St at Folsom St</td>\n",
       "      <td>37.787290</td>\n",
       "      <td>-122.394380</td>\n",
       "      <td>321.0</td>\n",
       "      <td>5th St at Folsom</td>\n",
       "      <td>37.780146</td>\n",
       "      <td>-122.403071</td>\n",
       "      <td>5444</td>\n",
       "      <td>Subscriber</td>\n",
       "      <td>1933</td>\n",
       "      <td>Female</td>\n",
       "      <td>Yes</td>\n",
       "      <td>6.283333</td>\n",
       "    </tr>\n",
       "    <tr>\n",
       "      <th>179280</th>\n",
       "      <td>355</td>\n",
       "      <td>2019-02-01 14:32:42.247</td>\n",
       "      <td>2019-02-01 14:38:37.896</td>\n",
       "      <td>134.0</td>\n",
       "      <td>Valencia St at 24th St</td>\n",
       "      <td>37.752428</td>\n",
       "      <td>-122.420628</td>\n",
       "      <td>131.0</td>\n",
       "      <td>22nd St at Dolores St</td>\n",
       "      <td>37.755000</td>\n",
       "      <td>-122.425728</td>\n",
       "      <td>1815</td>\n",
       "      <td>Subscriber</td>\n",
       "      <td>1938</td>\n",
       "      <td>Male</td>\n",
       "      <td>No</td>\n",
       "      <td>5.916667</td>\n",
       "    </tr>\n",
       "    <tr>\n",
       "      <th>180728</th>\n",
       "      <td>362</td>\n",
       "      <td>2019-02-01 10:13:44.871</td>\n",
       "      <td>2019-02-01 10:19:47.762</td>\n",
       "      <td>30.0</td>\n",
       "      <td>San Francisco Caltrain (Townsend St at 4th St)</td>\n",
       "      <td>37.776598</td>\n",
       "      <td>-122.395282</td>\n",
       "      <td>27.0</td>\n",
       "      <td>Beale St at Harrison St</td>\n",
       "      <td>37.788059</td>\n",
       "      <td>-122.391865</td>\n",
       "      <td>4877</td>\n",
       "      <td>Subscriber</td>\n",
       "      <td>1942</td>\n",
       "      <td>Male</td>\n",
       "      <td>No</td>\n",
       "      <td>6.033333</td>\n",
       "    </tr>\n",
       "    <tr>\n",
       "      <th>181019</th>\n",
       "      <td>494</td>\n",
       "      <td>2019-02-01 09:38:06.311</td>\n",
       "      <td>2019-02-01 09:46:21.165</td>\n",
       "      <td>27.0</td>\n",
       "      <td>Beale St at Harrison St</td>\n",
       "      <td>37.788059</td>\n",
       "      <td>-122.391865</td>\n",
       "      <td>30.0</td>\n",
       "      <td>San Francisco Caltrain (Townsend St at 4th St)</td>\n",
       "      <td>37.776598</td>\n",
       "      <td>-122.395282</td>\n",
       "      <td>5474</td>\n",
       "      <td>Subscriber</td>\n",
       "      <td>1942</td>\n",
       "      <td>Male</td>\n",
       "      <td>No</td>\n",
       "      <td>8.233333</td>\n",
       "    </tr>\n",
       "    <tr>\n",
       "      <th>182830</th>\n",
       "      <td>428</td>\n",
       "      <td>2019-02-01 07:45:05.934</td>\n",
       "      <td>2019-02-01 07:52:14.922</td>\n",
       "      <td>284.0</td>\n",
       "      <td>Yerba Buena Center for the Arts (Howard St at ...</td>\n",
       "      <td>37.784872</td>\n",
       "      <td>-122.400876</td>\n",
       "      <td>67.0</td>\n",
       "      <td>San Francisco Caltrain Station 2  (Townsend St...</td>\n",
       "      <td>37.776639</td>\n",
       "      <td>-122.395526</td>\n",
       "      <td>5031</td>\n",
       "      <td>Subscriber</td>\n",
       "      <td>1901</td>\n",
       "      <td>Male</td>\n",
       "      <td>No</td>\n",
       "      <td>7.133333</td>\n",
       "    </tr>\n",
       "    <tr>\n",
       "      <th>183385</th>\n",
       "      <td>400</td>\n",
       "      <td>2019-02-01 00:46:47.276</td>\n",
       "      <td>2019-02-01 00:53:27.596</td>\n",
       "      <td>220.0</td>\n",
       "      <td>San Pablo Ave at MLK Jr Way</td>\n",
       "      <td>37.811351</td>\n",
       "      <td>-122.273422</td>\n",
       "      <td>337.0</td>\n",
       "      <td>Webster St at 19th St</td>\n",
       "      <td>37.806970</td>\n",
       "      <td>-122.266588</td>\n",
       "      <td>3487</td>\n",
       "      <td>Subscriber</td>\n",
       "      <td>1945</td>\n",
       "      <td>Male</td>\n",
       "      <td>Yes</td>\n",
       "      <td>6.666667</td>\n",
       "    </tr>\n",
       "    <tr>\n",
       "      <th>183388</th>\n",
       "      <td>490</td>\n",
       "      <td>2019-02-01 00:39:53.112</td>\n",
       "      <td>2019-02-01 00:48:03.338</td>\n",
       "      <td>61.0</td>\n",
       "      <td>Howard St at 8th St</td>\n",
       "      <td>37.776513</td>\n",
       "      <td>-122.411306</td>\n",
       "      <td>81.0</td>\n",
       "      <td>Berry St at 4th St</td>\n",
       "      <td>37.775880</td>\n",
       "      <td>-122.393170</td>\n",
       "      <td>5411</td>\n",
       "      <td>Subscriber</td>\n",
       "      <td>1927</td>\n",
       "      <td>Male</td>\n",
       "      <td>No</td>\n",
       "      <td>8.166667</td>\n",
       "    </tr>\n",
       "  </tbody>\n",
       "</table>\n",
       "<p>370 rows × 17 columns</p>\n",
       "</div>"
      ],
      "text/plain": [
       "        duration_sec              start_time                end_time  \\\n",
       "1073             303 2019-02-28 19:49:38.120 2019-02-28 19:54:42.044   \n",
       "1285             148 2019-02-28 19:29:17.627 2019-02-28 19:31:45.967   \n",
       "2085             694 2019-02-28 18:21:05.187 2019-02-28 18:32:39.596   \n",
       "2366             191 2019-02-28 18:14:07.503 2019-02-28 18:17:18.808   \n",
       "2484            3458 2019-02-28 17:13:50.585 2019-02-28 18:11:28.806   \n",
       "4818             545 2019-02-28 14:50:15.746 2019-02-28 14:59:21.237   \n",
       "5197             217 2019-02-28 13:51:46.238 2019-02-28 13:55:24.127   \n",
       "5249            1396 2019-02-28 13:21:36.678 2019-02-28 13:44:53.057   \n",
       "5266             384 2019-02-28 13:35:05.428 2019-02-28 13:41:30.223   \n",
       "5447             147 2019-02-28 13:08:56.935 2019-02-28 13:11:24.062   \n",
       "6711             415 2019-02-28 09:48:56.881 2019-02-28 09:55:52.595   \n",
       "10053            372 2019-02-27 22:03:34.576 2019-02-27 22:09:46.961   \n",
       "10827           1315 2019-02-27 19:21:34.436 2019-02-27 19:43:30.008   \n",
       "13148            355 2019-02-27 16:48:50.073 2019-02-27 16:54:45.784   \n",
       "13675            554 2019-02-27 15:09:41.550 2019-02-27 15:18:55.971   \n",
       "13806            391 2019-02-27 14:44:13.731 2019-02-27 14:50:45.655   \n",
       "14760            394 2019-02-27 11:14:40.622 2019-02-27 11:21:14.737   \n",
       "15120            165 2019-02-27 10:03:28.616 2019-02-27 10:06:14.022   \n",
       "15163            255 2019-02-27 09:56:40.893 2019-02-27 10:00:56.757   \n",
       "16087           1131 2019-02-27 08:37:36.864 2019-02-27 08:56:28.022   \n",
       "17861            317 2019-02-26 20:23:19.148 2019-02-26 20:28:36.148   \n",
       "17981            366 2019-02-26 19:53:38.528 2019-02-26 19:59:44.968   \n",
       "18560            578 2019-02-26 18:17:31.290 2019-02-26 18:27:09.307   \n",
       "18590            333 2019-02-26 18:17:42.396 2019-02-26 18:23:15.824   \n",
       "18885            432 2019-02-26 17:48:59.016 2019-02-26 17:56:11.370   \n",
       "19375            641 2019-02-26 17:03:19.855 2019-02-26 17:14:01.619   \n",
       "20743            380 2019-02-26 10:57:07.767 2019-02-26 11:03:28.196   \n",
       "20990            694 2019-02-26 09:48:38.222 2019-02-26 10:00:12.734   \n",
       "21424           1424 2019-02-26 08:58:02.904 2019-02-26 09:21:47.749   \n",
       "21506            701 2019-02-26 09:06:11.239 2019-02-26 09:17:52.442   \n",
       "...              ...                     ...                     ...   \n",
       "163112          1640 2019-02-05 09:18:18.397 2019-02-05 09:45:39.016   \n",
       "165347          1013 2019-02-05 07:11:14.456 2019-02-05 07:28:07.635   \n",
       "165505           255 2019-02-05 06:52:54.194 2019-02-05 06:57:10.083   \n",
       "165811           291 2019-02-04 22:09:05.110 2019-02-04 22:13:57.024   \n",
       "167178           526 2019-02-04 17:36:54.155 2019-02-04 17:45:41.140   \n",
       "167979           269 2019-02-04 16:33:10.017 2019-02-04 16:37:39.805   \n",
       "169054           873 2019-02-04 12:19:57.300 2019-02-04 12:34:31.178   \n",
       "169191           508 2019-02-04 11:47:38.038 2019-02-04 11:56:06.600   \n",
       "170948           890 2019-02-04 07:11:01.281 2019-02-04 07:25:51.797   \n",
       "171086          1086 2019-02-04 06:30:33.383 2019-02-04 06:48:39.869   \n",
       "171757            94 2019-02-03 19:12:06.607 2019-02-03 19:13:40.671   \n",
       "171996          1368 2019-02-03 17:33:54.607 2019-02-03 17:56:42.949   \n",
       "172057           459 2019-02-03 17:35:24.084 2019-02-03 17:43:03.460   \n",
       "172221           454 2019-02-03 16:50:56.235 2019-02-03 16:58:30.507   \n",
       "172461           333 2019-02-03 15:55:45.200 2019-02-03 16:01:18.645   \n",
       "172764          1789 2019-02-03 14:28:02.491 2019-02-03 14:57:51.942   \n",
       "173711           993 2019-02-03 09:45:30.464 2019-02-03 10:02:04.169   \n",
       "175394          1310 2019-02-02 14:17:10.232 2019-02-02 14:39:00.412   \n",
       "175698           312 2019-02-02 13:43:50.589 2019-02-02 13:49:03.380   \n",
       "175858           366 2019-02-02 13:15:59.583 2019-02-02 13:22:06.537   \n",
       "176220           310 2019-02-02 12:11:19.415 2019-02-02 12:16:30.203   \n",
       "177708          1527 2019-02-01 19:09:28.387 2019-02-01 19:34:55.963   \n",
       "177885           517 2019-02-01 18:38:40.471 2019-02-01 18:47:18.392   \n",
       "177955           377 2019-02-01 18:23:33.411 2019-02-01 18:29:50.795   \n",
       "179280           355 2019-02-01 14:32:42.247 2019-02-01 14:38:37.896   \n",
       "180728           362 2019-02-01 10:13:44.871 2019-02-01 10:19:47.762   \n",
       "181019           494 2019-02-01 09:38:06.311 2019-02-01 09:46:21.165   \n",
       "182830           428 2019-02-01 07:45:05.934 2019-02-01 07:52:14.922   \n",
       "183385           400 2019-02-01 00:46:47.276 2019-02-01 00:53:27.596   \n",
       "183388           490 2019-02-01 00:39:53.112 2019-02-01 00:48:03.338   \n",
       "\n",
       "        start_station_id                                 start_station_name  \\\n",
       "1073                43.0  San Francisco Public Library (Grove St at Hyde...   \n",
       "1285               158.0                      Shattuck Ave at Telegraph Ave   \n",
       "2085               107.0                              17th St at Dolores St   \n",
       "2366                76.0                         McCoppin St at Valencia St   \n",
       "2484                98.0                             Valencia St at 16th St   \n",
       "4818               121.0                                 Mission Playground   \n",
       "5197                70.0                             Central Ave at Fell St   \n",
       "5249                22.0                              Howard St at Beale St   \n",
       "5266                84.0                                        Duboce Park   \n",
       "5447                84.0                                        Duboce Park   \n",
       "6711                76.0                         McCoppin St at Valencia St   \n",
       "10053              127.0                             Valencia St at 21st St   \n",
       "10827              343.0                                Bryant St at 2nd St   \n",
       "13148               76.0                         McCoppin St at Valencia St   \n",
       "13675               27.0                            Beale St at Harrison St   \n",
       "13806              133.0                             Valencia St at 22nd St   \n",
       "14760              245.0                             Downtown Berkeley BART   \n",
       "15120              109.0                             17th St at Valencia St   \n",
       "15163              356.0                        Valencia St at Clinton Park   \n",
       "16087              375.0                            Grove St at Masonic Ave   \n",
       "17861               43.0  San Francisco Public Library (Grove St at Hyde...   \n",
       "17981               50.0                              2nd St at Townsend St   \n",
       "18560               58.0                               Market St at 10th St   \n",
       "18590              356.0                        Valencia St at Clinton Park   \n",
       "18885               21.0   Montgomery St BART Station (Market St at 2nd St)   \n",
       "19375                9.0                             Broadway at Battery St   \n",
       "20743               26.0                                1st St at Folsom St   \n",
       "20990               76.0                         McCoppin St at Valencia St   \n",
       "21424              375.0                            Grove St at Masonic Ave   \n",
       "21506               67.0  San Francisco Caltrain Station 2  (Townsend St...   \n",
       "...                  ...                                                ...   \n",
       "163112             377.0                              Fell St at Stanyan St   \n",
       "165347              81.0                                 Berry St at 4th St   \n",
       "165505              84.0                                        Duboce Park   \n",
       "165811              88.0                               11th St at Bryant St   \n",
       "167178              25.0                                Howard St at 2nd St   \n",
       "167979             211.0                                Broadway at 40th St   \n",
       "169054              14.0                              Clay St at Battery St   \n",
       "169191              27.0                            Beale St at Harrison St   \n",
       "170948              81.0                                 Berry St at 4th St   \n",
       "171086             375.0                            Grove St at Masonic Ave   \n",
       "171757             173.0                            Shattuck Ave at 55th St   \n",
       "171996              37.0                                2nd St at Folsom St   \n",
       "172057              99.0                               Folsom St at 15th St   \n",
       "172221             109.0                             17th St at Valencia St   \n",
       "172461              76.0                         McCoppin St at Valencia St   \n",
       "172764             271.0                                     San Pablo Park   \n",
       "173711             375.0                            Grove St at Masonic Ave   \n",
       "175394              85.0                            Church St at Duboce Ave   \n",
       "175698              30.0     San Francisco Caltrain (Townsend St at 4th St)   \n",
       "175858              28.0                       The Embarcadero at Bryant St   \n",
       "176220             284.0  Yerba Buena Center for the Arts (Howard St at ...   \n",
       "177708             343.0                                Bryant St at 2nd St   \n",
       "177885              25.0                                Howard St at 2nd St   \n",
       "177955              26.0                                1st St at Folsom St   \n",
       "179280             134.0                             Valencia St at 24th St   \n",
       "180728              30.0     San Francisco Caltrain (Townsend St at 4th St)   \n",
       "181019              27.0                            Beale St at Harrison St   \n",
       "182830             284.0  Yerba Buena Center for the Arts (Howard St at ...   \n",
       "183385             220.0                        San Pablo Ave at MLK Jr Way   \n",
       "183388              61.0                                Howard St at 8th St   \n",
       "\n",
       "        start_station_latitude  start_station_longitude  end_station_id  \\\n",
       "1073                 37.778768              -122.415929            76.0   \n",
       "1285                 37.833279              -122.263490           173.0   \n",
       "2085                 37.763015              -122.426497            89.0   \n",
       "2366                 37.771662              -122.422423            43.0   \n",
       "2484                 37.765052              -122.421866            76.0   \n",
       "4818                 37.759210              -122.421339           109.0   \n",
       "5197                 37.773311              -122.444293            71.0   \n",
       "5249                 37.789756              -122.394643            74.0   \n",
       "5266                 37.769201              -122.433812            71.0   \n",
       "5447                 37.769201              -122.433812            72.0   \n",
       "6711                 37.771662              -122.422423           127.0   \n",
       "10053                37.756708              -122.421025            76.0   \n",
       "10827                37.783172              -122.393572           375.0   \n",
       "13148                37.771662              -122.422423           127.0   \n",
       "13675                37.788059              -122.391865            30.0   \n",
       "13806                37.755213              -122.420975            76.0   \n",
       "14760                37.870139              -122.268422           262.0   \n",
       "15120                37.763316              -122.421904           127.0   \n",
       "15163                37.769188              -122.422285           109.0   \n",
       "16087                37.774836              -122.446546            36.0   \n",
       "17861                37.778768              -122.415929            76.0   \n",
       "17981                37.780526              -122.390288            21.0   \n",
       "18560                37.776619              -122.417385            89.0   \n",
       "18590                37.769188              -122.422285            43.0   \n",
       "18885                37.789625              -122.400811            50.0   \n",
       "19375                37.798572              -122.400869            30.0   \n",
       "20743                37.787290              -122.394380            61.0   \n",
       "20990                37.771662              -122.422423           127.0   \n",
       "21424                37.774836              -122.446546           343.0   \n",
       "21506                37.776639              -122.395526             9.0   \n",
       "...                        ...                      ...             ...   \n",
       "163112               37.771917              -122.453704            36.0   \n",
       "165347               37.775880              -122.393170            14.0   \n",
       "165505               37.769201              -122.433812           118.0   \n",
       "165811               37.770030              -122.411726            79.0   \n",
       "167178               37.787522              -122.397405            30.0   \n",
       "167979               37.827757              -122.256716           176.0   \n",
       "169054               37.795001              -122.399970            81.0   \n",
       "169191               37.788059              -122.391865            30.0   \n",
       "170948               37.775880              -122.393170            14.0   \n",
       "171086               37.774836              -122.446546            36.0   \n",
       "171757               37.840364              -122.264488           174.0   \n",
       "171996               37.785000              -122.395936           375.0   \n",
       "172057               37.767037              -122.415443            76.0   \n",
       "172221               37.763316              -122.421904            99.0   \n",
       "172461               37.771662              -122.422423           109.0   \n",
       "172764               37.855783              -122.283127           271.0   \n",
       "173711               37.774836              -122.446546            36.0   \n",
       "175394               37.770083              -122.429156            89.0   \n",
       "175698               37.776598              -122.395282            27.0   \n",
       "175858               37.787168              -122.388098            30.0   \n",
       "176220               37.784872              -122.400876            27.0   \n",
       "177708               37.783172              -122.393572           375.0   \n",
       "177885               37.787522              -122.397405            30.0   \n",
       "177955               37.787290              -122.394380           321.0   \n",
       "179280               37.752428              -122.420628           131.0   \n",
       "180728               37.776598              -122.395282            27.0   \n",
       "181019               37.788059              -122.391865            30.0   \n",
       "182830               37.784872              -122.400876            67.0   \n",
       "183385               37.811351              -122.273422           337.0   \n",
       "183388               37.776513              -122.411306            81.0   \n",
       "\n",
       "                                         end_station_name  \\\n",
       "1073                           McCoppin St at Valencia St   \n",
       "1285                              Shattuck Ave at 55th St   \n",
       "2085                           Division St at Potrero Ave   \n",
       "2366    San Francisco Public Library (Grove St at Hyde...   \n",
       "2484                           McCoppin St at Valencia St   \n",
       "4818                               17th St at Valencia St   \n",
       "5197                               Broderick St at Oak St   \n",
       "5249                                Laguna St at Hayes St   \n",
       "5266                               Broderick St at Oak St   \n",
       "5447                                  Page St at Scott St   \n",
       "6711                               Valencia St at 21st St   \n",
       "10053                          McCoppin St at Valencia St   \n",
       "10827                             Grove St at Masonic Ave   \n",
       "13148                              Valencia St at 21st St   \n",
       "13675      San Francisco Caltrain (Townsend St at 4th St)   \n",
       "13806                          McCoppin St at Valencia St   \n",
       "14760                           West St at University Ave   \n",
       "15120                              Valencia St at 21st St   \n",
       "15163                              17th St at Valencia St   \n",
       "16087                                 Folsom St at 3rd St   \n",
       "17861                          McCoppin St at Valencia St   \n",
       "17981    Montgomery St BART Station (Market St at 2nd St)   \n",
       "18560                          Division St at Potrero Ave   \n",
       "18590   San Francisco Public Library (Grove St at Hyde...   \n",
       "18885                               2nd St at Townsend St   \n",
       "19375      San Francisco Caltrain (Townsend St at 4th St)   \n",
       "20743                                 Howard St at 8th St   \n",
       "20990                              Valencia St at 21st St   \n",
       "21424                                 Bryant St at 2nd St   \n",
       "21506                              Broadway at Battery St   \n",
       "...                                                   ...   \n",
       "163112                                Folsom St at 3rd St   \n",
       "165347                              Clay St at Battery St   \n",
       "165505                    Eureka Valley Recreation Center   \n",
       "165811                               7th St at Brannan St   \n",
       "167178     San Francisco Caltrain (Townsend St at 4th St)   \n",
       "167979                             MacArthur BART Station   \n",
       "169054                                 Berry St at 4th St   \n",
       "169191     San Francisco Caltrain (Townsend St at 4th St)   \n",
       "170948                              Clay St at Battery St   \n",
       "171086                                Folsom St at 3rd St   \n",
       "171757                            Shattuck Ave at 51st St   \n",
       "171996                            Grove St at Masonic Ave   \n",
       "172057                         McCoppin St at Valencia St   \n",
       "172221                               Folsom St at 15th St   \n",
       "172461                             17th St at Valencia St   \n",
       "172764                                     San Pablo Park   \n",
       "173711                                Folsom St at 3rd St   \n",
       "175394                         Division St at Potrero Ave   \n",
       "175698                            Beale St at Harrison St   \n",
       "175858     San Francisco Caltrain (Townsend St at 4th St)   \n",
       "176220                            Beale St at Harrison St   \n",
       "177708                            Grove St at Masonic Ave   \n",
       "177885     San Francisco Caltrain (Townsend St at 4th St)   \n",
       "177955                                   5th St at Folsom   \n",
       "179280                              22nd St at Dolores St   \n",
       "180728                            Beale St at Harrison St   \n",
       "181019     San Francisco Caltrain (Townsend St at 4th St)   \n",
       "182830  San Francisco Caltrain Station 2  (Townsend St...   \n",
       "183385                              Webster St at 19th St   \n",
       "183388                                 Berry St at 4th St   \n",
       "\n",
       "        end_station_latitude  end_station_longitude  bike_id   user_type  \\\n",
       "1073               37.771662            -122.422423     6333  Subscriber   \n",
       "1285               37.840364            -122.264488     5391  Subscriber   \n",
       "2085               37.769218            -122.407646      385  Subscriber   \n",
       "2366               37.778768            -122.415929     6558  Subscriber   \n",
       "2484               37.771662            -122.422423     6558  Subscriber   \n",
       "4818               37.763316            -122.421904     6224  Subscriber   \n",
       "5197               37.773063            -122.439078     5801  Subscriber   \n",
       "5249               37.776435            -122.426244      623  Subscriber   \n",
       "5266               37.773063            -122.439078     6608  Subscriber   \n",
       "5447               37.772406            -122.435650     5018  Subscriber   \n",
       "6711               37.756708            -122.421025     6235  Subscriber   \n",
       "10053              37.771662            -122.422423     6207  Subscriber   \n",
       "10827              37.774836            -122.446546     6249  Subscriber   \n",
       "13148              37.756708            -122.421025     6207  Subscriber   \n",
       "13675              37.776598            -122.395282     5855  Subscriber   \n",
       "13806              37.771662            -122.422423     6207  Subscriber   \n",
       "14760              37.869967            -122.286533     5129  Subscriber   \n",
       "15120              37.756708            -122.421025     5097  Subscriber   \n",
       "15163              37.763316            -122.421904     2003  Subscriber   \n",
       "16087              37.783830            -122.398870     4968  Subscriber   \n",
       "17861              37.771662            -122.422423     5837  Subscriber   \n",
       "17981              37.789625            -122.400811     5226  Subscriber   \n",
       "18560              37.769218            -122.407646      183  Subscriber   \n",
       "18590              37.778768            -122.415929     5837  Subscriber   \n",
       "18885              37.780526            -122.390288     5319  Subscriber   \n",
       "19375              37.776598            -122.395282     6164    Customer   \n",
       "20743              37.776513            -122.411306     5387  Subscriber   \n",
       "20990              37.756708            -122.421025     6436  Subscriber   \n",
       "21424              37.783172            -122.393572     5344  Subscriber   \n",
       "21506              37.798572            -122.400869     5337    Customer   \n",
       "...                      ...                    ...      ...         ...   \n",
       "163112             37.783830            -122.398870     2715  Subscriber   \n",
       "165347             37.795001            -122.399970     1511  Subscriber   \n",
       "165505             37.759177            -122.436943     5381  Subscriber   \n",
       "165811             37.773492            -122.403673     5408  Subscriber   \n",
       "167178             37.776598            -122.395282      184  Subscriber   \n",
       "167979             37.828410            -122.266315     5074  Subscriber   \n",
       "169054             37.775880            -122.393170      577  Subscriber   \n",
       "169191             37.776598            -122.395282     3241  Subscriber   \n",
       "170948             37.795001            -122.399970     1896  Subscriber   \n",
       "171086             37.783830            -122.398870     4435  Subscriber   \n",
       "171757             37.836801            -122.264004     4539  Subscriber   \n",
       "171996             37.774836            -122.446546     4988  Subscriber   \n",
       "172057             37.771662            -122.422423     5376  Subscriber   \n",
       "172221             37.767037            -122.415443     5376  Subscriber   \n",
       "172461             37.763316            -122.421904      844  Subscriber   \n",
       "172764             37.855783            -122.283127     3580    Customer   \n",
       "173711             37.783830            -122.398870     5445  Subscriber   \n",
       "175394             37.769218            -122.407646     5125    Customer   \n",
       "175698             37.788059            -122.391865     5359  Subscriber   \n",
       "175858             37.776598            -122.395282     5359  Subscriber   \n",
       "176220             37.788059            -122.391865     5549  Subscriber   \n",
       "177708             37.774836            -122.446546     5286  Subscriber   \n",
       "177885             37.776598            -122.395282     2175  Subscriber   \n",
       "177955             37.780146            -122.403071     5444  Subscriber   \n",
       "179280             37.755000            -122.425728     1815  Subscriber   \n",
       "180728             37.788059            -122.391865     4877  Subscriber   \n",
       "181019             37.776598            -122.395282     5474  Subscriber   \n",
       "182830             37.776639            -122.395526     5031  Subscriber   \n",
       "183385             37.806970            -122.266588     3487  Subscriber   \n",
       "183388             37.775880            -122.393170     5411  Subscriber   \n",
       "\n",
       "        member_birth_year member_gender bike_share_for_all_trip  duration_min  \n",
       "1073                 1945          Male                     Yes      5.050000  \n",
       "1285                 1900          Male                     Yes      2.466667  \n",
       "2085                 1941          Male                      No     11.566667  \n",
       "2366                 1945          Male                     Yes      3.183333  \n",
       "2484                 1945          Male                     Yes     57.633333  \n",
       "4818                 1945          Male                     Yes      9.083333  \n",
       "5197                 1931          Male                      No      3.616667  \n",
       "5249                 1943        Female                      No     23.266667  \n",
       "5266                 1931          Male                      No      6.400000  \n",
       "5447                 1931          Male                      No      2.450000  \n",
       "6711                 1945          Male                     Yes      6.916667  \n",
       "10053                1945          Male                     Yes      6.200000  \n",
       "10827                1900          Male                      No     21.916667  \n",
       "13148                1945          Male                     Yes      5.916667  \n",
       "13675                1942          Male                      No      9.233333  \n",
       "13806                1945          Male                     Yes      6.516667  \n",
       "14760                1945         Other                     Yes      6.566667  \n",
       "15120                1945          Male                     Yes      2.750000  \n",
       "15163                1945          Male                     Yes      4.250000  \n",
       "16087                1900          Male                      No     18.850000  \n",
       "17861                1945          Male                     Yes      5.283333  \n",
       "17981                1920          Male                      No      6.100000  \n",
       "18560                1941          Male                      No      9.633333  \n",
       "18590                1945          Male                     Yes      5.550000  \n",
       "18885                1920          Male                      No      7.200000  \n",
       "19375                1900          Male                      No     10.683333  \n",
       "20743                1933        Female                     Yes      6.333333  \n",
       "20990                1945          Male                     Yes     11.566667  \n",
       "21424                1900          Male                      No     23.733333  \n",
       "21506                1900          Male                      No     11.683333  \n",
       "...                   ...           ...                     ...           ...  \n",
       "163112               1900          Male                      No     27.333333  \n",
       "165347               1945          Male                      No     16.883333  \n",
       "165505               1931          Male                      No      4.250000  \n",
       "165811               1943          Male                     Yes      4.850000  \n",
       "167178               1902        Female                      No      8.766667  \n",
       "167979               1942          Male                      No      4.483333  \n",
       "169054               1945          Male                      No     14.550000  \n",
       "169191               1942          Male                      No      8.466667  \n",
       "170948               1945          Male                      No     14.833333  \n",
       "171086               1900          Male                      No     18.100000  \n",
       "171757               1900          Male                     Yes      1.566667  \n",
       "171996               1900          Male                      No     22.800000  \n",
       "172057               1945          Male                     Yes      7.650000  \n",
       "172221               1945          Male                     Yes      7.566667  \n",
       "172461               1945          Male                     Yes      5.550000  \n",
       "172764               1945          Male                      No     29.816667  \n",
       "173711               1900          Male                      No     16.550000  \n",
       "175394               1939          Male                      No     21.833333  \n",
       "175698               1942          Male                      No      5.200000  \n",
       "175858               1942          Male                      No      6.100000  \n",
       "176220               1942          Male                      No      5.166667  \n",
       "177708               1900          Male                      No     25.450000  \n",
       "177885               1902        Female                      No      8.616667  \n",
       "177955               1933        Female                     Yes      6.283333  \n",
       "179280               1938          Male                      No      5.916667  \n",
       "180728               1942          Male                      No      6.033333  \n",
       "181019               1942          Male                      No      8.233333  \n",
       "182830               1901          Male                      No      7.133333  \n",
       "183385               1945          Male                     Yes      6.666667  \n",
       "183388               1927          Male                      No      8.166667  \n",
       "\n",
       "[370 rows x 17 columns]"
      ]
     },
     "execution_count": 37,
     "metadata": {},
     "output_type": "execute_result"
    }
   ],
   "source": [
    "#check member birt year values entries.\n",
    "fordgobike_copy.query('member_birth_year <= 1878 or member_birth_year <= 1945')"
   ]
  },
  {
   "cell_type": "code",
   "execution_count": 38,
   "metadata": {
    "id": "6vfS6CSARFAx",
    "slideshow": {
     "slide_type": "skip"
    }
   },
   "outputs": [],
   "source": [
    "#get the birth year until users who are in 70's\n",
    "fordgobike_copy = fordgobike_copy.loc[fordgobike_copy['member_birth_year'] >= 1945]"
   ]
  },
  {
   "cell_type": "code",
   "execution_count": 39,
   "metadata": {
    "colab": {
     "base_uri": "https://localhost:8080/",
     "height": 348
    },
    "id": "pCjcodLhb_tn",
    "outputId": "5fb40e86-ed30-4a63-b686-723d7f5e4aac",
    "slideshow": {
     "slide_type": "skip"
    }
   },
   "outputs": [
    {
     "data": {
      "text/html": [
       "<div>\n",
       "<style scoped>\n",
       "    .dataframe tbody tr th:only-of-type {\n",
       "        vertical-align: middle;\n",
       "    }\n",
       "\n",
       "    .dataframe tbody tr th {\n",
       "        vertical-align: top;\n",
       "    }\n",
       "\n",
       "    .dataframe thead th {\n",
       "        text-align: right;\n",
       "    }\n",
       "</style>\n",
       "<table border=\"1\" class=\"dataframe\">\n",
       "  <thead>\n",
       "    <tr style=\"text-align: right;\">\n",
       "      <th></th>\n",
       "      <th>duration_sec</th>\n",
       "      <th>start_time</th>\n",
       "      <th>end_time</th>\n",
       "      <th>start_station_id</th>\n",
       "      <th>start_station_name</th>\n",
       "      <th>start_station_latitude</th>\n",
       "      <th>start_station_longitude</th>\n",
       "      <th>end_station_id</th>\n",
       "      <th>end_station_name</th>\n",
       "      <th>end_station_latitude</th>\n",
       "      <th>end_station_longitude</th>\n",
       "      <th>bike_id</th>\n",
       "      <th>user_type</th>\n",
       "      <th>member_birth_year</th>\n",
       "      <th>member_gender</th>\n",
       "      <th>bike_share_for_all_trip</th>\n",
       "      <th>duration_min</th>\n",
       "      <th>member_age</th>\n",
       "    </tr>\n",
       "  </thead>\n",
       "  <tbody>\n",
       "    <tr>\n",
       "      <th>0</th>\n",
       "      <td>52185</td>\n",
       "      <td>2019-02-28 17:32:10.145</td>\n",
       "      <td>2019-03-01 08:01:55.975</td>\n",
       "      <td>21.0</td>\n",
       "      <td>Montgomery St BART Station (Market St at 2nd St)</td>\n",
       "      <td>37.789625</td>\n",
       "      <td>-122.400811</td>\n",
       "      <td>13.0</td>\n",
       "      <td>Commercial St at Montgomery St</td>\n",
       "      <td>37.794231</td>\n",
       "      <td>-122.402923</td>\n",
       "      <td>4902</td>\n",
       "      <td>Customer</td>\n",
       "      <td>1984</td>\n",
       "      <td>Male</td>\n",
       "      <td>No</td>\n",
       "      <td>869.750000</td>\n",
       "      <td>37</td>\n",
       "    </tr>\n",
       "    <tr>\n",
       "      <th>2</th>\n",
       "      <td>61854</td>\n",
       "      <td>2019-02-28 12:13:13.218</td>\n",
       "      <td>2019-03-01 05:24:08.146</td>\n",
       "      <td>86.0</td>\n",
       "      <td>Market St at Dolores St</td>\n",
       "      <td>37.769305</td>\n",
       "      <td>-122.426826</td>\n",
       "      <td>3.0</td>\n",
       "      <td>Powell St BART Station (Market St at 4th St)</td>\n",
       "      <td>37.786375</td>\n",
       "      <td>-122.404904</td>\n",
       "      <td>5905</td>\n",
       "      <td>Customer</td>\n",
       "      <td>1972</td>\n",
       "      <td>Male</td>\n",
       "      <td>No</td>\n",
       "      <td>1030.900000</td>\n",
       "      <td>49</td>\n",
       "    </tr>\n",
       "    <tr>\n",
       "      <th>3</th>\n",
       "      <td>36490</td>\n",
       "      <td>2019-02-28 17:54:26.010</td>\n",
       "      <td>2019-03-01 04:02:36.842</td>\n",
       "      <td>375.0</td>\n",
       "      <td>Grove St at Masonic Ave</td>\n",
       "      <td>37.774836</td>\n",
       "      <td>-122.446546</td>\n",
       "      <td>70.0</td>\n",
       "      <td>Central Ave at Fell St</td>\n",
       "      <td>37.773311</td>\n",
       "      <td>-122.444293</td>\n",
       "      <td>6638</td>\n",
       "      <td>Subscriber</td>\n",
       "      <td>1989</td>\n",
       "      <td>Other</td>\n",
       "      <td>No</td>\n",
       "      <td>608.166667</td>\n",
       "      <td>32</td>\n",
       "    </tr>\n",
       "    <tr>\n",
       "      <th>4</th>\n",
       "      <td>1585</td>\n",
       "      <td>2019-02-28 23:54:18.549</td>\n",
       "      <td>2019-03-01 00:20:44.074</td>\n",
       "      <td>7.0</td>\n",
       "      <td>Frank H Ogawa Plaza</td>\n",
       "      <td>37.804562</td>\n",
       "      <td>-122.271738</td>\n",
       "      <td>222.0</td>\n",
       "      <td>10th Ave at E 15th St</td>\n",
       "      <td>37.792714</td>\n",
       "      <td>-122.248780</td>\n",
       "      <td>4898</td>\n",
       "      <td>Subscriber</td>\n",
       "      <td>1974</td>\n",
       "      <td>Male</td>\n",
       "      <td>Yes</td>\n",
       "      <td>26.416667</td>\n",
       "      <td>47</td>\n",
       "    </tr>\n",
       "    <tr>\n",
       "      <th>5</th>\n",
       "      <td>1793</td>\n",
       "      <td>2019-02-28 23:49:58.632</td>\n",
       "      <td>2019-03-01 00:19:51.760</td>\n",
       "      <td>93.0</td>\n",
       "      <td>4th St at Mission Bay Blvd S</td>\n",
       "      <td>37.770407</td>\n",
       "      <td>-122.391198</td>\n",
       "      <td>323.0</td>\n",
       "      <td>Broadway at Kearny</td>\n",
       "      <td>37.798014</td>\n",
       "      <td>-122.405950</td>\n",
       "      <td>5200</td>\n",
       "      <td>Subscriber</td>\n",
       "      <td>1959</td>\n",
       "      <td>Male</td>\n",
       "      <td>No</td>\n",
       "      <td>29.883333</td>\n",
       "      <td>62</td>\n",
       "    </tr>\n",
       "  </tbody>\n",
       "</table>\n",
       "</div>"
      ],
      "text/plain": [
       "   duration_sec              start_time                end_time  \\\n",
       "0         52185 2019-02-28 17:32:10.145 2019-03-01 08:01:55.975   \n",
       "2         61854 2019-02-28 12:13:13.218 2019-03-01 05:24:08.146   \n",
       "3         36490 2019-02-28 17:54:26.010 2019-03-01 04:02:36.842   \n",
       "4          1585 2019-02-28 23:54:18.549 2019-03-01 00:20:44.074   \n",
       "5          1793 2019-02-28 23:49:58.632 2019-03-01 00:19:51.760   \n",
       "\n",
       "   start_station_id                                start_station_name  \\\n",
       "0              21.0  Montgomery St BART Station (Market St at 2nd St)   \n",
       "2              86.0                           Market St at Dolores St   \n",
       "3             375.0                           Grove St at Masonic Ave   \n",
       "4               7.0                               Frank H Ogawa Plaza   \n",
       "5              93.0                      4th St at Mission Bay Blvd S   \n",
       "\n",
       "   start_station_latitude  start_station_longitude  end_station_id  \\\n",
       "0               37.789625              -122.400811            13.0   \n",
       "2               37.769305              -122.426826             3.0   \n",
       "3               37.774836              -122.446546            70.0   \n",
       "4               37.804562              -122.271738           222.0   \n",
       "5               37.770407              -122.391198           323.0   \n",
       "\n",
       "                               end_station_name  end_station_latitude  \\\n",
       "0                Commercial St at Montgomery St             37.794231   \n",
       "2  Powell St BART Station (Market St at 4th St)             37.786375   \n",
       "3                        Central Ave at Fell St             37.773311   \n",
       "4                         10th Ave at E 15th St             37.792714   \n",
       "5                            Broadway at Kearny             37.798014   \n",
       "\n",
       "   end_station_longitude  bike_id   user_type  member_birth_year  \\\n",
       "0            -122.402923     4902    Customer               1984   \n",
       "2            -122.404904     5905    Customer               1972   \n",
       "3            -122.444293     6638  Subscriber               1989   \n",
       "4            -122.248780     4898  Subscriber               1974   \n",
       "5            -122.405950     5200  Subscriber               1959   \n",
       "\n",
       "  member_gender bike_share_for_all_trip  duration_min  member_age  \n",
       "0          Male                      No    869.750000          37  \n",
       "2          Male                      No   1030.900000          49  \n",
       "3         Other                      No    608.166667          32  \n",
       "4          Male                     Yes     26.416667          47  \n",
       "5          Male                      No     29.883333          62  "
      ]
     },
     "execution_count": 39,
     "metadata": {},
     "output_type": "execute_result"
    }
   ],
   "source": [
    "#calculate the members age\n",
    "age = []\n",
    "current_year = 2021\n",
    "for i in fordgobike_copy.member_birth_year:\n",
    "  cal_age = current_year - i\n",
    "  age.append(cal_age)\n",
    "fordgobike_copy['member_age'] = age\n",
    "fordgobike_copy.head()"
   ]
  },
  {
   "cell_type": "code",
   "execution_count": 40,
   "metadata": {
    "colab": {
     "base_uri": "https://localhost:8080/",
     "height": 135
    },
    "id": "ZifoM04u5nnt",
    "outputId": "4e86b547-3ea4-4f44-80b9-20777eb16e5e",
    "slideshow": {
     "slide_type": "skip"
    }
   },
   "outputs": [
    {
     "data": {
      "text/html": [
       "<div>\n",
       "<style scoped>\n",
       "    .dataframe tbody tr th:only-of-type {\n",
       "        vertical-align: middle;\n",
       "    }\n",
       "\n",
       "    .dataframe tbody tr th {\n",
       "        vertical-align: top;\n",
       "    }\n",
       "\n",
       "    .dataframe thead th {\n",
       "        text-align: right;\n",
       "    }\n",
       "</style>\n",
       "<table border=\"1\" class=\"dataframe\">\n",
       "  <thead>\n",
       "    <tr style=\"text-align: right;\">\n",
       "      <th></th>\n",
       "      <th>duration_sec</th>\n",
       "      <th>start_time</th>\n",
       "      <th>end_time</th>\n",
       "      <th>start_station_id</th>\n",
       "      <th>start_station_name</th>\n",
       "      <th>start_station_latitude</th>\n",
       "      <th>start_station_longitude</th>\n",
       "      <th>end_station_id</th>\n",
       "      <th>end_station_name</th>\n",
       "      <th>end_station_latitude</th>\n",
       "      <th>end_station_longitude</th>\n",
       "      <th>bike_id</th>\n",
       "      <th>user_type</th>\n",
       "      <th>member_gender</th>\n",
       "      <th>bike_share_for_all_trip</th>\n",
       "      <th>duration_min</th>\n",
       "      <th>member_age</th>\n",
       "    </tr>\n",
       "  </thead>\n",
       "  <tbody>\n",
       "    <tr>\n",
       "      <th>0</th>\n",
       "      <td>52185</td>\n",
       "      <td>2019-02-28 17:32:10.145</td>\n",
       "      <td>2019-03-01 08:01:55.975</td>\n",
       "      <td>21.0</td>\n",
       "      <td>Montgomery St BART Station (Market St at 2nd St)</td>\n",
       "      <td>37.789625</td>\n",
       "      <td>-122.400811</td>\n",
       "      <td>13.0</td>\n",
       "      <td>Commercial St at Montgomery St</td>\n",
       "      <td>37.794231</td>\n",
       "      <td>-122.402923</td>\n",
       "      <td>4902</td>\n",
       "      <td>Customer</td>\n",
       "      <td>Male</td>\n",
       "      <td>No</td>\n",
       "      <td>869.75</td>\n",
       "      <td>37</td>\n",
       "    </tr>\n",
       "  </tbody>\n",
       "</table>\n",
       "</div>"
      ],
      "text/plain": [
       "   duration_sec              start_time                end_time  \\\n",
       "0         52185 2019-02-28 17:32:10.145 2019-03-01 08:01:55.975   \n",
       "\n",
       "   start_station_id                                start_station_name  \\\n",
       "0              21.0  Montgomery St BART Station (Market St at 2nd St)   \n",
       "\n",
       "   start_station_latitude  start_station_longitude  end_station_id  \\\n",
       "0               37.789625              -122.400811            13.0   \n",
       "\n",
       "                 end_station_name  end_station_latitude  \\\n",
       "0  Commercial St at Montgomery St             37.794231   \n",
       "\n",
       "   end_station_longitude  bike_id user_type member_gender  \\\n",
       "0            -122.402923     4902  Customer          Male   \n",
       "\n",
       "  bike_share_for_all_trip  duration_min  member_age  \n",
       "0                      No        869.75          37  "
      ]
     },
     "execution_count": 40,
     "metadata": {},
     "output_type": "execute_result"
    }
   ],
   "source": [
    "#drop member_birth_year\n",
    "fordgobike_copy.drop('member_birth_year', axis= 1, inplace= True)\n",
    "fordgobike_copy.head(1)"
   ]
  },
  {
   "cell_type": "markdown",
   "metadata": {
    "id": "fOL866Uz5AWk",
    "slideshow": {
     "slide_type": "skip"
    }
   },
   "source": [
    "What age of users rent a bike?"
   ]
  },
  {
   "cell_type": "code",
   "execution_count": 41,
   "metadata": {
    "colab": {
     "base_uri": "https://localhost:8080/",
     "height": 391
    },
    "id": "6nImwN1j5CVs",
    "outputId": "55e6686f-7a5e-4769-de85-20a93d667be1",
    "slideshow": {
     "slide_type": "skip"
    }
   },
   "outputs": [
    {
     "data": {
      "image/png": "[encoded data removed]",
      "text/plain": [
       "<matplotlib.figure.Figure at 0x7fc3001056d8>"
      ]
     },
     "metadata": {
      "needs_background": "light"
     },
     "output_type": "display_data"
    }
   ],
   "source": [
    "plt.figure(figsize = [8,6])\n",
    "bins = np.arange(min(fordgobike_copy.member_age), max(fordgobike_copy.member_age)+5, 5)\n",
    "plt.hist(data = fordgobike_copy, x = 'member_age', bins = bins)\n",
    "plt.xticks(rotation=15)\n",
    "plt.xlabel('Bikers age (year)')\n",
    "plt.ylabel('Count')\n",
    "plt.show()"
   ]
  },
  {
   "cell_type": "code",
   "execution_count": 42,
   "metadata": {
    "colab": {
     "base_uri": "https://localhost:8080/",
     "height": 391
    },
    "id": "UavEUoMt4hv8",
    "outputId": "fda8823e-e176-4db8-b86d-fdfb1cec2077",
    "slideshow": {
     "slide_type": "skip"
    }
   },
   "outputs": [
    {
     "data": {
      "image/png": "[encoded data removed]",
      "text/plain": [
       "<matplotlib.figure.Figure at 0x7fc30010d828>"
      ]
     },
     "metadata": {
      "needs_background": "light"
     },
     "output_type": "display_data"
    }
   ],
   "source": [
    "#changing bins in the birth year plot\n",
    "plt.figure(figsize = [8,6])\n",
    "plt.hist(data = fordgobike_copy, x = 'member_age', bins = 40)\n",
    "plt.xticks(rotation=15)\n",
    "plt.xlabel('Bikers age (years)')\n",
    "plt.ylabel('Count')\n",
    "plt.show()"
   ]
  },
  {
   "cell_type": "markdown",
   "metadata": {
    "id": "OGHK2a0c41M7",
    "slideshow": {
     "slide_type": "skip"
    }
   },
   "source": [
    "Users birth year plot is right skew, adults do not use bike as much as youngers use bike trip.Mostly users are in 30's.It's right skewed."
   ]
  },
  {
   "cell_type": "code",
   "execution_count": 43,
   "metadata": {
    "colab": {
     "base_uri": "https://localhost:8080/",
     "height": 459
    },
    "id": "iR5Hc41Z2c1X",
    "outputId": "ad8b88ec-2ea2-46fe-cde8-8a02ee051a84",
    "slideshow": {
     "slide_type": "subslide"
    }
   },
   "outputs": [
    {
     "data": {
      "image/png": "[encoded data removed]",
      "text/plain": [
       "<matplotlib.figure.Figure at 0x7fc3000a1cf8>"
      ]
     },
     "metadata": {
      "needs_background": "light"
     },
     "output_type": "display_data"
    }
   ],
   "source": [
    "plt.figure(figsize=[9,7])\n",
    "sns.stripplot(data = fordgobike_copy, x = 'user_type', y = 'member_age', jitter = 0.4, color= 'Green')\n",
    "plt.title('Striplot of member age vs user type')\n",
    "plt.show()"
   ]
  },
  {
   "cell_type": "markdown",
   "metadata": {
    "id": "yZfWInq56MKd",
    "slideshow": {
     "slide_type": "subslide"
    }
   },
   "source": [
    "Member age upto 70 are more subscriber than customer. Age is just a number, you can enjoy riding a bike in any age as far as you are comfortable with it."
   ]
  },
  {
   "cell_type": "code",
   "execution_count": 44,
   "metadata": {
    "colab": {
     "base_uri": "https://localhost:8080/",
     "height": 641
    },
    "id": "53rgx6Rw6o_F",
    "outputId": "753f6d6b-21b6-4834-e818-1bdbf20c1b77",
    "slideshow": {
     "slide_type": "subslide"
    }
   },
   "outputs": [
    {
     "data": {
      "text/plain": [
       "Text(0.5,1,'Violinplot of age vs user type with gender')"
      ]
     },
     "execution_count": 44,
     "metadata": {},
     "output_type": "execute_result"
    },
    {
     "data": {
      "image/png": "[encoded data removed]",
      "text/plain": [
       "<matplotlib.figure.Figure at 0x7fc30033e6d8>"
      ]
     },
     "metadata": {
      "needs_background": "light"
     },
     "output_type": "display_data"
    }
   ],
   "source": [
    "plt.figure(figsize=[13,10])\n",
    "sns.violinplot(x = 'user_type', y = 'member_age', hue = 'member_gender', data = fordgobike_copy, inner = 'quartile')\n",
    "plt.ylim([20, 70])\n",
    "plt.legend(loc = 'best', bbox_to_anchor=[1,1])\n",
    "plt.title('Violinplot of age vs user type with gender')"
   ]
  },
  {
   "cell_type": "markdown",
   "metadata": {
    "id": "LaDwa1g8CL4H",
    "slideshow": {
     "slide_type": "subslide"
    }
   },
   "source": [
    "Averge age is 35 to 40 who are customers and subscriber, all user type and gender are quite equal range to have user type."
   ]
  },
  {
   "cell_type": "code",
   "execution_count": 45,
   "metadata": {
    "colab": {
     "base_uri": "https://localhost:8080/"
    },
    "id": "ureXsPq0rUNJ",
    "outputId": "63411de7-9d2d-48cc-daac-6c91d2810b50",
    "slideshow": {
     "slide_type": "skip"
    }
   },
   "outputs": [
    {
     "data": {
      "text/plain": [
       "Index(['duration_sec', 'start_time', 'end_time', 'start_station_id',\n",
       "       'start_station_name', 'start_station_latitude',\n",
       "       'start_station_longitude', 'end_station_id', 'end_station_name',\n",
       "       'end_station_latitude', 'end_station_longitude', 'bike_id', 'user_type',\n",
       "       'member_gender', 'bike_share_for_all_trip', 'duration_min',\n",
       "       'member_age'],\n",
       "      dtype='object')"
      ]
     },
     "execution_count": 45,
     "metadata": {},
     "output_type": "execute_result"
    }
   ],
   "source": [
    "#see columns in dataset\n",
    "fordgobike_copy.columns"
   ]
  },
  {
   "cell_type": "markdown",
   "metadata": {
    "id": "79b406Dz1FK8",
    "slideshow": {
     "slide_type": "skip"
    }
   },
   "source": [
    "What is the relations between start_longitude, start_latitude, end_longitude and end_latitude?"
   ]
  },
  {
   "cell_type": "code",
   "execution_count": 46,
   "metadata": {
    "colab": {
     "base_uri": "https://localhost:8080/",
     "height": 533
    },
    "id": "4IAQSiAN-RHo",
    "outputId": "30b95f65-d59b-444e-d2ee-f545563d5258",
    "slideshow": {
     "slide_type": "subslide"
    }
   },
   "outputs": [
    {
     "data": {
      "text/plain": [
       "Text(0.5,1,'Scatter plot of longitude and latitude of bike trip')"
      ]
     },
     "execution_count": 46,
     "metadata": {},
     "output_type": "execute_result"
    },
    {
     "data": {
      "image/png": "[encoded data removed]",
      "text/plain": [
       "<matplotlib.figure.Figure at 0x7fc3004a4278>"
      ]
     },
     "metadata": {
      "needs_background": "light"
     },
     "output_type": "display_data"
    }
   ],
   "source": [
    "#subplots of latitude and longitude.\n",
    "plt.figure(figsize=[10,8])\n",
    "plt.subplot(1,3,1)\n",
    "plt.scatter(data= fordgobike_copy, x = 'start_station_longitude', y = 'start_station_latitude', alpha=0.4)\n",
    "plt.xlabel('start_station_longitude')\n",
    "plt.ylabel('start_station_latitude')\n",
    "\n",
    "plt.subplot(1,3,2)\n",
    "plt.scatter(data= fordgobike_copy, x = 'end_station_longitude', y = 'end_station_latitude', alpha=0.4)\n",
    "plt.xlabel('end_station_longitude')\n",
    "plt.ylabel('end_station_latitude')\n",
    "\n",
    "plt.subplot(1,3,3)\n",
    "plt.scatter(data= fordgobike_copy, x = 'start_station_longitude', y = 'end_station_latitude', alpha=0.4)\n",
    "plt.xlabel('start_station_longitude')\n",
    "plt.ylabel('end_station_latitude')\n",
    "plt.title('Scatter plot of longitude and latitude of bike trip')"
   ]
  },
  {
   "cell_type": "markdown",
   "metadata": {
    "id": "0Zu2w3TWDoFu",
    "slideshow": {
     "slide_type": "subslide"
    }
   },
   "source": [
    "Bike users, start their bike trip in the same longitue and latitude and trip is end in the same as longitude and latitude as well."
   ]
  },
  {
   "cell_type": "code",
   "execution_count": 47,
   "metadata": {
    "id": "DnXx-cyaE7Yl",
    "slideshow": {
     "slide_type": "skip"
    }
   },
   "outputs": [],
   "source": [
    "#Calculate the distance between latitude and longitude\n",
    "def haversine_np(lon1, lat1, lon2, lat2):\n",
    "  \"\"\"\n",
    "  calculate the greate circle distance between two points\n",
    "  on the earth (specified in decimal degrees)\n",
    "  all args must be of equal length\n",
    "  \"\"\"\n",
    "  lon1, lat1, lon2, lat2 = map(np.radians, [lon1, lat1, lon2, lat2])\n",
    "  dlon = lon2 - lon1\n",
    "  dlat = lat2 - lat1\n",
    "  a = np.sin(dlat/2.0)**2 + np.cos(lat1) * np.cos(lat2) * np.sin(dlon/2.0)**2\n",
    "  c = 2 * np.arcsin(np.sqrt(a))\n",
    "  km = 6367 * c    # 6367 is the radius of eart in km\n",
    "  return km"
   ]
  },
  {
   "cell_type": "code",
   "execution_count": 48,
   "metadata": {
    "colab": {
     "base_uri": "https://localhost:8080/",
     "height": 348
    },
    "id": "9zX8cAnbL_RC",
    "outputId": "284f8fde-a80a-4bc6-c2c6-cc39e02b0d8e",
    "slideshow": {
     "slide_type": "skip"
    }
   },
   "outputs": [
    {
     "data": {
      "text/html": [
       "<div>\n",
       "<style scoped>\n",
       "    .dataframe tbody tr th:only-of-type {\n",
       "        vertical-align: middle;\n",
       "    }\n",
       "\n",
       "    .dataframe tbody tr th {\n",
       "        vertical-align: top;\n",
       "    }\n",
       "\n",
       "    .dataframe thead th {\n",
       "        text-align: right;\n",
       "    }\n",
       "</style>\n",
       "<table border=\"1\" class=\"dataframe\">\n",
       "  <thead>\n",
       "    <tr style=\"text-align: right;\">\n",
       "      <th></th>\n",
       "      <th>duration_sec</th>\n",
       "      <th>start_time</th>\n",
       "      <th>end_time</th>\n",
       "      <th>start_station_id</th>\n",
       "      <th>start_station_name</th>\n",
       "      <th>start_station_latitude</th>\n",
       "      <th>start_station_longitude</th>\n",
       "      <th>end_station_id</th>\n",
       "      <th>end_station_name</th>\n",
       "      <th>end_station_latitude</th>\n",
       "      <th>end_station_longitude</th>\n",
       "      <th>bike_id</th>\n",
       "      <th>user_type</th>\n",
       "      <th>member_gender</th>\n",
       "      <th>bike_share_for_all_trip</th>\n",
       "      <th>duration_min</th>\n",
       "      <th>member_age</th>\n",
       "      <th>distance</th>\n",
       "    </tr>\n",
       "  </thead>\n",
       "  <tbody>\n",
       "    <tr>\n",
       "      <th>0</th>\n",
       "      <td>52185</td>\n",
       "      <td>2019-02-28 17:32:10.145</td>\n",
       "      <td>2019-03-01 08:01:55.975</td>\n",
       "      <td>21.0</td>\n",
       "      <td>Montgomery St BART Station (Market St at 2nd St)</td>\n",
       "      <td>37.789625</td>\n",
       "      <td>-122.400811</td>\n",
       "      <td>13.0</td>\n",
       "      <td>Commercial St at Montgomery St</td>\n",
       "      <td>37.794231</td>\n",
       "      <td>-122.402923</td>\n",
       "      <td>4902</td>\n",
       "      <td>Customer</td>\n",
       "      <td>Male</td>\n",
       "      <td>No</td>\n",
       "      <td>869.750000</td>\n",
       "      <td>37</td>\n",
       "      <td>0.544367</td>\n",
       "    </tr>\n",
       "    <tr>\n",
       "      <th>2</th>\n",
       "      <td>61854</td>\n",
       "      <td>2019-02-28 12:13:13.218</td>\n",
       "      <td>2019-03-01 05:24:08.146</td>\n",
       "      <td>86.0</td>\n",
       "      <td>Market St at Dolores St</td>\n",
       "      <td>37.769305</td>\n",
       "      <td>-122.426826</td>\n",
       "      <td>3.0</td>\n",
       "      <td>Powell St BART Station (Market St at 4th St)</td>\n",
       "      <td>37.786375</td>\n",
       "      <td>-122.404904</td>\n",
       "      <td>5905</td>\n",
       "      <td>Customer</td>\n",
       "      <td>Male</td>\n",
       "      <td>No</td>\n",
       "      <td>1030.900000</td>\n",
       "      <td>49</td>\n",
       "      <td>2.702847</td>\n",
       "    </tr>\n",
       "    <tr>\n",
       "      <th>3</th>\n",
       "      <td>36490</td>\n",
       "      <td>2019-02-28 17:54:26.010</td>\n",
       "      <td>2019-03-01 04:02:36.842</td>\n",
       "      <td>375.0</td>\n",
       "      <td>Grove St at Masonic Ave</td>\n",
       "      <td>37.774836</td>\n",
       "      <td>-122.446546</td>\n",
       "      <td>70.0</td>\n",
       "      <td>Central Ave at Fell St</td>\n",
       "      <td>37.773311</td>\n",
       "      <td>-122.444293</td>\n",
       "      <td>6638</td>\n",
       "      <td>Subscriber</td>\n",
       "      <td>Other</td>\n",
       "      <td>No</td>\n",
       "      <td>608.166667</td>\n",
       "      <td>32</td>\n",
       "      <td>0.260575</td>\n",
       "    </tr>\n",
       "    <tr>\n",
       "      <th>4</th>\n",
       "      <td>1585</td>\n",
       "      <td>2019-02-28 23:54:18.549</td>\n",
       "      <td>2019-03-01 00:20:44.074</td>\n",
       "      <td>7.0</td>\n",
       "      <td>Frank H Ogawa Plaza</td>\n",
       "      <td>37.804562</td>\n",
       "      <td>-122.271738</td>\n",
       "      <td>222.0</td>\n",
       "      <td>10th Ave at E 15th St</td>\n",
       "      <td>37.792714</td>\n",
       "      <td>-122.248780</td>\n",
       "      <td>4898</td>\n",
       "      <td>Subscriber</td>\n",
       "      <td>Male</td>\n",
       "      <td>Yes</td>\n",
       "      <td>26.416667</td>\n",
       "      <td>47</td>\n",
       "      <td>2.407789</td>\n",
       "    </tr>\n",
       "    <tr>\n",
       "      <th>5</th>\n",
       "      <td>1793</td>\n",
       "      <td>2019-02-28 23:49:58.632</td>\n",
       "      <td>2019-03-01 00:19:51.760</td>\n",
       "      <td>93.0</td>\n",
       "      <td>4th St at Mission Bay Blvd S</td>\n",
       "      <td>37.770407</td>\n",
       "      <td>-122.391198</td>\n",
       "      <td>323.0</td>\n",
       "      <td>Broadway at Kearny</td>\n",
       "      <td>37.798014</td>\n",
       "      <td>-122.405950</td>\n",
       "      <td>5200</td>\n",
       "      <td>Subscriber</td>\n",
       "      <td>Male</td>\n",
       "      <td>No</td>\n",
       "      <td>29.883333</td>\n",
       "      <td>62</td>\n",
       "      <td>3.330111</td>\n",
       "    </tr>\n",
       "  </tbody>\n",
       "</table>\n",
       "</div>"
      ],
      "text/plain": [
       "   duration_sec              start_time                end_time  \\\n",
       "0         52185 2019-02-28 17:32:10.145 2019-03-01 08:01:55.975   \n",
       "2         61854 2019-02-28 12:13:13.218 2019-03-01 05:24:08.146   \n",
       "3         36490 2019-02-28 17:54:26.010 2019-03-01 04:02:36.842   \n",
       "4          1585 2019-02-28 23:54:18.549 2019-03-01 00:20:44.074   \n",
       "5          1793 2019-02-28 23:49:58.632 2019-03-01 00:19:51.760   \n",
       "\n",
       "   start_station_id                                start_station_name  \\\n",
       "0              21.0  Montgomery St BART Station (Market St at 2nd St)   \n",
       "2              86.0                           Market St at Dolores St   \n",
       "3             375.0                           Grove St at Masonic Ave   \n",
       "4               7.0                               Frank H Ogawa Plaza   \n",
       "5              93.0                      4th St at Mission Bay Blvd S   \n",
       "\n",
       "   start_station_latitude  start_station_longitude  end_station_id  \\\n",
       "0               37.789625              -122.400811            13.0   \n",
       "2               37.769305              -122.426826             3.0   \n",
       "3               37.774836              -122.446546            70.0   \n",
       "4               37.804562              -122.271738           222.0   \n",
       "5               37.770407              -122.391198           323.0   \n",
       "\n",
       "                               end_station_name  end_station_latitude  \\\n",
       "0                Commercial St at Montgomery St             37.794231   \n",
       "2  Powell St BART Station (Market St at 4th St)             37.786375   \n",
       "3                        Central Ave at Fell St             37.773311   \n",
       "4                         10th Ave at E 15th St             37.792714   \n",
       "5                            Broadway at Kearny             37.798014   \n",
       "\n",
       "   end_station_longitude  bike_id   user_type member_gender  \\\n",
       "0            -122.402923     4902    Customer          Male   \n",
       "2            -122.404904     5905    Customer          Male   \n",
       "3            -122.444293     6638  Subscriber         Other   \n",
       "4            -122.248780     4898  Subscriber          Male   \n",
       "5            -122.405950     5200  Subscriber          Male   \n",
       "\n",
       "  bike_share_for_all_trip  duration_min  member_age  distance  \n",
       "0                      No    869.750000          37  0.544367  \n",
       "2                      No   1030.900000          49  2.702847  \n",
       "3                      No    608.166667          32  0.260575  \n",
       "4                     Yes     26.416667          47  2.407789  \n",
       "5                      No     29.883333          62  3.330111  "
      ]
     },
     "execution_count": 48,
     "metadata": {},
     "output_type": "execute_result"
    }
   ],
   "source": [
    "#creating new column called distance using haversine formula.\n",
    "fordgobike_copy['distance'] = haversine_np(fordgobike_copy['start_station_longitude'], fordgobike_copy['start_station_latitude'], fordgobike_copy['end_station_longitude'], fordgobike_copy['end_station_latitude'])\n",
    "fordgobike_copy.head()"
   ]
  },
  {
   "cell_type": "code",
   "execution_count": 49,
   "metadata": {
    "colab": {
     "base_uri": "https://localhost:8080/"
    },
    "id": "gPjY_GuKK-V7",
    "outputId": "0df7064d-8184-4d3c-d65b-9e181dfbdd12",
    "slideshow": {
     "slide_type": "skip"
    }
   },
   "outputs": [
    {
     "data": {
      "text/plain": [
       "count    174882.000000\n",
       "mean         11.741978\n",
       "std          27.378195\n",
       "min           1.016667\n",
       "25%           5.383333\n",
       "50%           8.516667\n",
       "75%          13.150000\n",
       "max        1409.133333\n",
       "Name: duration_min, dtype: float64"
      ]
     },
     "execution_count": 49,
     "metadata": {},
     "output_type": "execute_result"
    }
   ],
   "source": [
    "#description of distance column\n",
    "fordgobike_copy.duration_min.describe()"
   ]
  },
  {
   "cell_type": "markdown",
   "metadata": {
    "id": "ox9xK33Ny-SN",
    "slideshow": {
     "slide_type": "skip"
    }
   },
   "source": [
    "**See distance and duration_min, how are they related with each other?**"
   ]
  },
  {
   "cell_type": "code",
   "execution_count": 50,
   "metadata": {
    "colab": {
     "base_uri": "https://localhost:8080/",
     "height": 348
    },
    "id": "nxqE3_9ZNwLM",
    "outputId": "817009ff-d7c3-484f-9906-9e949bca49a4",
    "slideshow": {
     "slide_type": "skip"
    }
   },
   "outputs": [
    {
     "data": {
      "text/html": [
       "<div>\n",
       "<style scoped>\n",
       "    .dataframe tbody tr th:only-of-type {\n",
       "        vertical-align: middle;\n",
       "    }\n",
       "\n",
       "    .dataframe tbody tr th {\n",
       "        vertical-align: top;\n",
       "    }\n",
       "\n",
       "    .dataframe thead th {\n",
       "        text-align: right;\n",
       "    }\n",
       "</style>\n",
       "<table border=\"1\" class=\"dataframe\">\n",
       "  <thead>\n",
       "    <tr style=\"text-align: right;\">\n",
       "      <th></th>\n",
       "      <th>duration_sec</th>\n",
       "      <th>start_time</th>\n",
       "      <th>end_time</th>\n",
       "      <th>start_station_id</th>\n",
       "      <th>start_station_name</th>\n",
       "      <th>start_station_latitude</th>\n",
       "      <th>start_station_longitude</th>\n",
       "      <th>end_station_id</th>\n",
       "      <th>end_station_name</th>\n",
       "      <th>end_station_latitude</th>\n",
       "      <th>end_station_longitude</th>\n",
       "      <th>bike_id</th>\n",
       "      <th>user_type</th>\n",
       "      <th>member_gender</th>\n",
       "      <th>bike_share_for_all_trip</th>\n",
       "      <th>duration_min</th>\n",
       "      <th>member_age</th>\n",
       "      <th>distance</th>\n",
       "    </tr>\n",
       "  </thead>\n",
       "  <tbody>\n",
       "    <tr>\n",
       "      <th>0</th>\n",
       "      <td>52185</td>\n",
       "      <td>2019-02-28 17:32:10.145</td>\n",
       "      <td>2019-03-01 08:01:55.975</td>\n",
       "      <td>21.0</td>\n",
       "      <td>Montgomery St BART Station (Market St at 2nd St)</td>\n",
       "      <td>37.789625</td>\n",
       "      <td>-122.400811</td>\n",
       "      <td>13.0</td>\n",
       "      <td>Commercial St at Montgomery St</td>\n",
       "      <td>37.794231</td>\n",
       "      <td>-122.402923</td>\n",
       "      <td>4902</td>\n",
       "      <td>Customer</td>\n",
       "      <td>Male</td>\n",
       "      <td>No</td>\n",
       "      <td>869.750000</td>\n",
       "      <td>37</td>\n",
       "      <td>0.544367</td>\n",
       "    </tr>\n",
       "    <tr>\n",
       "      <th>2</th>\n",
       "      <td>61854</td>\n",
       "      <td>2019-02-28 12:13:13.218</td>\n",
       "      <td>2019-03-01 05:24:08.146</td>\n",
       "      <td>86.0</td>\n",
       "      <td>Market St at Dolores St</td>\n",
       "      <td>37.769305</td>\n",
       "      <td>-122.426826</td>\n",
       "      <td>3.0</td>\n",
       "      <td>Powell St BART Station (Market St at 4th St)</td>\n",
       "      <td>37.786375</td>\n",
       "      <td>-122.404904</td>\n",
       "      <td>5905</td>\n",
       "      <td>Customer</td>\n",
       "      <td>Male</td>\n",
       "      <td>No</td>\n",
       "      <td>1030.900000</td>\n",
       "      <td>49</td>\n",
       "      <td>2.702847</td>\n",
       "    </tr>\n",
       "    <tr>\n",
       "      <th>3</th>\n",
       "      <td>36490</td>\n",
       "      <td>2019-02-28 17:54:26.010</td>\n",
       "      <td>2019-03-01 04:02:36.842</td>\n",
       "      <td>375.0</td>\n",
       "      <td>Grove St at Masonic Ave</td>\n",
       "      <td>37.774836</td>\n",
       "      <td>-122.446546</td>\n",
       "      <td>70.0</td>\n",
       "      <td>Central Ave at Fell St</td>\n",
       "      <td>37.773311</td>\n",
       "      <td>-122.444293</td>\n",
       "      <td>6638</td>\n",
       "      <td>Subscriber</td>\n",
       "      <td>Other</td>\n",
       "      <td>No</td>\n",
       "      <td>608.166667</td>\n",
       "      <td>32</td>\n",
       "      <td>0.260575</td>\n",
       "    </tr>\n",
       "    <tr>\n",
       "      <th>4</th>\n",
       "      <td>1585</td>\n",
       "      <td>2019-02-28 23:54:18.549</td>\n",
       "      <td>2019-03-01 00:20:44.074</td>\n",
       "      <td>7.0</td>\n",
       "      <td>Frank H Ogawa Plaza</td>\n",
       "      <td>37.804562</td>\n",
       "      <td>-122.271738</td>\n",
       "      <td>222.0</td>\n",
       "      <td>10th Ave at E 15th St</td>\n",
       "      <td>37.792714</td>\n",
       "      <td>-122.248780</td>\n",
       "      <td>4898</td>\n",
       "      <td>Subscriber</td>\n",
       "      <td>Male</td>\n",
       "      <td>Yes</td>\n",
       "      <td>26.416667</td>\n",
       "      <td>47</td>\n",
       "      <td>2.407789</td>\n",
       "    </tr>\n",
       "    <tr>\n",
       "      <th>5</th>\n",
       "      <td>1793</td>\n",
       "      <td>2019-02-28 23:49:58.632</td>\n",
       "      <td>2019-03-01 00:19:51.760</td>\n",
       "      <td>93.0</td>\n",
       "      <td>4th St at Mission Bay Blvd S</td>\n",
       "      <td>37.770407</td>\n",
       "      <td>-122.391198</td>\n",
       "      <td>323.0</td>\n",
       "      <td>Broadway at Kearny</td>\n",
       "      <td>37.798014</td>\n",
       "      <td>-122.405950</td>\n",
       "      <td>5200</td>\n",
       "      <td>Subscriber</td>\n",
       "      <td>Male</td>\n",
       "      <td>No</td>\n",
       "      <td>29.883333</td>\n",
       "      <td>62</td>\n",
       "      <td>3.330111</td>\n",
       "    </tr>\n",
       "  </tbody>\n",
       "</table>\n",
       "</div>"
      ],
      "text/plain": [
       "   duration_sec              start_time                end_time  \\\n",
       "0         52185 2019-02-28 17:32:10.145 2019-03-01 08:01:55.975   \n",
       "2         61854 2019-02-28 12:13:13.218 2019-03-01 05:24:08.146   \n",
       "3         36490 2019-02-28 17:54:26.010 2019-03-01 04:02:36.842   \n",
       "4          1585 2019-02-28 23:54:18.549 2019-03-01 00:20:44.074   \n",
       "5          1793 2019-02-28 23:49:58.632 2019-03-01 00:19:51.760   \n",
       "\n",
       "   start_station_id                                start_station_name  \\\n",
       "0              21.0  Montgomery St BART Station (Market St at 2nd St)   \n",
       "2              86.0                           Market St at Dolores St   \n",
       "3             375.0                           Grove St at Masonic Ave   \n",
       "4               7.0                               Frank H Ogawa Plaza   \n",
       "5              93.0                      4th St at Mission Bay Blvd S   \n",
       "\n",
       "   start_station_latitude  start_station_longitude  end_station_id  \\\n",
       "0               37.789625              -122.400811            13.0   \n",
       "2               37.769305              -122.426826             3.0   \n",
       "3               37.774836              -122.446546            70.0   \n",
       "4               37.804562              -122.271738           222.0   \n",
       "5               37.770407              -122.391198           323.0   \n",
       "\n",
       "                               end_station_name  end_station_latitude  \\\n",
       "0                Commercial St at Montgomery St             37.794231   \n",
       "2  Powell St BART Station (Market St at 4th St)             37.786375   \n",
       "3                        Central Ave at Fell St             37.773311   \n",
       "4                         10th Ave at E 15th St             37.792714   \n",
       "5                            Broadway at Kearny             37.798014   \n",
       "\n",
       "   end_station_longitude  bike_id   user_type member_gender  \\\n",
       "0            -122.402923     4902    Customer          Male   \n",
       "2            -122.404904     5905    Customer          Male   \n",
       "3            -122.444293     6638  Subscriber         Other   \n",
       "4            -122.248780     4898  Subscriber          Male   \n",
       "5            -122.405950     5200  Subscriber          Male   \n",
       "\n",
       "  bike_share_for_all_trip  duration_min  member_age  distance  \n",
       "0                      No    869.750000          37  0.544367  \n",
       "2                      No   1030.900000          49  2.702847  \n",
       "3                      No    608.166667          32  0.260575  \n",
       "4                     Yes     26.416667          47  2.407789  \n",
       "5                      No     29.883333          62  3.330111  "
      ]
     },
     "execution_count": 50,
     "metadata": {},
     "output_type": "execute_result"
    }
   ],
   "source": [
    "fordgobike_copy1 = fordgobike_copy[~(fordgobike_copy.distance>20)]\n",
    "fordgobike_copy1.head()"
   ]
  },
  {
   "cell_type": "code",
   "execution_count": 51,
   "metadata": {
    "colab": {
     "base_uri": "https://localhost:8080/",
     "height": 423
    },
    "id": "43kNdQAEVmgS",
    "outputId": "9e7f5e46-53e9-40ba-f9a8-1b7e6f86943e",
    "slideshow": {
     "slide_type": "skip"
    }
   },
   "outputs": [
    {
     "ename": "AttributeError",
     "evalue": "Unknown property ticks",
     "output_type": "error",
     "traceback": [
      "\u001b[0;31m---------------------------------------------------------------------------\u001b[0m",
      "\u001b[0;31mAttributeError\u001b[0m                            Traceback (most recent call last)",
      "\u001b[0;32m<ipython-input-51-16ded4918455>\u001b[0m in \u001b[0;36m<module>\u001b[0;34m()\u001b[0m\n\u001b[1;32m      4\u001b[0m \u001b[0mplt\u001b[0m\u001b[0;34m.\u001b[0m\u001b[0mxscale\u001b[0m\u001b[0;34m(\u001b[0m\u001b[0;34m'log'\u001b[0m\u001b[0;34m)\u001b[0m\u001b[0;34m\u001b[0m\u001b[0m\n\u001b[1;32m      5\u001b[0m \u001b[0mticks\u001b[0m \u001b[0;34m=\u001b[0m \u001b[0;34m[\u001b[0m\u001b[0;36m1\u001b[0m\u001b[0;34m,\u001b[0m \u001b[0;36m5\u001b[0m\u001b[0;34m,\u001b[0m \u001b[0;36m10\u001b[0m\u001b[0;34m,\u001b[0m \u001b[0;36m50\u001b[0m\u001b[0;34m,\u001b[0m \u001b[0;36m150\u001b[0m\u001b[0;34m,\u001b[0m \u001b[0;36m300\u001b[0m\u001b[0;34m,\u001b[0m \u001b[0;36m500\u001b[0m\u001b[0;34m,\u001b[0m \u001b[0;36m1500\u001b[0m\u001b[0;34m]\u001b[0m\u001b[0;34m\u001b[0m\u001b[0m\n\u001b[0;32m----> 6\u001b[0;31m \u001b[0mplt\u001b[0m\u001b[0;34m.\u001b[0m\u001b[0mxticks\u001b[0m\u001b[0;34m(\u001b[0m\u001b[0mticks\u001b[0m \u001b[0;34m=\u001b[0m \u001b[0mticks\u001b[0m\u001b[0;34m,\u001b[0m \u001b[0mlabels\u001b[0m\u001b[0;34m=\u001b[0m\u001b[0mticks\u001b[0m\u001b[0;34m)\u001b[0m\u001b[0;34m\u001b[0m\u001b[0m\n\u001b[0m\u001b[1;32m      7\u001b[0m \u001b[0mplt\u001b[0m\u001b[0;34m.\u001b[0m\u001b[0mxlabel\u001b[0m\u001b[0;34m(\u001b[0m\u001b[0;34m'Time (Min)'\u001b[0m\u001b[0;34m)\u001b[0m\u001b[0;34m\u001b[0m\u001b[0m\n\u001b[1;32m      8\u001b[0m \u001b[0mplt\u001b[0m\u001b[0;34m.\u001b[0m\u001b[0mylabel\u001b[0m\u001b[0;34m(\u001b[0m\u001b[0;34m'Distance (Km)'\u001b[0m\u001b[0;34m)\u001b[0m\u001b[0;34m\u001b[0m\u001b[0m\n",
      "\u001b[0;32m/opt/conda/lib/python3.6/site-packages/matplotlib/pyplot.py\u001b[0m in \u001b[0;36mxticks\u001b[0;34m(*args, **kwargs)\u001b[0m\n\u001b[1;32m   1621\u001b[0m     \u001b[0;32mif\u001b[0m \u001b[0mlen\u001b[0m\u001b[0;34m(\u001b[0m\u001b[0mkwargs\u001b[0m\u001b[0;34m)\u001b[0m\u001b[0;34m:\u001b[0m\u001b[0;34m\u001b[0m\u001b[0m\n\u001b[1;32m   1622\u001b[0m         \u001b[0;32mfor\u001b[0m \u001b[0ml\u001b[0m \u001b[0;32min\u001b[0m \u001b[0mlabels\u001b[0m\u001b[0;34m:\u001b[0m\u001b[0;34m\u001b[0m\u001b[0m\n\u001b[0;32m-> 1623\u001b[0;31m             \u001b[0ml\u001b[0m\u001b[0;34m.\u001b[0m\u001b[0mupdate\u001b[0m\u001b[0;34m(\u001b[0m\u001b[0mkwargs\u001b[0m\u001b[0;34m)\u001b[0m\u001b[0;34m\u001b[0m\u001b[0m\n\u001b[0m\u001b[1;32m   1624\u001b[0m \u001b[0;34m\u001b[0m\u001b[0m\n\u001b[1;32m   1625\u001b[0m     \u001b[0;32mreturn\u001b[0m \u001b[0mlocs\u001b[0m\u001b[0;34m,\u001b[0m \u001b[0msilent_list\u001b[0m\u001b[0;34m(\u001b[0m\u001b[0;34m'Text xticklabel'\u001b[0m\u001b[0;34m,\u001b[0m \u001b[0mlabels\u001b[0m\u001b[0;34m)\u001b[0m\u001b[0;34m\u001b[0m\u001b[0m\n",
      "\u001b[0;32m/opt/conda/lib/python3.6/site-packages/matplotlib/text.py\u001b[0m in \u001b[0;36mupdate\u001b[0;34m(self, kwargs)\u001b[0m\n\u001b[1;32m    242\u001b[0m         \u001b[0msentinel\u001b[0m \u001b[0;34m=\u001b[0m \u001b[0mobject\u001b[0m\u001b[0;34m(\u001b[0m\u001b[0;34m)\u001b[0m  \u001b[0;31m# bbox can be None, so use another sentinel.\u001b[0m\u001b[0;34m\u001b[0m\u001b[0m\n\u001b[1;32m    243\u001b[0m         \u001b[0mbbox\u001b[0m \u001b[0;34m=\u001b[0m \u001b[0mkwargs\u001b[0m\u001b[0;34m.\u001b[0m\u001b[0mpop\u001b[0m\u001b[0;34m(\u001b[0m\u001b[0;34m\"bbox\"\u001b[0m\u001b[0;34m,\u001b[0m \u001b[0msentinel\u001b[0m\u001b[0;34m)\u001b[0m\u001b[0;34m\u001b[0m\u001b[0m\n\u001b[0;32m--> 244\u001b[0;31m         \u001b[0msuper\u001b[0m\u001b[0;34m(\u001b[0m\u001b[0mText\u001b[0m\u001b[0;34m,\u001b[0m \u001b[0mself\u001b[0m\u001b[0;34m)\u001b[0m\u001b[0;34m.\u001b[0m\u001b[0mupdate\u001b[0m\u001b[0;34m(\u001b[0m\u001b[0mkwargs\u001b[0m\u001b[0;34m)\u001b[0m\u001b[0;34m\u001b[0m\u001b[0m\n\u001b[0m\u001b[1;32m    245\u001b[0m         \u001b[0;32mif\u001b[0m \u001b[0mbbox\u001b[0m \u001b[0;32mis\u001b[0m \u001b[0;32mnot\u001b[0m \u001b[0msentinel\u001b[0m\u001b[0;34m:\u001b[0m\u001b[0;34m\u001b[0m\u001b[0m\n\u001b[1;32m    246\u001b[0m             \u001b[0mself\u001b[0m\u001b[0;34m.\u001b[0m\u001b[0mset_bbox\u001b[0m\u001b[0;34m(\u001b[0m\u001b[0mbbox\u001b[0m\u001b[0;34m)\u001b[0m\u001b[0;34m\u001b[0m\u001b[0m\n",
      "\u001b[0;32m/opt/conda/lib/python3.6/site-packages/matplotlib/artist.py\u001b[0m in \u001b[0;36mupdate\u001b[0;34m(self, props)\u001b[0m\n\u001b[1;32m    845\u001b[0m         \u001b[0;32mtry\u001b[0m\u001b[0;34m:\u001b[0m\u001b[0;34m\u001b[0m\u001b[0m\n\u001b[1;32m    846\u001b[0m             ret = [_update_property(self, k, v)\n\u001b[0;32m--> 847\u001b[0;31m                    for k, v in props.items()]\n\u001b[0m\u001b[1;32m    848\u001b[0m         \u001b[0;32mfinally\u001b[0m\u001b[0;34m:\u001b[0m\u001b[0;34m\u001b[0m\u001b[0m\n\u001b[1;32m    849\u001b[0m             \u001b[0mself\u001b[0m\u001b[0;34m.\u001b[0m\u001b[0meventson\u001b[0m \u001b[0;34m=\u001b[0m \u001b[0mstore\u001b[0m\u001b[0;34m\u001b[0m\u001b[0m\n",
      "\u001b[0;32m/opt/conda/lib/python3.6/site-packages/matplotlib/artist.py\u001b[0m in \u001b[0;36m<listcomp>\u001b[0;34m(.0)\u001b[0m\n\u001b[1;32m    845\u001b[0m         \u001b[0;32mtry\u001b[0m\u001b[0;34m:\u001b[0m\u001b[0;34m\u001b[0m\u001b[0m\n\u001b[1;32m    846\u001b[0m             ret = [_update_property(self, k, v)\n\u001b[0;32m--> 847\u001b[0;31m                    for k, v in props.items()]\n\u001b[0m\u001b[1;32m    848\u001b[0m         \u001b[0;32mfinally\u001b[0m\u001b[0;34m:\u001b[0m\u001b[0;34m\u001b[0m\u001b[0m\n\u001b[1;32m    849\u001b[0m             \u001b[0mself\u001b[0m\u001b[0;34m.\u001b[0m\u001b[0meventson\u001b[0m \u001b[0;34m=\u001b[0m \u001b[0mstore\u001b[0m\u001b[0;34m\u001b[0m\u001b[0m\n",
      "\u001b[0;32m/opt/conda/lib/python3.6/site-packages/matplotlib/artist.py\u001b[0m in \u001b[0;36m_update_property\u001b[0;34m(self, k, v)\u001b[0m\n\u001b[1;32m    838\u001b[0m                 \u001b[0mfunc\u001b[0m \u001b[0;34m=\u001b[0m \u001b[0mgetattr\u001b[0m\u001b[0;34m(\u001b[0m\u001b[0mself\u001b[0m\u001b[0;34m,\u001b[0m \u001b[0;34m'set_'\u001b[0m \u001b[0;34m+\u001b[0m \u001b[0mk\u001b[0m\u001b[0;34m,\u001b[0m \u001b[0;32mNone\u001b[0m\u001b[0;34m)\u001b[0m\u001b[0;34m\u001b[0m\u001b[0m\n\u001b[1;32m    839\u001b[0m                 \u001b[0;32mif\u001b[0m \u001b[0;32mnot\u001b[0m \u001b[0mcallable\u001b[0m\u001b[0;34m(\u001b[0m\u001b[0mfunc\u001b[0m\u001b[0;34m)\u001b[0m\u001b[0;34m:\u001b[0m\u001b[0;34m\u001b[0m\u001b[0m\n\u001b[0;32m--> 840\u001b[0;31m                     \u001b[0;32mraise\u001b[0m \u001b[0mAttributeError\u001b[0m\u001b[0;34m(\u001b[0m\u001b[0;34m'Unknown property %s'\u001b[0m \u001b[0;34m%\u001b[0m \u001b[0mk\u001b[0m\u001b[0;34m)\u001b[0m\u001b[0;34m\u001b[0m\u001b[0m\n\u001b[0m\u001b[1;32m    841\u001b[0m                 \u001b[0;32mreturn\u001b[0m \u001b[0mfunc\u001b[0m\u001b[0;34m(\u001b[0m\u001b[0mv\u001b[0m\u001b[0;34m)\u001b[0m\u001b[0;34m\u001b[0m\u001b[0m\n\u001b[1;32m    842\u001b[0m \u001b[0;34m\u001b[0m\u001b[0m\n",
      "\u001b[0;31mAttributeError\u001b[0m: Unknown property ticks"
     ]
    },
    {
     "data": {
      "image/png": "[encoded data removed]",
      "text/plain": [
       "<matplotlib.figure.Figure at 0x7fc2f8e6d940>"
      ]
     },
     "metadata": {
      "needs_background": "light"
     },
     "output_type": "display_data"
    }
   ],
   "source": [
    "\n",
    "plt.figure(figsize = [8,6])\n",
    "plt.scatter(y = 'distance', x = 'duration_min', data = fordgobike_copy1)\n",
    "plt.xscale('log')\n",
    "ticks = [1, 5, 10, 50, 150, 300, 500, 1500]\n",
    "plt.xticks(ticks = ticks, labels=ticks)\n",
    "plt.xlabel('Time (Min)')\n",
    "plt.ylabel('Distance (Km)')\n",
    "plt.title('Scatter plot of distance (Km) vs time (Min')\n"
   ]
  },
  {
   "cell_type": "markdown",
   "metadata": {
    "id": "GIFSzXyIzViq",
    "slideshow": {
     "slide_type": "skip"
    }
   },
   "source": [
    "In the duration_min and distance plot maximum distance around 10km, and time between 30-40 mins, lowest time is 1 min with 0-1km, that means users didn't do any bike trip at that time, many bikers rented bike for 1500 min kept running for around 5-6 kilometer. highest distance travel is 16km in 50mins."
   ]
  },
  {
   "cell_type": "code",
   "execution_count": null,
   "metadata": {
    "colab": {
     "base_uri": "https://localhost:8080/"
    },
    "id": "O8LLvupEQyRm",
    "outputId": "5c330c5d-e557-442d-d63d-c64399eb30a7",
    "slideshow": {
     "slide_type": "skip"
    }
   },
   "outputs": [],
   "source": [
    "#check null values in the data\n",
    "fordgobike_copy.isna().sum()"
   ]
  },
  {
   "cell_type": "code",
   "execution_count": null,
   "metadata": {
    "colab": {
     "base_uri": "https://localhost:8080/"
    },
    "id": "luQAJu1pThfK",
    "outputId": "dfd2ced8-270f-4a72-9e30-26480109874b",
    "slideshow": {
     "slide_type": "skip"
    }
   },
   "outputs": [],
   "source": [
    "#removing null values from the id's column and station_name column\n",
    "fordgobike_copy = fordgobike_copy.dropna(subset = ['start_station_id', 'start_station_name', 'end_station_id', 'end_station_name'])\n",
    "fordgobike_copy.info()"
   ]
  },
  {
   "cell_type": "code",
   "execution_count": null,
   "metadata": {
    "id": "6ykJ4xD-Xh6c",
    "slideshow": {
     "slide_type": "skip"
    }
   },
   "outputs": [],
   "source": [
    "#converting id's to object columns\n",
    "cols = ['start_station_id', 'end_station_id', 'bike_id']\n",
    "for i in cols:\n",
    "  fordgobike_copy[i] = fordgobike_copy[i].astype(str)"
   ]
  },
  {
   "cell_type": "code",
   "execution_count": null,
   "metadata": {
    "colab": {
     "base_uri": "https://localhost:8080/"
    },
    "id": "NmV2E4s7SzKW",
    "outputId": "e788d0bb-4b55-4ccf-8770-04bb5a3f3217",
    "slideshow": {
     "slide_type": "skip"
    }
   },
   "outputs": [],
   "source": [
    "#check if the datatype is changed\n",
    "fordgobike_copy.info()"
   ]
  },
  {
   "cell_type": "code",
   "execution_count": null,
   "metadata": {
    "colab": {
     "base_uri": "https://localhost:8080/"
    },
    "id": "YrS-5s4hajRR",
    "outputId": "3f06cc0d-b1a6-45e6-f369-93fecc2f202e",
    "slideshow": {
     "slide_type": "skip"
    }
   },
   "outputs": [],
   "source": [
    "#extract time from the start_time column\n",
    "fordgobike_copy['timeS'] = fordgobike_copy.start_time.dt.time\n",
    "fordgobike_copy['timeS']"
   ]
  },
  {
   "cell_type": "code",
   "execution_count": null,
   "metadata": {
    "colab": {
     "base_uri": "https://localhost:8080/"
    },
    "id": "Sc3qtQWeYo2U",
    "outputId": "b59a73f5-183f-43ac-e150-f240b86401f0",
    "slideshow": {
     "slide_type": "skip"
    }
   },
   "outputs": [],
   "source": [
    "#extract day from the start_time and end_time \n",
    "fordgobike_copy['start_day'] = fordgobike_copy['start_time'].dt.strftime('%A')\n",
    "fordgobike_copy.start_day"
   ]
  },
  {
   "cell_type": "code",
   "execution_count": null,
   "metadata": {
    "colab": {
     "base_uri": "https://localhost:8080/"
    },
    "id": "0xVSvnirbmrV",
    "outputId": "b7a890f4-9352-4e7a-d8a1-91340b877992",
    "slideshow": {
     "slide_type": "skip"
    }
   },
   "outputs": [],
   "source": [
    "#extract time from the end_time column\n",
    "fordgobike_copy['timeE'] = fordgobike_copy['end_time'].dt.time\n",
    "fordgobike_copy['timeE']"
   ]
  },
  {
   "cell_type": "code",
   "execution_count": null,
   "metadata": {
    "colab": {
     "base_uri": "https://localhost:8080/"
    },
    "id": "a2NsmTHXb-tx",
    "outputId": "24e88563-4aea-480e-8174-879264fc6926",
    "slideshow": {
     "slide_type": "skip"
    }
   },
   "outputs": [],
   "source": [
    "#extracting day from the end_ime column\n",
    "fordgobike_copy['end_day'] = fordgobike_copy['end_time'].dt.strftime('%A')\n",
    "fordgobike_copy.end_day"
   ]
  },
  {
   "cell_type": "code",
   "execution_count": null,
   "metadata": {
    "colab": {
     "base_uri": "https://localhost:8080/",
     "height": 135
    },
    "id": "V5yMf3ARf2bB",
    "outputId": "b706466c-b520-46f5-87a7-ded76fe881ba",
    "slideshow": {
     "slide_type": "skip"
    }
   },
   "outputs": [],
   "source": [
    "#droppin cloumn start_time and end_time\n",
    "fordgobike_copy.drop(['start_time', 'end_time'], axis = 1, inplace=True)\n",
    "fordgobike_copy.head(1)"
   ]
  },
  {
   "cell_type": "code",
   "execution_count": null,
   "metadata": {
    "colab": {
     "base_uri": "https://localhost:8080/"
    },
    "id": "NaTVdYgKoh_A",
    "outputId": "fd334321-6adb-4f05-d614-242a57f40a98",
    "slideshow": {
     "slide_type": "skip"
    }
   },
   "outputs": [],
   "source": [
    "fordgobike_copy['timeS_hour'] = fordgobike_copy.timeS.apply(lambda x : x.hour)\n",
    "fordgobike_copy.timeS_hour"
   ]
  },
  {
   "cell_type": "code",
   "execution_count": null,
   "metadata": {
    "colab": {
     "base_uri": "https://localhost:8080/"
    },
    "id": "rC37h_2GqYJ6",
    "outputId": "5f4ea1a6-a364-420b-fa14-abfb87293cd3",
    "slideshow": {
     "slide_type": "skip"
    }
   },
   "outputs": [],
   "source": [
    "fordgobike_copy['timeE_hour'] = fordgobike_copy.timeE.apply(lambda x : x.hour)\n",
    "fordgobike_copy.timeE_hour"
   ]
  },
  {
   "cell_type": "markdown",
   "metadata": {
    "id": "6tSqPpEOyfQa",
    "slideshow": {
     "slide_type": "skip"
    }
   },
   "source": [
    "Which day bikers use more bike trip during weekend and weekdays?"
   ]
  },
  {
   "cell_type": "code",
   "execution_count": null,
   "metadata": {
    "colab": {
     "base_uri": "https://localhost:8080/",
     "height": 551
    },
    "id": "-qIhFM_jci1d",
    "outputId": "860bf6bb-ee39-4ffe-b7ef-1882f4540a67",
    "slideshow": {
     "slide_type": "subslide"
    }
   },
   "outputs": [],
   "source": [
    "plt.figure(figsize=[10,8])\n",
    "plt.title('Bike trip with start day and end day')\n",
    "order = ['Monday', 'Tuesday', 'Wednesday', 'Thursday', 'Friday', 'Saturday', 'Sunday']\n",
    "plt.subplot(1,2,1)\n",
    "sns.countplot(x= 'start_day', data=fordgobike_copy, order = order, color = base_color )\n",
    "plt.xlabel('Start day')\n",
    "plt.xticks(rotation = 45)\n",
    "plt.title('Countplot of bike trip with start day and end day')\n",
    "plt.subplot(1,2,2)\n",
    "sns.countplot(x= 'start_day', data=fordgobike_copy, order = order, color = base_color )\n",
    "plt.xlabel('End day')\n",
    "plt.xticks(rotation = 45)\n",
    "plt.show()"
   ]
  },
  {
   "cell_type": "markdown",
   "metadata": {
    "id": "AO7Nrl0khfEo",
    "slideshow": {
     "slide_type": "subslide"
    }
   },
   "source": [
    "We can see both countplot, start_day and end_day,  higher bike trip was start on Thursday and end was on higher on Thursday as well. It was surprising that bike trip were more less on weekends than weekdays"
   ]
  },
  {
   "cell_type": "markdown",
   "metadata": {
    "id": "vixmZZaoYYs0",
    "slideshow": {
     "slide_type": "slide"
    }
   },
   "source": [
    "## Multivariate\n",
    "\n",
    "Plot with 2-3 or more variables."
   ]
  },
  {
   "cell_type": "markdown",
   "metadata": {
    "id": "qlIUzb_fvJxy",
    "slideshow": {
     "slide_type": "slide"
    }
   },
   "source": [
    "Talk about some of the relationships you observed in this part of the investigation. Were there features that strengthened each other in terms of looking at your feature(s) of interest?\n",
    "\n",
    "Start_day and End_day are highly correlated with each other. Bike trip happened pretty much every day, probably bikers enjoy biking in their regular life, who doesn't? Starting hours and ending hours are also correlated with each other.\n",
    "Higher time of bike trip happened on Thursdays.\n",
    "\n",
    "Were there any interesting or surprising interactions between features?\n",
    "\n",
    "There is interesting feautre in user type, age between 35-40 have equally customers and subscriber"
   ]
  },
  {
   "cell_type": "markdown",
   "metadata": {
    "id": "EYm6uV3OcLQo",
    "slideshow": {
     "slide_type": "skip"
    }
   },
   "source": [
    "What are the hours of rent a bike and returned it back in certain days?"
   ]
  },
  {
   "cell_type": "code",
   "execution_count": null,
   "metadata": {
    "id": "kOLqxT41YrKv",
    "slideshow": {
     "slide_type": "skip"
    }
   },
   "outputs": [],
   "source": [
    "#filter the data get hours not included max hours\n",
    "fordgobike_copy2 = fordgobike_copy[~(fordgobike_copy.timeS_hour>20)]"
   ]
  },
  {
   "cell_type": "code",
   "execution_count": null,
   "metadata": {
    "colab": {
     "base_uri": "https://localhost:8080/",
     "height": 547
    },
    "id": "zhKi1AshL1jF",
    "outputId": "8ce247e4-0561-4ce3-9b30-958a1d5b3e7e",
    "slideshow": {
     "slide_type": "subslide"
    }
   },
   "outputs": [],
   "source": [
    "color = sns.color_palette()[2]\n",
    "plt.figure(figsize=[10.5,8.5])\n",
    "sns.barplot(data = fordgobike_copy2, x = 'start_day', y = 'timeS_hour', palette='viridis_r', hue = 'user_type', order = order)\n",
    "plt.legend(loc = 'best', bbox_to_anchor=[1,1])\n",
    "plt.xlabel('Start day', fontsize = 15)\n",
    "plt.ylabel('Starting hours', fontsize = 15)\n",
    "plt.title('Bar plot of user type with starting hours and starting days of bike trip', fontsize = 15)\n",
    "plt.show()"
   ]
  },
  {
   "cell_type": "markdown",
   "metadata": {
    "id": "-2EsAJh8mkhV",
    "slideshow": {
     "slide_type": "subslide"
    }
   },
   "source": [
    "In the barplot, we can see Monday to Thursday, there were more customers than subscriber, only on sundays, it's slighlty increased of subscriber than customers. Bike trip is little less on Fridays. On Sundays, bike trip id higher than other days. There is only slightly diffrence in hours for riding a bike on weekdays."
   ]
  },
  {
   "cell_type": "code",
   "execution_count": null,
   "metadata": {
    "colab": {
     "base_uri": "https://localhost:8080/"
    },
    "id": "5gngisG9Lgp_",
    "outputId": "f0b122d1-cf71-4e29-a64c-122ac145a808",
    "slideshow": {
     "slide_type": "skip"
    }
   },
   "outputs": [],
   "source": [
    "#description of starting hour\n",
    "fordgobike_copy.timeS_hour.describe()"
   ]
  },
  {
   "cell_type": "code",
   "execution_count": null,
   "metadata": {
    "colab": {
     "base_uri": "https://localhost:8080/"
    },
    "id": "GpvZ3FOTL9FZ",
    "outputId": "b86d1609-86c2-4205-84b4-60f786c28a6c",
    "slideshow": {
     "slide_type": "skip"
    }
   },
   "outputs": [],
   "source": [
    "#description of ending hours\n",
    "fordgobike_copy.timeE_hour.describe()"
   ]
  },
  {
   "cell_type": "markdown",
   "metadata": {
    "id": "N0xRI0eyUrJp",
    "slideshow": {
     "slide_type": "skip"
    }
   },
   "source": [
    "Which day bikers start and stop bike trip and how long they run their bikes?"
   ]
  },
  {
   "cell_type": "code",
   "execution_count": null,
   "metadata": {
    "id": "ogs-UVrRVVd5",
    "slideshow": {
     "slide_type": "skip"
    }
   },
   "outputs": [],
   "source": [
    "#groupby of star_day and end_day and converting into Dataframe\n",
    "bikes = pd.DataFrame(fordgobike_copy.groupby(['start_day', 'end_day']).count()['duration_sec'])\n",
    "bikes = bikes.reset_index()"
   ]
  },
  {
   "cell_type": "code",
   "execution_count": null,
   "metadata": {
    "id": "lyXi3cSxWZ_T",
    "slideshow": {
     "slide_type": "skip"
    }
   },
   "outputs": [],
   "source": [
    "#converting start_day and end_day to categorical.\n",
    "bikes.start_day = pd.Categorical(bikes.start_day, categories=['Monday','Tuesday','Wednesday','Thursday','Friday','Saturday','Sunday'], ordered=True)\n",
    "bikes.end_day = pd.Categorical(bikes.end_day, categories=['Monday','Tuesday','Wednesday','Thursday','Friday','Saturday','Sunday'], ordered=True)"
   ]
  },
  {
   "cell_type": "code",
   "execution_count": null,
   "metadata": {
    "colab": {
     "base_uri": "https://localhost:8080/",
     "height": 206
    },
    "id": "gGmGoACuYMl0",
    "outputId": "2cb480d2-bd7e-425a-e93a-0fe1ffc52f6c",
    "slideshow": {
     "slide_type": "skip"
    }
   },
   "outputs": [],
   "source": [
    "bikes.sort_values(by = ['start_day', 'end_day'], inplace=True)\n",
    "bikes.head()"
   ]
  },
  {
   "cell_type": "code",
   "execution_count": null,
   "metadata": {
    "colab": {
     "base_uri": "https://localhost:8080/",
     "height": 514
    },
    "id": "XmU0Tty1O2YT",
    "outputId": "fa988d8a-60a6-4a78-c90c-a6cd5d70943f",
    "slideshow": {
     "slide_type": "subslide"
    }
   },
   "outputs": [],
   "source": [
    "bikes_pivot = bikes.pivot(values='duration_sec', index='start_day', columns = 'end_day')\n",
    "plt.figure(figsize=[12,8])\n",
    "sns.heatmap(bikes_pivot, annot=True, fmt='.0f', cbar_kws={'label':'trip count'}, cmap='Blues_r')\n",
    "plt.title('Trip count by start and end day')\n",
    "plt.show()"
   ]
  },
  {
   "cell_type": "markdown",
   "metadata": {
    "id": "0rF4H_Pud_yt",
    "slideshow": {
     "slide_type": "subslide"
    }
   },
   "source": [
    "maximum trip counts on Thursday on start day and end day, minimum trip count on Saturday and Sunday. Seems like bikers ride bikes weekdays more than weekend."
   ]
  },
  {
   "cell_type": "code",
   "execution_count": null,
   "metadata": {
    "colab": {
     "base_uri": "https://localhost:8080/",
     "height": 641
    },
    "id": "dqBYRT4WUcoE",
    "outputId": "8c3d06d0-3fbb-44b8-adb7-a3e9a2729c75",
    "slideshow": {
     "slide_type": "skip"
    }
   },
   "outputs": [],
   "source": [
    "# plt.figure(figsize = (12, 8))\n",
    "# order = ['Monday', 'Tuesday', 'Wednesday', 'Thursday', 'Friday', 'Saturday', 'Sunday']\n",
    "# g = sns.FacetGrid(data=fordgobike_copy, col = 'start_day', col_order=order, hue = 'end_day', col_wrap = 4, size = 4, sharex=False)\n",
    "# g.map(sns.scatterplot, 'timeS_hour', 'timeE_hour', data = fordgobike_copy, palette = 'Set2')\n",
    "# #plt.xticks([1,5,9,13,17,23])\n",
    "# #plt.xticks(np.arange(min(fordgobike_copy.timeS_hour), max(fordgobike_copy.timeS_hour)+1, 1))\n",
    "# #plt.xlimt([5,23])\n",
    "# #plt.yticks([1,5,9,13,17,23])\n",
    "# plt.show()"
   ]
  },
  {
   "cell_type": "markdown",
   "metadata": {
    "id": "A70TTqbfhR9_",
    "slideshow": {
     "slide_type": "subslide"
    }
   },
   "source": [
    "Start days and end_days are highly correlated with each other, we can say that user do bike trip every day in certain time duration."
   ]
  },
  {
   "cell_type": "code",
   "execution_count": null,
   "metadata": {
    "colab": {
     "base_uri": "https://localhost:8080/",
     "height": 261
    },
    "id": "ObFHdzh547b1",
    "outputId": "4da00089-fdf0-4d57-f86d-1c07ccc2e580",
    "slideshow": {
     "slide_type": "skip"
    }
   },
   "outputs": [],
   "source": [
    "#filter time for rented bike\n",
    "filter_time = (fordgobike_copy['duration_min']>=50 ) & (fordgobike_copy['duration_min']<=60)\n",
    "filter_time = fordgobike_copy.loc[filter_time, :]\n",
    "filter_time.head()"
   ]
  },
  {
   "cell_type": "markdown",
   "metadata": {
    "id": "c8PwkkmVu-yP",
    "slideshow": {
     "slide_type": "skip"
    }
   },
   "source": [
    "Which day male and females ride a bike and how long?"
   ]
  },
  {
   "cell_type": "code",
   "execution_count": null,
   "metadata": {
    "colab": {
     "base_uri": "https://localhost:8080/",
     "height": 533
    },
    "id": "2hLvrhII919p",
    "outputId": "18485ead-45b6-4df3-d48f-4e0d630da912",
    "slideshow": {
     "slide_type": "subslide"
    }
   },
   "outputs": [],
   "source": [
    "plt.figure(figsize=[13,8])\n",
    "sns.pointplot(data=filter_time, x = 'start_day', y = 'duration_min', hue = 'member_gender', palette='coolwarm', dodge=0.4, linestyles='', order = order)\n",
    "plt.title('Pointplot of days vs time (Min) with gender')"
   ]
  },
  {
   "cell_type": "markdown",
   "metadata": {
    "id": "OpvLUBbTv488",
    "slideshow": {
     "slide_type": "subslide"
    }
   },
   "source": [
    "Others who didn't registered as a male and female they did bike trip more than male and female. They rode bike on Mondays on maximum time, and very less biking on Tuesday. Male and female's bike ride is quite similar on certain days and certain mins."
   ]
  },
  {
   "cell_type": "markdown",
   "metadata": {
    "id": "wuFb93MczPz1",
    "slideshow": {
     "slide_type": "skip"
    }
   },
   "source": [
    "Let's find out user types who ride bikes on certain days and how long?"
   ]
  },
  {
   "cell_type": "code",
   "execution_count": null,
   "metadata": {
    "colab": {
     "base_uri": "https://localhost:8080/",
     "height": 533
    },
    "id": "nabffRbRUzqa",
    "outputId": "a9efbec9-0b2e-42cf-a7cf-1524a9b4b91b",
    "slideshow": {
     "slide_type": "subslide"
    }
   },
   "outputs": [],
   "source": [
    "plt.figure(figsize = [13,8])\n",
    "sns.boxplot(data=filter_time, x = 'start_day', y = 'duration_min', hue = 'user_type', palette='Blues', dodge=0.4, order = order)\n",
    "plt.title('Boxplot of days vs time (min) with user type')\n",
    "plt.legend(loc= 'upper left', bbox_to_anchor=[1,0.5])"
   ]
  },
  {
   "cell_type": "markdown",
   "metadata": {
    "id": "34DmuxQDznyD",
    "slideshow": {
     "slide_type": "subslide"
    }
   },
   "source": [
    "It's intersting on Thursday maximum customers ride bikes with maximum time and average time on that day is 53 min, while on Friday subscriber rode their bike on maximum time which is equal to customers time on Thursday but average time is greater than customers' average time which is 55 mins only 2 mins more than customers time. Over all customers user type ride their bike more mins than subscriber."
   ]
  },
  {
   "cell_type": "code",
   "execution_count": null,
   "metadata": {
    "id": "OCYKferG1c1t",
    "slideshow": {
     "slide_type": "skip"
    }
   },
   "outputs": [],
   "source": [
    "!jupyter nbconvert 'fordgobike.ipynb' --to slides --post serve --template output-toggle"
   ]
  },
  {
   "cell_type": "code",
   "execution_count": null,
   "metadata": {
    "id": "Cp9FWSh5zSK-",
    "slideshow": {
     "slide_type": "skip"
    }
   },
   "outputs": [],
   "source": []
  }
 ],
 "metadata": {
  "celltoolbar": "Slideshow",
  "colab": {
   "collapsed_sections": [],
   "name": "fordgobike.ipynb",
   "provenance": []
  },
  "kernelspec": {
   "display_name": "Python 3",
   "language": "python",
   "name": "python3"
  },
  "language_info": {
   "codemirror_mode": {
    "name": "ipython",
    "version": 3
   },
   "file_extension": ".py",
   "mimetype": "text/x-python",
   "name": "python",
   "nbconvert_exporter": "python",
   "pygments_lexer": "ipython3",
   "version": "3.6.3"
  }
 },
 "nbformat": 4,
 "nbformat_minor": 1
}
