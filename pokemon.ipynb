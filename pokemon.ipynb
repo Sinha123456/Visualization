{
  "nbformat": 4,
  "nbformat_minor": 0,
  "metadata": {
    "colab": {
      "name": "pokemon.ipynb",
      "provenance": [],
      "authorship_tag": "ABX9TyP2gKnpvrNLME0oNqho3isK",
      "include_colab_link": true
    },
    "kernelspec": {
      "name": "python3",
      "display_name": "Python 3"
    }
  },
  "cells": [
    {
      "cell_type": "markdown",
      "metadata": {
        "id": "view-in-github",
        "colab_type": "text"
      },
      "source": [
        "<a href=\"https://colab.research.google.com/github/Sinha123456/Visualization/blob/main/pokemon.ipynb\" target=\"_parent\"><img src=\"https://colab.research.google.com/assets/colab-badge.svg\" alt=\"Open In Colab\"/></a>"
      ]
    },
    {
      "cell_type": "markdown",
      "metadata": {
        "id": "mtA91u1zTowR"
      },
      "source": [
        "Data Description:\r\n",
        "\r\n",
        "That data is downloaded from Udacity class room. That data is based on the game called pokemon, you can play on your phone."
      ]
    },
    {
      "cell_type": "code",
      "metadata": {
        "colab": {
          "base_uri": "https://localhost:8080/"
        },
        "id": "yBUVOyb-TPrl",
        "outputId": "a633d1b4-e122-4bbd-f445-9646714cd900"
      },
      "source": [
        "from google.colab import drive\r\n",
        "drive.mount('/content/drive')"
      ],
      "execution_count": 1,
      "outputs": [
        {
          "output_type": "stream",
          "text": [
            "Mounted at /content/drive\n"
          ],
          "name": "stdout"
        }
      ]
    },
    {
      "cell_type": "code",
      "metadata": {
        "id": "fku2i2ccTnuL"
      },
      "source": [
        "import numpy as np\r\n",
        "import pandas as pd\r\n",
        "import matplotlib.pyplot as plt\r\n",
        "import seaborn as sns\r\n",
        "%matplotlib inline\r\n",
        "from matplotlib import rcParams"
      ],
      "execution_count": 2,
      "outputs": []
    },
    {
      "cell_type": "code",
      "metadata": {
        "colab": {
          "base_uri": "https://localhost:8080/",
          "height": 224
        },
        "id": "YFEZTcEtUVr6",
        "outputId": "9d9cb26a-7560-46b9-b736-0ab9cf927a87"
      },
      "source": [
        "# Read the csv file, and check its top 5 rows\r\n",
        "pokemon = pd.read_csv('/content/drive/MyDrive/Colab Notebooks/udacity_projects/pokemon.csv')\r\n",
        "print(pokemon.shape)\r\n",
        "pokemon.head()\r\n"
      ],
      "execution_count": 3,
      "outputs": [
        {
          "output_type": "stream",
          "text": [
            "(807, 14)\n"
          ],
          "name": "stdout"
        },
        {
          "output_type": "execute_result",
          "data": {
            "text/html": [
              "<div>\n",
              "<style scoped>\n",
              "    .dataframe tbody tr th:only-of-type {\n",
              "        vertical-align: middle;\n",
              "    }\n",
              "\n",
              "    .dataframe tbody tr th {\n",
              "        vertical-align: top;\n",
              "    }\n",
              "\n",
              "    .dataframe thead th {\n",
              "        text-align: right;\n",
              "    }\n",
              "</style>\n",
              "<table border=\"1\" class=\"dataframe\">\n",
              "  <thead>\n",
              "    <tr style=\"text-align: right;\">\n",
              "      <th></th>\n",
              "      <th>id</th>\n",
              "      <th>species</th>\n",
              "      <th>generation_id</th>\n",
              "      <th>height</th>\n",
              "      <th>weight</th>\n",
              "      <th>base_experience</th>\n",
              "      <th>type_1</th>\n",
              "      <th>type_2</th>\n",
              "      <th>hp</th>\n",
              "      <th>attack</th>\n",
              "      <th>defense</th>\n",
              "      <th>speed</th>\n",
              "      <th>special-attack</th>\n",
              "      <th>special-defense</th>\n",
              "    </tr>\n",
              "  </thead>\n",
              "  <tbody>\n",
              "    <tr>\n",
              "      <th>0</th>\n",
              "      <td>1</td>\n",
              "      <td>bulbasaur</td>\n",
              "      <td>1</td>\n",
              "      <td>0.7</td>\n",
              "      <td>6.9</td>\n",
              "      <td>64</td>\n",
              "      <td>grass</td>\n",
              "      <td>poison</td>\n",
              "      <td>45</td>\n",
              "      <td>49</td>\n",
              "      <td>49</td>\n",
              "      <td>45</td>\n",
              "      <td>65</td>\n",
              "      <td>65</td>\n",
              "    </tr>\n",
              "    <tr>\n",
              "      <th>1</th>\n",
              "      <td>2</td>\n",
              "      <td>ivysaur</td>\n",
              "      <td>1</td>\n",
              "      <td>1.0</td>\n",
              "      <td>13.0</td>\n",
              "      <td>142</td>\n",
              "      <td>grass</td>\n",
              "      <td>poison</td>\n",
              "      <td>60</td>\n",
              "      <td>62</td>\n",
              "      <td>63</td>\n",
              "      <td>60</td>\n",
              "      <td>80</td>\n",
              "      <td>80</td>\n",
              "    </tr>\n",
              "    <tr>\n",
              "      <th>2</th>\n",
              "      <td>3</td>\n",
              "      <td>venusaur</td>\n",
              "      <td>1</td>\n",
              "      <td>2.0</td>\n",
              "      <td>100.0</td>\n",
              "      <td>236</td>\n",
              "      <td>grass</td>\n",
              "      <td>poison</td>\n",
              "      <td>80</td>\n",
              "      <td>82</td>\n",
              "      <td>83</td>\n",
              "      <td>80</td>\n",
              "      <td>100</td>\n",
              "      <td>100</td>\n",
              "    </tr>\n",
              "    <tr>\n",
              "      <th>3</th>\n",
              "      <td>4</td>\n",
              "      <td>charmander</td>\n",
              "      <td>1</td>\n",
              "      <td>0.6</td>\n",
              "      <td>8.5</td>\n",
              "      <td>62</td>\n",
              "      <td>fire</td>\n",
              "      <td>NaN</td>\n",
              "      <td>39</td>\n",
              "      <td>52</td>\n",
              "      <td>43</td>\n",
              "      <td>65</td>\n",
              "      <td>60</td>\n",
              "      <td>50</td>\n",
              "    </tr>\n",
              "    <tr>\n",
              "      <th>4</th>\n",
              "      <td>5</td>\n",
              "      <td>charmeleon</td>\n",
              "      <td>1</td>\n",
              "      <td>1.1</td>\n",
              "      <td>19.0</td>\n",
              "      <td>142</td>\n",
              "      <td>fire</td>\n",
              "      <td>NaN</td>\n",
              "      <td>58</td>\n",
              "      <td>64</td>\n",
              "      <td>58</td>\n",
              "      <td>80</td>\n",
              "      <td>80</td>\n",
              "      <td>65</td>\n",
              "    </tr>\n",
              "  </tbody>\n",
              "</table>\n",
              "</div>"
            ],
            "text/plain": [
              "   id     species  generation_id  ...  speed  special-attack  special-defense\n",
              "0   1   bulbasaur              1  ...     45              65               65\n",
              "1   2     ivysaur              1  ...     60              80               80\n",
              "2   3    venusaur              1  ...     80             100              100\n",
              "3   4  charmander              1  ...     65              60               50\n",
              "4   5  charmeleon              1  ...     80              80               65\n",
              "\n",
              "[5 rows x 14 columns]"
            ]
          },
          "metadata": {
            "tags": []
          },
          "execution_count": 3
        }
      ]
    },
    {
      "cell_type": "markdown",
      "metadata": {
        "id": "Zp1iOHobUnkQ"
      },
      "source": [
        "Assessing Data"
      ]
    },
    {
      "cell_type": "code",
      "metadata": {
        "colab": {
          "base_uri": "https://localhost:8080/"
        },
        "id": "srg346XlUViz",
        "outputId": "1c5e2fae-6757-444a-8e86-ae74cf8ce90e"
      },
      "source": [
        "pokemon.info()"
      ],
      "execution_count": 4,
      "outputs": [
        {
          "output_type": "stream",
          "text": [
            "<class 'pandas.core.frame.DataFrame'>\n",
            "RangeIndex: 807 entries, 0 to 806\n",
            "Data columns (total 14 columns):\n",
            " #   Column           Non-Null Count  Dtype  \n",
            "---  ------           --------------  -----  \n",
            " 0   id               807 non-null    int64  \n",
            " 1   species          807 non-null    object \n",
            " 2   generation_id    807 non-null    int64  \n",
            " 3   height           807 non-null    float64\n",
            " 4   weight           807 non-null    float64\n",
            " 5   base_experience  807 non-null    int64  \n",
            " 6   type_1           807 non-null    object \n",
            " 7   type_2           405 non-null    object \n",
            " 8   hp               807 non-null    int64  \n",
            " 9   attack           807 non-null    int64  \n",
            " 10  defense          807 non-null    int64  \n",
            " 11  speed            807 non-null    int64  \n",
            " 12  special-attack   807 non-null    int64  \n",
            " 13  special-defense  807 non-null    int64  \n",
            "dtypes: float64(2), int64(9), object(3)\n",
            "memory usage: 88.4+ KB\n"
          ],
          "name": "stdout"
        }
      ]
    },
    {
      "cell_type": "code",
      "metadata": {
        "colab": {
          "base_uri": "https://localhost:8080/"
        },
        "id": "VucU7TPzY-pS",
        "outputId": "80582357-7e45-4444-9797-41c1df3c53b9"
      },
      "source": [
        "pokemon.isnull().sum()"
      ],
      "execution_count": 5,
      "outputs": [
        {
          "output_type": "execute_result",
          "data": {
            "text/plain": [
              "id                   0\n",
              "species              0\n",
              "generation_id        0\n",
              "height               0\n",
              "weight               0\n",
              "base_experience      0\n",
              "type_1               0\n",
              "type_2             402\n",
              "hp                   0\n",
              "attack               0\n",
              "defense              0\n",
              "speed                0\n",
              "special-attack       0\n",
              "special-defense      0\n",
              "dtype: int64"
            ]
          },
          "metadata": {
            "tags": []
          },
          "execution_count": 5
        }
      ]
    },
    {
      "cell_type": "code",
      "metadata": {
        "colab": {
          "base_uri": "https://localhost:8080/",
          "height": 280
        },
        "id": "deTd5aI4UVb6",
        "outputId": "3c63aad5-8411-40a6-98aa-ea475ed825e2"
      },
      "source": [
        "sns.countplot(data=pokemon, x='generation_id');"
      ],
      "execution_count": 6,
      "outputs": [
        {
          "output_type": "display_data",
          "data": {
            "image/png": "[encoded data removed]",
            "text/plain": [
              "<Figure size 432x288 with 1 Axes>"
            ]
          },
          "metadata": {
            "tags": [],
            "needs_background": "light"
          }
        }
      ]
    },
    {
      "cell_type": "code",
      "metadata": {
        "id": "GjiPAnw5U_Xj"
      },
      "source": [
        "# Choose the first tuple of RGB colors\r\n",
        "base_color = sns.color_palette()[0]\r\n"
      ],
      "execution_count": 7,
      "outputs": []
    },
    {
      "cell_type": "code",
      "metadata": {
        "colab": {
          "base_uri": "https://localhost:8080/",
          "height": 280
        },
        "id": "LInWpyQjVEGO",
        "outputId": "8daa171b-0d60-423d-82a1-c46baac5ec3d"
      },
      "source": [
        "# Use the `color` argument\r\n",
        "sns.countplot(data=pokemon, x='generation_id', color=base_color);"
      ],
      "execution_count": 8,
      "outputs": [
        {
          "output_type": "display_data",
          "data": {
            "image/png": "[encoded data removed]",
            "text/plain": [
              "<Figure size 432x288 with 1 Axes>"
            ]
          },
          "metadata": {
            "tags": [],
            "needs_background": "light"
          }
        }
      ]
    },
    {
      "cell_type": "markdown",
      "metadata": {
        "id": "rszn-vEXWoM5"
      },
      "source": [
        "genration 1 and 5 are in higher count and genration 6, 7 are in lower coount in the countplot."
      ]
    },
    {
      "cell_type": "code",
      "metadata": {
        "colab": {
          "base_uri": "https://localhost:8080/",
          "height": 280
        },
        "id": "-2Id6iuFVOLf",
        "outputId": "129b0400-9604-465b-9be3-ea14d8bca31d"
      },
      "source": [
        "# Return the Series having unique values\r\n",
        "x = pokemon['generation_id'].unique()\r\n",
        "\r\n",
        "# Return the Series having frequency count of each unique value\r\n",
        "y = pokemon['generation_id'].value_counts(sort=False)\r\n",
        "\r\n",
        "plt.bar(x, y)\r\n",
        "\r\n",
        "# Labeling the axes\r\n",
        "plt.xlabel('generation_id')\r\n",
        "plt.ylabel('count')\r\n",
        "\r\n",
        "# Dsiplay the plot\r\n",
        "plt.show()"
      ],
      "execution_count": 9,
      "outputs": [
        {
          "output_type": "display_data",
          "data": {
            "image/png": "[encoded data removed]",
            "text/plain": [
              "<Figure size 432x288 with 1 Axes>"
            ]
          },
          "metadata": {
            "tags": [],
            "needs_background": "light"
          }
        }
      ]
    },
    {
      "cell_type": "code",
      "metadata": {
        "colab": {
          "base_uri": "https://localhost:8080/",
          "height": 280
        },
        "id": "UwBYfVWdVY4r",
        "outputId": "9f64f3b9-fcde-4bee-f519-9e887844bbc8"
      },
      "source": [
        "# Static-ordering the bars\r\n",
        "sns.countplot(data=pokemon, x='generation_id', color=base_color, order=[5,1,3,4,2,7,6]);\r\n",
        "\r\n",
        "# Dynamic-ordering the bars\r\n",
        "# The order of the display of the bars can be computed with the following logic.\r\n",
        "# Count the frequency of each unique value in the 'generation_id' column, and sort it in descending order\r\n",
        "# Returns a Series\r\n",
        "freq = pokemon['generation_id'].value_counts()\r\n",
        "\r\n",
        "# Get the indexes of the Series\r\n",
        "gen_order = freq.index\r\n",
        "\r\n",
        "# Plot the bar chart in the decreasing order of the frequency of the `generation_id`\r\n",
        "sns.countplot(data=pokemon, x='generation_id', color=base_color, order=gen_order);"
      ],
      "execution_count": 10,
      "outputs": [
        {
          "output_type": "display_data",
          "data": {
            "image/png": "[encoded data removed]",
            "text/plain": [
              "<Figure size 432x288 with 1 Axes>"
            ]
          },
          "metadata": {
            "tags": [],
            "needs_background": "light"
          }
        }
      ]
    },
    {
      "cell_type": "code",
      "metadata": {
        "colab": {
          "base_uri": "https://localhost:8080/",
          "height": 345
        },
        "id": "sIs37ff8VhPB",
        "outputId": "7d93bb90-ce76-4703-fe48-9b53fff029f5"
      },
      "source": [
        "# Plot the Pokemon type on a Vertical bar chart\r\n",
        "sns.countplot(data=pokemon, x='type_1', color=base_color);\r\n",
        "\r\n",
        "# Use xticks to rotate the category labels (not axes) counter-clockwise\r\n",
        "plt.xticks(rotation=90)"
      ],
      "execution_count": 11,
      "outputs": [
        {
          "output_type": "execute_result",
          "data": {
            "text/plain": [
              "(array([ 0,  1,  2,  3,  4,  5,  6,  7,  8,  9, 10, 11, 12, 13, 14, 15, 16,\n",
              "        17]), <a list of 18 Text major ticklabel objects>)"
            ]
          },
          "metadata": {
            "tags": []
          },
          "execution_count": 11
        },
        {
          "output_type": "display_data",
          "data": {
            "image/png": "[encoded data removed]",
            "text/plain": [
              "<Figure size 432x288 with 1 Axes>"
            ]
          },
          "metadata": {
            "tags": [],
            "needs_background": "light"
          }
        }
      ]
    },
    {
      "cell_type": "code",
      "metadata": {
        "colab": {
          "base_uri": "https://localhost:8080/",
          "height": 279
        },
        "id": "xrHZ-a0bVlCX",
        "outputId": "4f92bccd-3770-4e63-b691-499797581654"
      },
      "source": [
        "# Plot the Pokemon type on a Horizontal bar chart\r\n",
        "type_order = pokemon['type_1'].value_counts().index\r\n",
        "sns.countplot(data=pokemon, y='type_1', color=base_color, order=type_order);"
      ],
      "execution_count": 12,
      "outputs": [
        {
          "output_type": "display_data",
          "data": {
            "image/png": "[encoded data removed]",
            "text/plain": [
              "<Figure size 432x288 with 1 Axes>"
            ]
          },
          "metadata": {
            "tags": [],
            "needs_background": "light"
          }
        }
      ]
    },
    {
      "cell_type": "markdown",
      "metadata": {
        "id": "cyPyMxVAalOE"
      },
      "source": [
        "Wrangling data:"
      ]
    },
    {
      "cell_type": "code",
      "metadata": {
        "colab": {
          "base_uri": "https://localhost:8080/",
          "height": 363
        },
        "id": "qZdanh1-anlq",
        "outputId": "1962c715-b05e-4b38-8af6-3158ece60c99"
      },
      "source": [
        "pkmn_types = pokemon.melt(id_vars=['id', 'species'], \r\n",
        "                          value_vars=['type_1', 'type_2'], \r\n",
        "                          var_name='type_level', \r\n",
        "                          value_name='type')\r\n",
        "pkmn_types.head(10)"
      ],
      "execution_count": 13,
      "outputs": [
        {
          "output_type": "execute_result",
          "data": {
            "text/html": [
              "<div>\n",
              "<style scoped>\n",
              "    .dataframe tbody tr th:only-of-type {\n",
              "        vertical-align: middle;\n",
              "    }\n",
              "\n",
              "    .dataframe tbody tr th {\n",
              "        vertical-align: top;\n",
              "    }\n",
              "\n",
              "    .dataframe thead th {\n",
              "        text-align: right;\n",
              "    }\n",
              "</style>\n",
              "<table border=\"1\" class=\"dataframe\">\n",
              "  <thead>\n",
              "    <tr style=\"text-align: right;\">\n",
              "      <th></th>\n",
              "      <th>id</th>\n",
              "      <th>species</th>\n",
              "      <th>type_level</th>\n",
              "      <th>type</th>\n",
              "    </tr>\n",
              "  </thead>\n",
              "  <tbody>\n",
              "    <tr>\n",
              "      <th>0</th>\n",
              "      <td>1</td>\n",
              "      <td>bulbasaur</td>\n",
              "      <td>type_1</td>\n",
              "      <td>grass</td>\n",
              "    </tr>\n",
              "    <tr>\n",
              "      <th>1</th>\n",
              "      <td>2</td>\n",
              "      <td>ivysaur</td>\n",
              "      <td>type_1</td>\n",
              "      <td>grass</td>\n",
              "    </tr>\n",
              "    <tr>\n",
              "      <th>2</th>\n",
              "      <td>3</td>\n",
              "      <td>venusaur</td>\n",
              "      <td>type_1</td>\n",
              "      <td>grass</td>\n",
              "    </tr>\n",
              "    <tr>\n",
              "      <th>3</th>\n",
              "      <td>4</td>\n",
              "      <td>charmander</td>\n",
              "      <td>type_1</td>\n",
              "      <td>fire</td>\n",
              "    </tr>\n",
              "    <tr>\n",
              "      <th>4</th>\n",
              "      <td>5</td>\n",
              "      <td>charmeleon</td>\n",
              "      <td>type_1</td>\n",
              "      <td>fire</td>\n",
              "    </tr>\n",
              "    <tr>\n",
              "      <th>5</th>\n",
              "      <td>6</td>\n",
              "      <td>charizard</td>\n",
              "      <td>type_1</td>\n",
              "      <td>fire</td>\n",
              "    </tr>\n",
              "    <tr>\n",
              "      <th>6</th>\n",
              "      <td>7</td>\n",
              "      <td>squirtle</td>\n",
              "      <td>type_1</td>\n",
              "      <td>water</td>\n",
              "    </tr>\n",
              "    <tr>\n",
              "      <th>7</th>\n",
              "      <td>8</td>\n",
              "      <td>wartortle</td>\n",
              "      <td>type_1</td>\n",
              "      <td>water</td>\n",
              "    </tr>\n",
              "    <tr>\n",
              "      <th>8</th>\n",
              "      <td>9</td>\n",
              "      <td>blastoise</td>\n",
              "      <td>type_1</td>\n",
              "      <td>water</td>\n",
              "    </tr>\n",
              "    <tr>\n",
              "      <th>9</th>\n",
              "      <td>10</td>\n",
              "      <td>caterpie</td>\n",
              "      <td>type_1</td>\n",
              "      <td>bug</td>\n",
              "    </tr>\n",
              "  </tbody>\n",
              "</table>\n",
              "</div>"
            ],
            "text/plain": [
              "   id     species type_level   type\n",
              "0   1   bulbasaur     type_1  grass\n",
              "1   2     ivysaur     type_1  grass\n",
              "2   3    venusaur     type_1  grass\n",
              "3   4  charmander     type_1   fire\n",
              "4   5  charmeleon     type_1   fire\n",
              "5   6   charizard     type_1   fire\n",
              "6   7    squirtle     type_1  water\n",
              "7   8   wartortle     type_1  water\n",
              "8   9   blastoise     type_1  water\n",
              "9  10    caterpie     type_1    bug"
            ]
          },
          "metadata": {
            "tags": []
          },
          "execution_count": 13
        }
      ]
    },
    {
      "cell_type": "code",
      "metadata": {
        "colab": {
          "base_uri": "https://localhost:8080/"
        },
        "id": "qzmSXRUFbL9p",
        "outputId": "163b897f-2a40-4d62-badb-bcb48f587d0d"
      },
      "source": [
        "type_counts = pkmn_types.type.value_counts()\r\n",
        "type_counts"
      ],
      "execution_count": 14,
      "outputs": [
        {
          "output_type": "execute_result",
          "data": {
            "text/plain": [
              "water       131\n",
              "normal      109\n",
              "flying       98\n",
              "grass        97\n",
              "psychic      82\n",
              "bug          77\n",
              "poison       66\n",
              "fire         64\n",
              "ground       64\n",
              "rock         60\n",
              "fighting     54\n",
              "electric     48\n",
              "fairy        47\n",
              "steel        47\n",
              "dark         46\n",
              "dragon       45\n",
              "ghost        43\n",
              "ice          34\n",
              "Name: type, dtype: int64"
            ]
          },
          "metadata": {
            "tags": []
          },
          "execution_count": 14
        }
      ]
    },
    {
      "cell_type": "code",
      "metadata": {
        "colab": {
          "base_uri": "https://localhost:8080/",
          "height": 279
        },
        "id": "uRiRRLSqbZBj",
        "outputId": "483f7099-e18d-479d-f214-17990dd07d96"
      },
      "source": [
        "#Plot the horizontal bar charts\r\n",
        "type_order = type_counts.index\r\n",
        "base_color= sns.color_palette()[0]\r\n",
        "sns.countplot(data = pkmn_types, y = 'type', order = type_order, color = base_color )\r\n",
        "plt.show()"
      ],
      "execution_count": 15,
      "outputs": [
        {
          "output_type": "display_data",
          "data": {
            "image/png": "[encoded data removed]",
            "text/plain": [
              "<Figure size 432x288 with 1 Axes>"
            ]
          },
          "metadata": {
            "tags": [],
            "needs_background": "light"
          }
        }
      ]
    },
    {
      "cell_type": "markdown",
      "metadata": {
        "id": "fTHj4dm6dt9-"
      },
      "source": [
        "Plot a bar chart having the proportions, instead of the actual count, on one of the axes.\r\n"
      ]
    },
    {
      "cell_type": "code",
      "metadata": {
        "id": "QLP1hWTJcfWd",
        "colab": {
          "base_uri": "https://localhost:8080/"
        },
        "outputId": "3e19a7a4-fc50-4135-e9c6-a8ae7cea1d31"
      },
      "source": [
        "# Find the maximum proportion of bar\r\n",
        "# Returns the sum of all not-null values in `type` column\r\n",
        "n_pokemon = pkmn_types['type'].value_counts().sum()\r\n",
        "n_pokemon"
      ],
      "execution_count": 16,
      "outputs": [
        {
          "output_type": "execute_result",
          "data": {
            "text/plain": [
              "1212"
            ]
          },
          "metadata": {
            "tags": []
          },
          "execution_count": 16
        }
      ]
    },
    {
      "cell_type": "code",
      "metadata": {
        "colab": {
          "base_uri": "https://localhost:8080/"
        },
        "id": "w5ACtXNXeNbv",
        "outputId": "fd94c0e6-6920-4576-c164-8a4d1c2d8dcb"
      },
      "source": [
        "# Return the highest frequency in the `type` column\r\n",
        "max_type_count = type_counts[0]\r\n",
        "max_type_count"
      ],
      "execution_count": 17,
      "outputs": [
        {
          "output_type": "execute_result",
          "data": {
            "text/plain": [
              "131"
            ]
          },
          "metadata": {
            "tags": []
          },
          "execution_count": 17
        }
      ]
    },
    {
      "cell_type": "code",
      "metadata": {
        "colab": {
          "base_uri": "https://localhost:8080/"
        },
        "id": "JtF76aXaefLe",
        "outputId": "2e57f795-3301-4198-9dc9-13a720c7afa3"
      },
      "source": [
        "# Return the maximum proportion, or in other words, \r\n",
        "# compute the length of the longest bar in terms of the proportion\r\n",
        "max_prop = max_type_count / n_pokemon\r\n",
        "print(max_prop)"
      ],
      "execution_count": 18,
      "outputs": [
        {
          "output_type": "stream",
          "text": [
            "0.10808580858085809\n"
          ],
          "name": "stdout"
        }
      ]
    },
    {
      "cell_type": "code",
      "metadata": {
        "colab": {
          "base_uri": "https://localhost:8080/"
        },
        "id": "L_6s0zgnfDsR",
        "outputId": "9e570377-d401-443c-ec1e-54a127a7f997"
      },
      "source": [
        "# Use numpy.arange() function to produce a set of evenly spaced proportioned values \r\n",
        "# between 0 and max_prop, with a step size 2\\%\r\n",
        "tick_props = np.arange(0, max_prop, 0.02)\r\n",
        "tick_props"
      ],
      "execution_count": 19,
      "outputs": [
        {
          "output_type": "execute_result",
          "data": {
            "text/plain": [
              "array([0.  , 0.02, 0.04, 0.06, 0.08, 0.1 ])"
            ]
          },
          "metadata": {
            "tags": []
          },
          "execution_count": 19
        }
      ]
    },
    {
      "cell_type": "markdown",
      "metadata": {
        "id": "KYo2Wi-tfVHR"
      },
      "source": [
        "Create a list of String values that can be used as tick labels."
      ]
    },
    {
      "cell_type": "code",
      "metadata": {
        "colab": {
          "base_uri": "https://localhost:8080/"
        },
        "id": "g0WctPUSfVur",
        "outputId": "863eb019-58ae-4691-85ab-bd1966d88085"
      },
      "source": [
        "# Use a list comprehension to create tick_names that we will apply to the tick labels. \r\n",
        "# Pick each element `v` from the `tick_props`, and convert it into a formatted string.\r\n",
        "# `{:0.2f}` denotes that before formatting, we 2 digits of precision and `f` is used to represent floating point number.\r\n",
        "# Refer [here](https://docs.python.org/2/library/string.html#format-string-syntax) for more details\r\n",
        "tick_names = ['{:0.2f}'.format(v) for v in tick_props]\r\n",
        "tick_names"
      ],
      "execution_count": 20,
      "outputs": [
        {
          "output_type": "execute_result",
          "data": {
            "text/plain": [
              "['0.00', '0.02', '0.04', '0.06', '0.08', '0.10']"
            ]
          },
          "metadata": {
            "tags": []
          },
          "execution_count": 20
        }
      ]
    },
    {
      "cell_type": "code",
      "metadata": {
        "colab": {
          "base_uri": "https://localhost:8080/",
          "height": 279
        },
        "id": "2mZGthZYgprz",
        "outputId": "fc29105b-d529-45cb-b148-db9029ef0a4f"
      },
      "source": [
        "# Plot the bar chart, with new x-tick labels\r\n",
        "sns.countplot(data=pkmn_types, y='type', color=base_color, order=type_order);\r\n",
        "# Change the tick locations and labels\r\n",
        "plt.xticks(tick_props * n_pokemon, tick_names)\r\n",
        "plt.xlabel('proportion');"
      ],
      "execution_count": 21,
      "outputs": [
        {
          "output_type": "display_data",
          "data": {
            "image/png": "[encoded data removed]",
            "text/plain": [
              "<Figure size 432x288 with 1 Axes>"
            ]
          },
          "metadata": {
            "tags": [],
            "needs_background": "light"
          }
        }
      ]
    },
    {
      "cell_type": "code",
      "metadata": {
        "colab": {
          "base_uri": "https://localhost:8080/",
          "height": 309
        },
        "id": "XdffZwgmg7Xx",
        "outputId": "4d8a43df-fcf4-4b53-86cb-3809e3f3cc6f"
      },
      "source": [
        "# Considering the same chart from the Example 1 above, print the text (proportion) BELOW the bars\r\n",
        "base_color = sns.color_palette()[0]\r\n",
        "sns.countplot(data=pkmn_types, x='type', color=base_color, order=type_order);\r\n",
        "rcParams['figure.figsize'] = 12,4\r\n",
        "\r\n",
        "\r\n",
        "# Recalculating the type_counts just to have clarity.\r\n",
        "type_counts = pkmn_types['type'].value_counts()\r\n",
        "\r\n",
        "# get the current tick locations and labels\r\n",
        "locs, labels = plt.xticks(rotation=90) \r\n",
        "\r\n",
        "# loop through each pair of locations and labels\r\n",
        "for loc, label in zip(locs, labels):\r\n",
        "\r\n",
        "    # get the text property for the label to get the correct count\r\n",
        "    count = type_counts[label.get_text()]\r\n",
        "    pct_string = '{:0.1f}%'.format(100*count/n_pokemon)\r\n",
        "\r\n",
        "    # print the annotation just below the top of the bar\r\n",
        "    \r\n",
        "    plt.text(loc, count+2, pct_string, ha = 'center', color = 'black')"
      ],
      "execution_count": 22,
      "outputs": [
        {
          "output_type": "display_data",
          "data": {
            "image/png": "[encoded data removed]",
            "text/plain": [
              "<Figure size 432x288 with 1 Axes>"
            ]
          },
          "metadata": {
            "tags": [],
            "needs_background": "light"
          }
        }
      ]
    },
    {
      "cell_type": "code",
      "metadata": {
        "id": "oWYC_2H9mOIs",
        "colab": {
          "base_uri": "https://localhost:8080/",
          "height": 320
        },
        "outputId": "1d7890d9-dcb0-4b21-f474-e035e166f5f5"
      },
      "source": [
        "plt.figure(figsize=[20,5])\r\n",
        "# histogram on left, example of too-large bin size\r\n",
        "# 1 row, 2 cols, subplot 1\r\n",
        "plt.subplot(1,2,1)\r\n",
        "bins = np.arange(0, pokemon['speed'].max()+4, 4)\r\n",
        "plt.hist(data = pokemon, x = 'speed', bins=bins)\r\n",
        "# histogram on right, example of too-small bin size\r\n",
        "#plt.subplot(1, 2, 2) # 1 row, 2 cols, subplot 2\r\n",
        "bins = np.arange(0, pokemon['speed'].max()+1/4, 1/4)\r\n",
        "plt.hist(data = pokemon, x = 'speed', bins = bins);"
      ],
      "execution_count": 23,
      "outputs": [
        {
          "output_type": "display_data",
          "data": {
            "image/png": "[encoded data removed]",
            "text/plain": [
              "<Figure size 1440x360 with 1 Axes>"
            ]
          },
          "metadata": {
            "tags": [],
            "needs_background": "light"
          }
        }
      ]
    },
    {
      "cell_type": "code",
      "metadata": {
        "id": "rXr5GH9CYSWl"
      },
      "source": [
        ""
      ],
      "execution_count": 23,
      "outputs": []
    },
    {
      "cell_type": "markdown",
      "metadata": {
        "id": "UIZWN_divF6e"
      },
      "source": [
        "Scale the x-axis to log-type, change the axis limits, and increase the x-ticks"
      ]
    },
    {
      "cell_type": "code",
      "metadata": {
        "colab": {
          "base_uri": "https://localhost:8080/"
        },
        "id": "rSlN0BwGYj10",
        "outputId": "07bfbfea-2f93-4c31-b79e-e4ee4f395b0c"
      },
      "source": [
        "pokemon['weight'].describe()"
      ],
      "execution_count": 24,
      "outputs": [
        {
          "output_type": "execute_result",
          "data": {
            "text/plain": [
              "count    807.000000\n",
              "mean      61.771128\n",
              "std      111.519355\n",
              "min        0.100000\n",
              "25%        9.000000\n",
              "50%       27.000000\n",
              "75%       63.000000\n",
              "max      999.900000\n",
              "Name: weight, dtype: float64"
            ]
          },
          "metadata": {
            "tags": []
          },
          "execution_count": 24
        }
      ]
    },
    {
      "cell_type": "code",
      "metadata": {
        "colab": {
          "base_uri": "https://localhost:8080/"
        },
        "id": "I-QbMTaKYxpf",
        "outputId": "62b805bd-2fcb-4a2e-867b-1c22dbe451ad"
      },
      "source": [
        "np.log10(pokemon['weight'].describe()) #min weight is 1 and max weight is 3, we choose ticks according these values"
      ],
      "execution_count": 25,
      "outputs": [
        {
          "output_type": "execute_result",
          "data": {
            "text/plain": [
              "count    2.906874\n",
              "mean     1.790786\n",
              "std      2.047350\n",
              "min     -1.000000\n",
              "25%      0.954243\n",
              "50%      1.431364\n",
              "75%      1.799341\n",
              "max      2.999957\n",
              "Name: weight, dtype: float64"
            ]
          },
          "metadata": {
            "tags": []
          },
          "execution_count": 25
        }
      ]
    },
    {
      "cell_type": "code",
      "metadata": {
        "colab": {
          "base_uri": "https://localhost:8080/",
          "height": 265
        },
        "id": "-mg77UcFvHyO",
        "outputId": "2a5cc170-e544-40e7-f9a5-16e81477bebd"
      },
      "source": [
        "# Get the ticks for bins between [0 - maximum weight]\r\n",
        "bins = 10 ** np.arange(-1, 3+0.1, 0.1)\r\n",
        "\r\n",
        "# Generate the x-ticks you want to apply\r\n",
        "ticks = [0.1, 0.3, 1, 3, 10, 30, 100, 300, 1000]\r\n",
        "# Convert ticks into string values, to be displaye dlong the x-axis\r\n",
        "labels = ['{}'.format(v) for v in ticks]\r\n",
        "\r\n",
        "# Plot the histogram\r\n",
        "plt.hist(data=pokemon, x='weight', bins=bins);\r\n",
        "\r\n",
        "# The argument in the xscale() represents the axis scale type to apply.\r\n",
        "# The possible values are: {\"linear\", \"log\", \"symlog\", \"logit\", ...}\r\n",
        "plt.xscale('log')\r\n",
        "\r\n",
        "# Apply x-ticks                      #It is important that the xticks are specified after xscale since that function has its own built-in tick settings.\r\n",
        "plt.xticks(ticks, labels);"
      ],
      "execution_count": 26,
      "outputs": [
        {
          "output_type": "display_data",
          "data": {
            "image/png": "[encoded data removed]",
            "text/plain": [
              "<Figure size 864x288 with 1 Axes>"
            ]
          },
          "metadata": {
            "tags": [],
            "needs_background": "light"
          }
        }
      ]
    },
    {
      "cell_type": "markdown",
      "metadata": {
        "id": "-DyewHAeaBj2"
      },
      "source": [
        "Custom scaling the given data Series, instead of using the built-in log scale"
      ]
    },
    {
      "cell_type": "code",
      "metadata": {
        "colab": {
          "base_uri": "https://localhost:8080/",
          "height": 392
        },
        "id": "34BRMRwNaCqL",
        "outputId": "e073865d-e019-4622-9eb8-9df4fe9c3a86"
      },
      "source": [
        "def sqrt_trans(x, inverse = False):\r\n",
        "  if not inverse:\r\n",
        "    return np.sqrt(x)\r\n",
        "  else:\r\n",
        "    return x**2\r\n",
        "  \r\n",
        "bin_edges = np.arange(0, sqrt_trans(pokemon['weight']).max()+1, 1)\r\n",
        "#plot the scaled data\r\n",
        "\r\n",
        "plt.hist(pokemon['weight'].apply(sqrt_trans), bins = bin_edges)"
      ],
      "execution_count": 27,
      "outputs": [
        {
          "output_type": "execute_result",
          "data": {
            "text/plain": [
              "(array([ 23.,  71., 105.,  95.,  91.,  99.,  61.,  61.,  34.,  40.,  28.,\n",
              "         15.,  13.,   8.,  19.,   8.,   6.,   6.,   9.,   1.,   3.,   1.,\n",
              "          1.,   1.,   0.,   0.,   1.,   1.,   1.,   1.,   2.,   2.]),\n",
              " array([ 0.,  1.,  2.,  3.,  4.,  5.,  6.,  7.,  8.,  9., 10., 11., 12.,\n",
              "        13., 14., 15., 16., 17., 18., 19., 20., 21., 22., 23., 24., 25.,\n",
              "        26., 27., 28., 29., 30., 31., 32.]),\n",
              " <a list of 32 Patch objects>)"
            ]
          },
          "metadata": {
            "tags": []
          },
          "execution_count": 27
        },
        {
          "output_type": "display_data",
          "data": {
            "image/png": "[encoded data removed]",
            "text/plain": [
              "<Figure size 864x288 with 1 Axes>"
            ]
          },
          "metadata": {
            "tags": [],
            "needs_background": "light"
          }
        }
      ]
    },
    {
      "cell_type": "code",
      "metadata": {
        "colab": {
          "base_uri": "https://localhost:8080/",
          "height": 265
        },
        "id": "VhH2uciNcFAF",
        "outputId": "4a1fe3c7-4868-4c4a-c8ea-c764924c1468"
      },
      "source": [
        "#using xticks\r\n",
        "# Identify the tick-locations\r\n",
        "plt.hist(pokemon.weight.apply(sqrt_trans), bins = bin_edges)\r\n",
        "tick_locs = np.arange(0, sqrt_trans(pokemon.weight.max())+10, 10)\r\n",
        "plt.xticks(tick_locs, sqrt_trans(tick_locs, inverse=True).astype(int))\r\n",
        "plt.show()"
      ],
      "execution_count": 28,
      "outputs": [
        {
          "output_type": "display_data",
          "data": {
            "image/png": "[encoded data removed]",
            "text/plain": [
              "<Figure size 864x288 with 1 Axes>"
            ]
          },
          "metadata": {
            "tags": [],
            "needs_background": "light"
          }
        }
      ]
    },
    {
      "cell_type": "markdown",
      "metadata": {
        "id": "qPs2_b4ujW_P"
      },
      "source": [
        "## Displot"
      ]
    },
    {
      "cell_type": "code",
      "metadata": {
        "colab": {
          "base_uri": "https://localhost:8080/",
          "height": 355
        },
        "id": "s9kDtRz3buQI",
        "outputId": "6b7f5b95-076e-4dcc-a4bc-5e420f53986b"
      },
      "source": [
        "#older version distplot.\r\n",
        "sns.distplot(pokemon['speed'])"
      ],
      "execution_count": 30,
      "outputs": [
        {
          "output_type": "stream",
          "text": [
            "/usr/local/lib/python3.7/dist-packages/seaborn/distributions.py:2557: FutureWarning: `distplot` is a deprecated function and will be removed in a future version. Please adapt your code to use either `displot` (a figure-level function with similar flexibility) or `histplot` (an axes-level function for histograms).\n",
            "  warnings.warn(msg, FutureWarning)\n"
          ],
          "name": "stderr"
        },
        {
          "output_type": "execute_result",
          "data": {
            "text/plain": [
              "<matplotlib.axes._subplots.AxesSubplot at 0x7ff3b10de2d0>"
            ]
          },
          "metadata": {
            "tags": []
          },
          "execution_count": 30
        },
        {
          "output_type": "display_data",
          "data": {
            "image/png": "[encoded data removed]",
            "text/plain": [
              "<Figure size 864x288 with 1 Axes>"
            ]
          },
          "metadata": {
            "tags": [],
            "needs_background": "light"
          }
        }
      ]
    },
    {
      "cell_type": "code",
      "metadata": {
        "colab": {
          "base_uri": "https://localhost:8080/",
          "height": 387
        },
        "id": "fIKy8MQslQLp",
        "outputId": "6866b27b-3552-4a68-ce03-878aada97c45"
      },
      "source": [
        "#newer version distplot\r\n",
        "sns.displot(pokemon.speed, kind = 'hist')"
      ],
      "execution_count": 31,
      "outputs": [
        {
          "output_type": "execute_result",
          "data": {
            "text/plain": [
              "<seaborn.axisgrid.FacetGrid at 0x7ff3a31287d0>"
            ]
          },
          "metadata": {
            "tags": []
          },
          "execution_count": 31
        },
        {
          "output_type": "display_data",
          "data": {
            "image/png": "[encoded data removed]",
            "text/plain": [
              "<Figure size 360x360 with 1 Axes>"
            ]
          },
          "metadata": {
            "tags": [],
            "needs_background": "light"
          }
        }
      ]
    },
    {
      "cell_type": "code",
      "metadata": {
        "colab": {
          "base_uri": "https://localhost:8080/",
          "height": 387
        },
        "id": "ATM8EckwliiW",
        "outputId": "b873c4e8-0e09-45b4-cad6-26b061408bb0"
      },
      "source": [
        "sns.displot(pokemon.speed, kind = 'kde')"
      ],
      "execution_count": 32,
      "outputs": [
        {
          "output_type": "execute_result",
          "data": {
            "text/plain": [
              "<seaborn.axisgrid.FacetGrid at 0x7ff3a2f5b7d0>"
            ]
          },
          "metadata": {
            "tags": []
          },
          "execution_count": 32
        },
        {
          "output_type": "display_data",
          "data": {
            "image/png": "[encoded data removed]",
            "text/plain": [
              "<Figure size 360x360 with 1 Axes>"
            ]
          },
          "metadata": {
            "tags": [],
            "needs_background": "light"
          }
        }
      ]
    },
    {
      "cell_type": "code",
      "metadata": {
        "id": "hziB0lN4jrRZ"
      },
      "source": [
        ""
      ],
      "execution_count": null,
      "outputs": []
    }
  ]
}